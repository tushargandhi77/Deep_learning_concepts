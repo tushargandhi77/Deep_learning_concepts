{
 "cells": [
  {
   "cell_type": "code",
   "execution_count": 15,
   "id": "initial_id",
   "metadata": {
    "collapsed": true,
    "ExecuteTime": {
     "end_time": "2024-02-24T04:55:58.750728400Z",
     "start_time": "2024-02-24T04:55:56.835482700Z"
    }
   },
   "outputs": [],
   "source": [
    "import tensorflow as tf\n",
    "import matplotlib.pyplot as plt\n",
    "from tensorflow.keras.datasets import imdb\n",
    "from tensorflow.keras.preprocessing.sequence import pad_sequences\n",
    "from tensorflow.keras.models import Sequential\n",
    "from tensorflow.keras.layers import Embedding,SimpleRNN,Dense,LSTM,GRU"
   ]
  },
  {
   "cell_type": "code",
   "execution_count": 2,
   "outputs": [],
   "source": [
    "(x_train,y_train),(x_test,y_test)=imdb.load_data(num_words=10000)\n",
    "\n",
    "x_train = pad_sequences(x_train,maxlen=100)\n",
    "x_test = pad_sequences(x_test,maxlen=100)"
   ],
   "metadata": {
    "collapsed": false,
    "ExecuteTime": {
     "end_time": "2024-02-24T04:30:08.882825600Z",
     "start_time": "2024-02-24T04:30:04.209646800Z"
    }
   },
   "id": "4088a6af27ada405"
  },
  {
   "cell_type": "code",
   "execution_count": 3,
   "outputs": [
    {
     "name": "stdout",
     "output_type": "stream",
     "text": [
      "Model: \"sequential\"\n",
      "_________________________________________________________________\n",
      " Layer (type)                Output Shape              Param #   \n",
      "=================================================================\n",
      " embedding (Embedding)       (None, 100, 32)           320000    \n",
      "                                                                 \n",
      " simple_rnn (SimpleRNN)      (None, 100, 5)            190       \n",
      "                                                                 \n",
      " simple_rnn_1 (SimpleRNN)    (None, 5)                 55        \n",
      "                                                                 \n",
      " dense (Dense)               (None, 1)                 6         \n",
      "                                                                 \n",
      "=================================================================\n",
      "Total params: 320251 (1.22 MB)\n",
      "Trainable params: 320251 (1.22 MB)\n",
      "Non-trainable params: 0 (0.00 Byte)\n",
      "_________________________________________________________________\n"
     ]
    }
   ],
   "source": [
    "# Deep RNN\n",
    "model=Sequential([\n",
    "    Embedding(10000,32,input_length=100), # Embedded layer to convert word to vector\n",
    "    SimpleRNN(5,return_sequences=True),\n",
    "    SimpleRNN(5),\n",
    "    Dense(1,activation='sigmoid')\n",
    "])\n",
    "\n",
    "model.summary()"
   ],
   "metadata": {
    "collapsed": false,
    "ExecuteTime": {
     "end_time": "2024-02-24T04:32:40.054982100Z",
     "start_time": "2024-02-24T04:32:39.496477200Z"
    }
   },
   "id": "8557f3435f3acdfd"
  },
  {
   "cell_type": "code",
   "execution_count": 4,
   "outputs": [],
   "source": [
    "model.compile(optimizer='adam',loss='binary_crossentropy',metrics=['accuracy'])"
   ],
   "metadata": {
    "collapsed": false,
    "ExecuteTime": {
     "end_time": "2024-02-24T04:40:26.240935800Z",
     "start_time": "2024-02-24T04:40:26.125060700Z"
    }
   },
   "id": "8af066bde5a8d7aa"
  },
  {
   "cell_type": "code",
   "execution_count": 5,
   "outputs": [
    {
     "name": "stdout",
     "output_type": "stream",
     "text": [
      "Epoch 1/10\n",
      "782/782 [==============================] - 22s 26ms/step - loss: 0.6479 - accuracy: 0.6051 - val_loss: 0.5196 - val_accuracy: 0.7595\n",
      "Epoch 2/10\n",
      "782/782 [==============================] - 22s 28ms/step - loss: 0.4501 - accuracy: 0.7948 - val_loss: 0.5243 - val_accuracy: 0.7462\n",
      "Epoch 3/10\n",
      "782/782 [==============================] - 22s 28ms/step - loss: 0.3165 - accuracy: 0.8718 - val_loss: 0.4859 - val_accuracy: 0.7913\n",
      "Epoch 4/10\n",
      "782/782 [==============================] - 21s 27ms/step - loss: 0.2253 - accuracy: 0.9155 - val_loss: 0.5245 - val_accuracy: 0.7908\n",
      "Epoch 5/10\n",
      "782/782 [==============================] - 20s 26ms/step - loss: 0.1593 - accuracy: 0.9440 - val_loss: 0.5667 - val_accuracy: 0.7915\n",
      "Epoch 6/10\n",
      "782/782 [==============================] - 23s 30ms/step - loss: 0.1214 - accuracy: 0.9600 - val_loss: 0.6674 - val_accuracy: 0.7777\n",
      "Epoch 7/10\n",
      "782/782 [==============================] - 22s 28ms/step - loss: 0.0951 - accuracy: 0.9697 - val_loss: 0.7127 - val_accuracy: 0.7758\n",
      "Epoch 8/10\n",
      "782/782 [==============================] - 22s 28ms/step - loss: 0.0797 - accuracy: 0.9754 - val_loss: 0.7641 - val_accuracy: 0.7878\n",
      "Epoch 9/10\n",
      "782/782 [==============================] - 21s 27ms/step - loss: 0.0785 - accuracy: 0.9756 - val_loss: 0.7855 - val_accuracy: 0.7788\n",
      "Epoch 10/10\n",
      "782/782 [==============================] - 21s 27ms/step - loss: 0.0576 - accuracy: 0.9824 - val_loss: 0.8586 - val_accuracy: 0.7810\n"
     ]
    }
   ],
   "source": [
    "history = model.fit(x_train,y_train,epochs=10,batch_size=32,validation_data=(x_test,y_test))"
   ],
   "metadata": {
    "collapsed": false,
    "ExecuteTime": {
     "end_time": "2024-02-24T04:44:41.130863600Z",
     "start_time": "2024-02-24T04:41:04.800589900Z"
    }
   },
   "id": "2871048a5aee90a9"
  },
  {
   "cell_type": "code",
   "execution_count": 16,
   "outputs": [
    {
     "data": {
      "text/plain": "<Figure size 640x480 with 1 Axes>",
      "image/png": "[encoded data removed]"
     },
     "metadata": {},
     "output_type": "display_data"
    }
   ],
   "source": [
    "\n",
    "plt.plot(history.history['loss'],color='red',label='train')\n",
    "plt.plot(history.history['val_loss'],color='blue',label='validation')\n",
    "plt.legend()\n",
    "plt.show()"
   ],
   "metadata": {
    "collapsed": false,
    "ExecuteTime": {
     "end_time": "2024-02-24T04:56:09.385931700Z",
     "start_time": "2024-02-24T04:56:08.559266100Z"
    }
   },
   "id": "5e79c8469ffde645"
  },
  {
   "cell_type": "code",
   "execution_count": 9,
   "outputs": [
    {
     "name": "stdout",
     "output_type": "stream",
     "text": [
      "Model: \"sequential_1\"\n",
      "_________________________________________________________________\n",
      " Layer (type)                Output Shape              Param #   \n",
      "=================================================================\n",
      " embedding_3 (Embedding)     (None, 100, 32)           320000    \n",
      "                                                                 \n",
      " lstm (LSTM)                 (None, 100, 5)            760       \n",
      "                                                                 \n",
      " lstm_1 (LSTM)               (None, 5)                 220       \n",
      "                                                                 \n",
      " dense_1 (Dense)             (None, 1)                 6         \n",
      "                                                                 \n",
      "=================================================================\n",
      "Total params: 320986 (1.22 MB)\n",
      "Trainable params: 320986 (1.22 MB)\n",
      "Non-trainable params: 0 (0.00 Byte)\n",
      "_________________________________________________________________\n"
     ]
    }
   ],
   "source": [
    "# Deep LSTM\n",
    "model_lstm=Sequential([\n",
    "    Embedding(10000,32,input_length=100), # Embedded layer to convert word to vector\n",
    "    LSTM(5,return_sequences=True),\n",
    "    LSTM(5),\n",
    "    Dense(1,activation='sigmoid')\n",
    "])\n",
    "\n",
    "model_lstm.summary()"
   ],
   "metadata": {
    "collapsed": false,
    "ExecuteTime": {
     "end_time": "2024-02-24T04:45:33.961513200Z",
     "start_time": "2024-02-24T04:45:33.295621500Z"
    }
   },
   "id": "bbf3be88c2bf81f8"
  },
  {
   "cell_type": "code",
   "execution_count": 10,
   "outputs": [],
   "source": [
    "model_lstm.compile(optimizer='adam',loss='binary_crossentropy',metrics=['accuracy'])"
   ],
   "metadata": {
    "collapsed": false,
    "ExecuteTime": {
     "end_time": "2024-02-24T04:45:59.361031200Z",
     "start_time": "2024-02-24T04:45:59.326090400Z"
    }
   },
   "id": "3dc5a38f0c8023ee"
  },
  {
   "cell_type": "code",
   "execution_count": 18,
   "outputs": [
    {
     "name": "stdout",
     "output_type": "stream",
     "text": [
      "Epoch 1/10\n",
      "782/782 [==============================] - 36s 46ms/step - loss: 0.0687 - accuracy: 0.9821 - val_loss: 0.5703 - val_accuracy: 0.8208\n",
      "Epoch 2/10\n",
      "782/782 [==============================] - 36s 47ms/step - loss: 0.0593 - accuracy: 0.9851 - val_loss: 0.6491 - val_accuracy: 0.8278\n",
      "Epoch 3/10\n",
      "782/782 [==============================] - 36s 46ms/step - loss: 0.0523 - accuracy: 0.9871 - val_loss: 0.6310 - val_accuracy: 0.8284\n",
      "Epoch 4/10\n",
      "782/782 [==============================] - 33s 42ms/step - loss: 0.0443 - accuracy: 0.9898 - val_loss: 0.6482 - val_accuracy: 0.8284\n",
      "Epoch 5/10\n",
      "782/782 [==============================] - 35s 45ms/step - loss: 0.0467 - accuracy: 0.9883 - val_loss: 0.7444 - val_accuracy: 0.8245\n",
      "Epoch 6/10\n",
      "782/782 [==============================] - 36s 46ms/step - loss: 0.0351 - accuracy: 0.9924 - val_loss: 0.6729 - val_accuracy: 0.8281\n",
      "Epoch 7/10\n",
      "782/782 [==============================] - 34s 44ms/step - loss: 0.0310 - accuracy: 0.9938 - val_loss: 0.7645 - val_accuracy: 0.8255\n",
      "Epoch 8/10\n",
      "782/782 [==============================] - 35s 44ms/step - loss: 0.0344 - accuracy: 0.9927 - val_loss: 0.7563 - val_accuracy: 0.8250\n",
      "Epoch 9/10\n",
      "782/782 [==============================] - 36s 46ms/step - loss: 0.0377 - accuracy: 0.9910 - val_loss: 0.7267 - val_accuracy: 0.8258\n",
      "Epoch 10/10\n",
      "782/782 [==============================] - 35s 45ms/step - loss: 0.0333 - accuracy: 0.9930 - val_loss: 0.7348 - val_accuracy: 0.8266\n"
     ]
    }
   ],
   "source": [
    "history_lstm = model_lstm.fit(x_train,y_train,epochs=10,batch_size=32,validation_data=(x_test,y_test))"
   ],
   "metadata": {
    "collapsed": false,
    "ExecuteTime": {
     "end_time": "2024-02-24T05:02:36.850086100Z",
     "start_time": "2024-02-24T04:56:44.170013300Z"
    }
   },
   "id": "3e67c7121c50224f"
  },
  {
   "cell_type": "code",
   "execution_count": 20,
   "outputs": [
    {
     "data": {
      "text/plain": "<Figure size 640x480 with 1 Axes>",
      "image/png": "[encoded data removed]"
     },
     "metadata": {},
     "output_type": "display_data"
    }
   ],
   "source": [
    "plt.plot(history_lstm.history['loss'],color='red',label='train')\n",
    "plt.plot(history_lstm.history['val_loss'],color='blue',label='test')\n",
    "plt.legend()\n",
    "plt.show()"
   ],
   "metadata": {
    "collapsed": false,
    "ExecuteTime": {
     "end_time": "2024-02-24T05:05:05.678473100Z",
     "start_time": "2024-02-24T05:05:05.524886300Z"
    }
   },
   "id": "c44ea8aa7959daf7"
  },
  {
   "cell_type": "code",
   "execution_count": 22,
   "outputs": [
    {
     "name": "stdout",
     "output_type": "stream",
     "text": [
      "Model: \"sequential_3\"\n",
      "_________________________________________________________________\n",
      " Layer (type)                Output Shape              Param #   \n",
      "=================================================================\n",
      " embedding_5 (Embedding)     (None, 100, 32)           320000    \n",
      "                                                                 \n",
      " gru_2 (GRU)                 (None, 100, 5)            585       \n",
      "                                                                 \n",
      " gru_3 (GRU)                 (None, 5)                 180       \n",
      "                                                                 \n",
      " dense_3 (Dense)             (None, 1)                 6         \n",
      "                                                                 \n",
      "=================================================================\n",
      "Total params: 320771 (1.22 MB)\n",
      "Trainable params: 320771 (1.22 MB)\n",
      "Non-trainable params: 0 (0.00 Byte)\n",
      "_________________________________________________________________\n"
     ]
    }
   ],
   "source": [
    "# GRU Models\n",
    "\n",
    "model_gru=Sequential()\n",
    "\n",
    "model_gru.add(Embedding(10000,32,input_length=100))\n",
    "model_gru.add(GRU(5,return_sequences=True))\n",
    "model_gru.add(GRU(5))\n",
    "model_gru.add(Dense(1,activation='sigmoid'))\n",
    "\n",
    "model_gru.summary()"
   ],
   "metadata": {
    "collapsed": false,
    "ExecuteTime": {
     "end_time": "2024-02-24T05:06:03.678955300Z",
     "start_time": "2024-02-24T05:06:03.301963500Z"
    }
   },
   "id": "d2091d30eedd75c3"
  },
  {
   "cell_type": "code",
   "execution_count": 24,
   "outputs": [],
   "source": [
    "model_gru.compile(optimizer='adam',loss='binary_crossentropy',metrics=['accuracy'])"
   ],
   "metadata": {
    "collapsed": false,
    "ExecuteTime": {
     "end_time": "2024-02-24T05:06:08.569829100Z",
     "start_time": "2024-02-24T05:06:08.551876800Z"
    }
   },
   "id": "a379a9d0972dd433"
  },
  {
   "cell_type": "code",
   "execution_count": 25,
   "outputs": [
    {
     "name": "stdout",
     "output_type": "stream",
     "text": [
      "Epoch 1/10\n",
      "782/782 [==============================] - 39s 45ms/step - loss: 0.5017 - accuracy: 0.7518 - val_loss: 0.3843 - val_accuracy: 0.8352\n",
      "Epoch 2/10\n",
      "782/782 [==============================] - 41s 52ms/step - loss: 0.3051 - accuracy: 0.8770 - val_loss: 0.3571 - val_accuracy: 0.8494\n",
      "Epoch 3/10\n",
      "782/782 [==============================] - 36s 46ms/step - loss: 0.2267 - accuracy: 0.9163 - val_loss: 0.4297 - val_accuracy: 0.8217\n",
      "Epoch 4/10\n",
      "782/782 [==============================] - 36s 46ms/step - loss: 0.1801 - accuracy: 0.9368 - val_loss: 0.4095 - val_accuracy: 0.8420\n",
      "Epoch 5/10\n",
      "782/782 [==============================] - 38s 48ms/step - loss: 0.1355 - accuracy: 0.9566 - val_loss: 0.4786 - val_accuracy: 0.8322\n",
      "Epoch 6/10\n",
      "782/782 [==============================] - 40s 51ms/step - loss: 0.1050 - accuracy: 0.9676 - val_loss: 0.5246 - val_accuracy: 0.8301\n",
      "Epoch 7/10\n",
      "782/782 [==============================] - 37s 47ms/step - loss: 0.0796 - accuracy: 0.9785 - val_loss: 0.6128 - val_accuracy: 0.8244\n",
      "Epoch 8/10\n",
      "782/782 [==============================] - 44s 57ms/step - loss: 0.0649 - accuracy: 0.9827 - val_loss: 0.6653 - val_accuracy: 0.8219\n",
      "Epoch 9/10\n",
      "782/782 [==============================] - 42s 54ms/step - loss: 0.0578 - accuracy: 0.9841 - val_loss: 0.6688 - val_accuracy: 0.8237\n",
      "Epoch 10/10\n",
      "782/782 [==============================] - 39s 49ms/step - loss: 0.0489 - accuracy: 0.9868 - val_loss: 0.7461 - val_accuracy: 0.8184\n"
     ]
    }
   ],
   "source": [
    "history_gru = model_gru.fit(x_train,y_train,epochs=10,validation_data=(x_test,y_test),batch_size=32)"
   ],
   "metadata": {
    "collapsed": false,
    "ExecuteTime": {
     "end_time": "2024-02-24T05:12:42.738116400Z",
     "start_time": "2024-02-24T05:06:10.686615200Z"
    }
   },
   "id": "ddc2bdf6a5ad3186"
  },
  {
   "cell_type": "code",
   "execution_count": 26,
   "outputs": [
    {
     "data": {
      "text/plain": "<Figure size 640x480 with 1 Axes>",
      "image/png": "[encoded data removed]"
     },
     "metadata": {},
     "output_type": "display_data"
    }
   ],
   "source": [
    "plt.plot(history_gru.history['loss'],color='red',label='train')\n",
    "plt.plot(history_gru.history['val_loss'],color='blue',label='val')\n",
    "plt.legend()\n",
    "plt.show()"
   ],
   "metadata": {
    "collapsed": false,
    "ExecuteTime": {
     "end_time": "2024-02-24T05:13:44.960153900Z",
     "start_time": "2024-02-24T05:13:44.825484600Z"
    }
   },
   "id": "c33eb8b8d5a9b447"
  },
  {
   "cell_type": "code",
   "execution_count": null,
   "outputs": [],
   "source": [],
   "metadata": {
    "collapsed": false
   },
   "id": "8aca99ea788b579e"
  }
 ],
 "metadata": {
  "kernelspec": {
   "display_name": "Python 3",
   "language": "python",
   "name": "python3"
  },
  "language_info": {
   "codemirror_mode": {
    "name": "ipython",
    "version": 2
   },
   "file_extension": ".py",
   "mimetype": "text/x-python",
   "name": "python",
   "nbconvert_exporter": "python",
   "pygments_lexer": "ipython2",
   "version": "2.7.6"
  }
 },
 "nbformat": 4,
 "nbformat_minor": 5
}
