{
 "cells": [
  {
   "cell_type": "code",
   "execution_count": 12,
   "id": "initial_id",
   "metadata": {
    "collapsed": true,
    "ExecuteTime": {
     "end_time": "2023-12-19T17:56:57.975280100Z",
     "start_time": "2023-12-19T17:56:49.648925500Z"
    }
   },
   "outputs": [],
   "source": [
    "import cv2\n",
    "import os\n",
    "import random\n",
    "import numpy as np\n",
    "import tensorflow as tf\n",
    "from tensorflow import keras\n",
    "from keras import Sequential\n",
    "from keras.layers import Dense, Conv2D,MaxPool2D,Flatten,Dropout,BatchNormalization"
   ]
  },
  {
   "cell_type": "code",
   "execution_count": 2,
   "outputs": [],
   "source": [
    "mydir = 'train'"
   ],
   "metadata": {
    "collapsed": false,
    "ExecuteTime": {
     "end_time": "2023-12-19T17:51:51.953999200Z",
     "start_time": "2023-12-19T17:51:51.910787300Z"
    }
   },
   "id": "c9fae08044e9c2ae"
  },
  {
   "cell_type": "code",
   "execution_count": 3,
   "outputs": [],
   "source": [
    "categories = ['cats','dogs']"
   ],
   "metadata": {
    "collapsed": false,
    "ExecuteTime": {
     "end_time": "2023-12-19T17:52:28.037526200Z",
     "start_time": "2023-12-19T17:52:27.916084600Z"
    }
   },
   "id": "eddd3a99b8c445bb"
  },
  {
   "cell_type": "code",
   "execution_count": 4,
   "outputs": [],
   "source": [
    "data = []\n",
    "\n",
    "for i in categories:\n",
    "    folder_path = os.path.join(mydir,i)\n",
    "    \n",
    "    if i=='cats':\n",
    "        label = 0\n",
    "    else:\n",
    "        label = 1\n",
    "    for j in os.listdir(folder_path):\n",
    "        img_path = os.path.join(folder_path,j)\n",
    "        img = cv2.imread(img_path)\n",
    "        img = cv2.resize(img,(150,150))\n",
    "        data.append([img,label])"
   ],
   "metadata": {
    "collapsed": false,
    "ExecuteTime": {
     "end_time": "2023-12-19T17:54:46.080948700Z",
     "start_time": "2023-12-19T17:54:45.766322700Z"
    }
   },
   "id": "e95af2b949b1094e"
  },
  {
   "cell_type": "code",
   "execution_count": 5,
   "outputs": [],
   "source": [
    "random.shuffle(data)"
   ],
   "metadata": {
    "collapsed": false,
    "ExecuteTime": {
     "end_time": "2023-12-19T17:54:58.035164500Z",
     "start_time": "2023-12-19T17:54:57.896881Z"
    }
   },
   "id": "866af2a8046b6f35"
  },
  {
   "cell_type": "code",
   "execution_count": 7,
   "outputs": [],
   "source": [
    "X = []\n",
    "y = []\n",
    "\n",
    "for i in data:\n",
    "    X.append(i[0])\n",
    "    y.append(i[1])"
   ],
   "metadata": {
    "collapsed": false,
    "ExecuteTime": {
     "end_time": "2023-12-19T17:55:33.480587100Z",
     "start_time": "2023-12-19T17:55:33.363770900Z"
    }
   },
   "id": "d2d220f36c429292"
  },
  {
   "cell_type": "code",
   "execution_count": 8,
   "outputs": [],
   "source": [
    "y = np.array(y)"
   ],
   "metadata": {
    "collapsed": false,
    "ExecuteTime": {
     "end_time": "2023-12-19T17:55:40.658706Z",
     "start_time": "2023-12-19T17:55:40.552863Z"
    }
   },
   "id": "62bdd81fe3fbaf0d"
  },
  {
   "cell_type": "code",
   "execution_count": 9,
   "outputs": [],
   "source": [
    "X = np.array(X)"
   ],
   "metadata": {
    "collapsed": false,
    "ExecuteTime": {
     "end_time": "2023-12-19T17:55:48.325449800Z",
     "start_time": "2023-12-19T17:55:48.219577100Z"
    }
   },
   "id": "b581fa73c4f4d19f"
  },
  {
   "cell_type": "code",
   "execution_count": 10,
   "outputs": [
    {
     "data": {
      "text/plain": "(22, 150, 150, 3)"
     },
     "execution_count": 10,
     "metadata": {},
     "output_type": "execute_result"
    }
   ],
   "source": [
    "X.shape"
   ],
   "metadata": {
    "collapsed": false,
    "ExecuteTime": {
     "end_time": "2023-12-19T17:55:56.993458600Z",
     "start_time": "2023-12-19T17:55:56.856506700Z"
    }
   },
   "id": "22fa82cebf127d19"
  },
  {
   "cell_type": "code",
   "execution_count": 16,
   "outputs": [],
   "source": [
    "# Create CNN model\n",
    "\n",
    "model = Sequential()\n",
    "\n",
    "model.add(Conv2D(32,kernel_size=(3,3),padding='valid',activation='relu',input_shape=(150,150,3)))\n",
    "model.add(BatchNormalization())\n",
    "model.add(MaxPool2D(pool_size=(2,2),strides=2,padding='valid'))\n",
    "\n",
    "model.add(Conv2D(64,kernel_size=(3,3),padding='valid',activation='relu'))\n",
    "model.add(BatchNormalization())\n",
    "model.add(MaxPool2D(pool_size=(2,2),strides=2,padding='valid'))\n",
    "\n",
    "model.add(Conv2D(128,kernel_size=(3,3),padding='valid',activation='relu'))\n",
    "model.add(BatchNormalization())\n",
    "model.add(MaxPool2D(pool_size=(2,2),strides=2,padding='valid'))\n",
    "\n",
    "model.add(Flatten())\n",
    "\n",
    "model.add(Dense(128,activation='relu'))\n",
    "model.add(Dropout(0.3))\n",
    "model.add(Dense(64,activation='relu'))\n",
    "model.add(Dropout(0.3))\n",
    "model.add(Dense(1,activation='sigmoid'))"
   ],
   "metadata": {
    "collapsed": false,
    "ExecuteTime": {
     "end_time": "2023-12-19T17:58:16.545029Z",
     "start_time": "2023-12-19T17:58:16.127146800Z"
    }
   },
   "id": "3925a37e6bbef711"
  },
  {
   "cell_type": "code",
   "execution_count": 17,
   "outputs": [],
   "source": [
    "model.compile(loss='binary_crossentropy',optimizer='rmsprop',metrics=['accuracy'])"
   ],
   "metadata": {
    "collapsed": false,
    "ExecuteTime": {
     "end_time": "2023-12-19T17:58:17.352219200Z",
     "start_time": "2023-12-19T17:58:17.306333900Z"
    }
   },
   "id": "6c5d612d106553fe"
  },
  {
   "cell_type": "code",
   "execution_count": 18,
   "outputs": [
    {
     "name": "stdout",
     "output_type": "stream",
     "text": [
      "Epoch 1/5\n",
      "1/1 [==============================] - 6s 6s/step - loss: 1.7326 - accuracy: 0.3158 - val_loss: 31.3982 - val_accuracy: 0.3333\n",
      "Epoch 2/5\n",
      "1/1 [==============================] - 1s 765ms/step - loss: 2.1409 - accuracy: 0.8947 - val_loss: 69.5286 - val_accuracy: 0.6667\n",
      "Epoch 3/5\n",
      "1/1 [==============================] - 1s 649ms/step - loss: 0.9456 - accuracy: 0.8421 - val_loss: 39.4731 - val_accuracy: 0.6667\n",
      "Epoch 4/5\n",
      "1/1 [==============================] - 1s 676ms/step - loss: 5.4689 - accuracy: 0.6842 - val_loss: 32.7840 - val_accuracy: 0.6667\n",
      "Epoch 5/5\n",
      "1/1 [==============================] - 1s 671ms/step - loss: 0.1167 - accuracy: 0.9474 - val_loss: 35.0426 - val_accuracy: 0.6667\n"
     ]
    },
    {
     "data": {
      "text/plain": "<keras.src.callbacks.History at 0x2121a615900>"
     },
     "execution_count": 18,
     "metadata": {},
     "output_type": "execute_result"
    }
   ],
   "source": [
    "model.fit(X,y,epochs=5,validation_split=0.1)"
   ],
   "metadata": {
    "collapsed": false,
    "ExecuteTime": {
     "end_time": "2023-12-19T17:58:26.869250900Z",
     "start_time": "2023-12-19T17:58:17.668407500Z"
    }
   },
   "id": "cf25586bc41ff3cc"
  },
  {
   "cell_type": "code",
   "execution_count": 19,
   "outputs": [],
   "source": [
    "from keras.preprocessing.image import ImageDataGenerator"
   ],
   "metadata": {
    "collapsed": false,
    "ExecuteTime": {
     "end_time": "2023-12-19T18:00:14.236554300Z",
     "start_time": "2023-12-19T18:00:14.170731600Z"
    }
   },
   "id": "4c38d2ee2a579468"
  },
  {
   "cell_type": "code",
   "execution_count": 20,
   "outputs": [
    {
     "name": "stdout",
     "output_type": "stream",
     "text": [
      "Found 22 images belonging to 2 classes.\n",
      "Found 10 images belonging to 2 classes.\n"
     ]
    }
   ],
   "source": [
    "batch_size = 2\n",
    "\n",
    "train_datagen = ImageDataGenerator(\n",
    "    rescale= 1./255,\n",
    "    shear_range=0.2,\n",
    "    zoom_range=0.2,\n",
    "    horizontal_flip=True\n",
    ")\n",
    "\n",
    "test_datagen = ImageDataGenerator(rescale=1./255)\n",
    "\n",
    "train_generator = train_datagen.flow_from_directory(\n",
    "    'train',\n",
    "    target_size=(150,150),\n",
    "    batch_size=batch_size,\n",
    "    class_mode='binary'\n",
    ")\n",
    "\n",
    "validation_generator = test_datagen.flow_from_directory(\n",
    "    'test',\n",
    "    target_size=(150,150),\n",
    "    batch_size=batch_size,\n",
    "    class_mode='binary'\n",
    ")"
   ],
   "metadata": {
    "collapsed": false,
    "ExecuteTime": {
     "end_time": "2023-12-19T18:05:24.657451700Z",
     "start_time": "2023-12-19T18:05:24.580637700Z"
    }
   },
   "id": "e4fd11f6584d3f9c"
  },
  {
   "cell_type": "code",
   "execution_count": 21,
   "outputs": [],
   "source": [
    "# Create CNN model\n",
    "\n",
    "model = Sequential()\n",
    "\n",
    "model.add(Conv2D(32,kernel_size=(3,3),padding='valid',activation='relu',input_shape=(150,150,3)))\n",
    "model.add(BatchNormalization())\n",
    "model.add(MaxPool2D(pool_size=(2,2),strides=2,padding='valid'))\n",
    "\n",
    "model.add(Conv2D(64,kernel_size=(3,3),padding='valid',activation='relu'))\n",
    "model.add(BatchNormalization())\n",
    "model.add(MaxPool2D(pool_size=(2,2),strides=2,padding='valid'))\n",
    "\n",
    "model.add(Conv2D(128,kernel_size=(3,3),padding='valid',activation='relu'))\n",
    "model.add(BatchNormalization())\n",
    "model.add(MaxPool2D(pool_size=(2,2),strides=2,padding='valid'))\n",
    "\n",
    "model.add(Flatten())\n",
    "\n",
    "model.add(Dense(128,activation='relu'))\n",
    "model.add(Dropout(0.3))\n",
    "model.add(Dense(64,activation='relu'))\n",
    "model.add(Dropout(0.3))\n",
    "model.add(Dense(1,activation='sigmoid'))"
   ],
   "metadata": {
    "collapsed": false,
    "ExecuteTime": {
     "end_time": "2023-12-19T18:06:30.607305100Z",
     "start_time": "2023-12-19T18:06:30.486507600Z"
    }
   },
   "id": "ccbbf80dcd6c6dea"
  },
  {
   "cell_type": "code",
   "execution_count": 22,
   "outputs": [],
   "source": [
    "model.compile(loss='binary_crossentropy',optimizer='rmsprop',metrics=['accuracy'])"
   ],
   "metadata": {
    "collapsed": false,
    "ExecuteTime": {
     "end_time": "2023-12-19T18:06:50.835359500Z",
     "start_time": "2023-12-19T18:06:50.815479300Z"
    }
   },
   "id": "c4c0a6065074d2a4"
  },
  {
   "cell_type": "code",
   "execution_count": 24,
   "outputs": [
    {
     "name": "stdout",
     "output_type": "stream",
     "text": [
      "Epoch 1/20\n"
     ]
    },
    {
     "name": "stderr",
     "output_type": "stream",
     "text": [
      "C:\\Users\\TUSHAR GANDHI\\AppData\\Local\\Temp\\ipykernel_2724\\1928299244.py:1: UserWarning: `Model.fit_generator` is deprecated and will be removed in a future version. Please use `Model.fit`, which supports generators.\n",
      "  model.fit_generator(train_generator,steps_per_epoch=1,epochs=20,validation_data=validation_generator,validation_steps=1)\n"
     ]
    },
    {
     "name": "stdout",
     "output_type": "stream",
     "text": [
      "1/1 [==============================] - 0s 199ms/step - loss: 1.7076 - accuracy: 0.5000 - val_loss: 0.0034 - val_accuracy: 1.0000\n",
      "Epoch 2/20\n",
      "1/1 [==============================] - 0s 166ms/step - loss: 28.5150 - accuracy: 0.5000 - val_loss: 0.7964 - val_accuracy: 0.5000\n",
      "Epoch 3/20\n",
      "1/1 [==============================] - 0s 161ms/step - loss: 7.7693 - accuracy: 0.0000e+00 - val_loss: 0.5867 - val_accuracy: 1.0000\n",
      "Epoch 4/20\n",
      "1/1 [==============================] - 0s 160ms/step - loss: 1.2708e-11 - accuracy: 1.0000 - val_loss: 0.7491 - val_accuracy: 0.5000\n",
      "Epoch 5/20\n",
      "1/1 [==============================] - 0s 170ms/step - loss: 0.5198 - accuracy: 0.5000 - val_loss: 1.1539 - val_accuracy: 0.0000e+00\n",
      "Epoch 6/20\n",
      "1/1 [==============================] - 0s 160ms/step - loss: 7.0436e-06 - accuracy: 1.0000 - val_loss: 0.7304 - val_accuracy: 0.5000\n",
      "Epoch 7/20\n",
      "1/1 [==============================] - 0s 158ms/step - loss: 0.3226 - accuracy: 1.0000 - val_loss: 0.6053 - val_accuracy: 0.5000\n",
      "Epoch 8/20\n",
      "1/1 [==============================] - 0s 155ms/step - loss: 14.7949 - accuracy: 0.5000 - val_loss: 1.0773 - val_accuracy: 0.0000e+00\n",
      "Epoch 9/20\n",
      "1/1 [==============================] - 0s 204ms/step - loss: 29.0173 - accuracy: 0.5000 - val_loss: 1.0112 - val_accuracy: 0.5000\n",
      "Epoch 10/20\n",
      "1/1 [==============================] - 0s 156ms/step - loss: 0.1023 - accuracy: 1.0000 - val_loss: 0.0374 - val_accuracy: 1.0000\n",
      "Epoch 11/20\n",
      "1/1 [==============================] - 0s 165ms/step - loss: 0.3659 - accuracy: 0.5000 - val_loss: 1.0737 - val_accuracy: 0.5000\n",
      "Epoch 12/20\n",
      "1/1 [==============================] - 0s 158ms/step - loss: 0.5735 - accuracy: 0.5000 - val_loss: 0.2258 - val_accuracy: 1.0000\n",
      "Epoch 13/20\n",
      "1/1 [==============================] - 0s 160ms/step - loss: 0.1108 - accuracy: 1.0000 - val_loss: 0.1741 - val_accuracy: 1.0000\n",
      "Epoch 14/20\n",
      "1/1 [==============================] - 0s 160ms/step - loss: 5.4334 - accuracy: 0.5000 - val_loss: 1.4889 - val_accuracy: 0.5000\n",
      "Epoch 15/20\n",
      "1/1 [==============================] - 0s 158ms/step - loss: 9.4134 - accuracy: 0.0000e+00 - val_loss: 0.0359 - val_accuracy: 1.0000\n",
      "Epoch 16/20\n",
      "1/1 [==============================] - 0s 165ms/step - loss: 0.0044 - accuracy: 1.0000 - val_loss: 0.0452 - val_accuracy: 1.0000\n",
      "Epoch 17/20\n",
      "1/1 [==============================] - 0s 167ms/step - loss: 9.2287e-05 - accuracy: 1.0000 - val_loss: 0.9064 - val_accuracy: 0.5000\n",
      "Epoch 18/20\n",
      "1/1 [==============================] - 0s 156ms/step - loss: 21.6718 - accuracy: 0.0000e+00 - val_loss: 2.8927 - val_accuracy: 0.5000\n",
      "Epoch 19/20\n",
      "1/1 [==============================] - 0s 159ms/step - loss: 6.0006 - accuracy: 0.5000 - val_loss: 1.8738 - val_accuracy: 0.5000\n",
      "Epoch 20/20\n",
      "1/1 [==============================] - 0s 162ms/step - loss: 1.6838e-12 - accuracy: 1.0000 - val_loss: 0.4508 - val_accuracy: 0.5000\n"
     ]
    },
    {
     "data": {
      "text/plain": "<keras.src.callbacks.History at 0x212190a36a0>"
     },
     "execution_count": 24,
     "metadata": {},
     "output_type": "execute_result"
    }
   ],
   "source": [
    "model.fit_generator(train_generator,steps_per_epoch=1,epochs=20,validation_data=validation_generator,validation_steps=1)"
   ],
   "metadata": {
    "collapsed": false,
    "ExecuteTime": {
     "end_time": "2023-12-19T18:08:06.688014900Z",
     "start_time": "2023-12-19T18:08:03.049547800Z"
    }
   },
   "id": "a230888619a4c95e"
  },
  {
   "cell_type": "code",
   "execution_count": null,
   "outputs": [],
   "source": [],
   "metadata": {
    "collapsed": false
   },
   "id": "fbff22dcee29486c"
  }
 ],
 "metadata": {
  "kernelspec": {
   "display_name": "Python 3",
   "language": "python",
   "name": "python3"
  },
  "language_info": {
   "codemirror_mode": {
    "name": "ipython",
    "version": 2
   },
   "file_extension": ".py",
   "mimetype": "text/x-python",
   "name": "python",
   "nbconvert_exporter": "python",
   "pygments_lexer": "ipython2",
   "version": "2.7.6"
  }
 },
 "nbformat": 4,
 "nbformat_minor": 5
}
