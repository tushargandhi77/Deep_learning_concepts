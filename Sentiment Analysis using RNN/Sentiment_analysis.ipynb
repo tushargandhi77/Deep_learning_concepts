{
 "cells": [
  {
   "cell_type": "code",
   "execution_count": 21,
   "id": "initial_id",
   "metadata": {
    "collapsed": true,
    "ExecuteTime": {
     "end_time": "2024-01-31T18:37:35.536739700Z",
     "start_time": "2024-01-31T18:37:35.428030500Z"
    }
   },
   "outputs": [],
   "source": [
    "from keras.datasets import imdb\n",
    "from keras.preprocessing.text import Tokenizer\n",
    "from keras.utils import pad_sequences\n",
    "from keras import Sequential\n",
    "from keras.layers import Dense,SimpleRNN,Embedding,Flatten\n",
    "\n",
    "docs = ['go india',\n",
    "\t\t'india india',\n",
    "\t\t'hip hip hurray',\n",
    "\t\t'jeetega bhai jeetega india jeetega',\n",
    "\t\t'bharat mata ki jai',\n",
    "\t\t'kohli kohli',\n",
    "\t\t'sachin sachin',\n",
    "\t\t'dhoni dhoni',\n",
    "\t\t'modi ji ki jai',\n",
    "\t\t'inquilab zindabad']"
   ]
  },
  {
   "cell_type": "code",
   "execution_count": 16,
   "outputs": [],
   "source": [
    "from keras.preprocessing.text import Tokenizer\n",
    "tokenizer = Tokenizer()"
   ],
   "metadata": {
    "collapsed": false,
    "ExecuteTime": {
     "end_time": "2024-01-31T18:35:49.644785Z",
     "start_time": "2024-01-31T18:35:49.627831600Z"
    }
   },
   "id": "7695b484dc26fd79"
  },
  {
   "cell_type": "code",
   "execution_count": 17,
   "outputs": [],
   "source": [
    "tokenizer.fit_on_texts(docs)"
   ],
   "metadata": {
    "collapsed": false,
    "ExecuteTime": {
     "end_time": "2024-01-31T18:35:50.085587400Z",
     "start_time": "2024-01-31T18:35:50.061611500Z"
    }
   },
   "id": "edec3c4c828ee8fb"
  },
  {
   "cell_type": "code",
   "execution_count": 18,
   "outputs": [
    {
     "data": {
      "text/plain": "17"
     },
     "execution_count": 18,
     "metadata": {},
     "output_type": "execute_result"
    }
   ],
   "source": [
    "len(tokenizer.word_index)"
   ],
   "metadata": {
    "collapsed": false,
    "ExecuteTime": {
     "end_time": "2024-01-31T18:35:50.535292500Z",
     "start_time": "2024-01-31T18:35:50.518327300Z"
    }
   },
   "id": "27e171878ed3850f"
  },
  {
   "cell_type": "code",
   "execution_count": 19,
   "outputs": [
    {
     "data": {
      "text/plain": "[[9, 1],\n [1, 1],\n [3, 3, 10],\n [2, 11, 2, 1, 2],\n [12, 13, 4, 5],\n [6, 6],\n [7, 7],\n [8, 8],\n [14, 15, 4, 5],\n [16, 17]]"
     },
     "execution_count": 19,
     "metadata": {},
     "output_type": "execute_result"
    }
   ],
   "source": [
    "sequences = tokenizer.texts_to_sequences(docs)\n",
    "sequences"
   ],
   "metadata": {
    "collapsed": false,
    "ExecuteTime": {
     "end_time": "2024-01-31T18:35:51.129772100Z",
     "start_time": "2024-01-31T18:35:51.113823400Z"
    }
   },
   "id": "8858bd2a7f0e4b7c"
  },
  {
   "cell_type": "code",
   "execution_count": 20,
   "outputs": [
    {
     "data": {
      "text/plain": "array([[ 9,  1,  0,  0,  0],\n       [ 1,  1,  0,  0,  0],\n       [ 3,  3, 10,  0,  0],\n       [ 2, 11,  2,  1,  2],\n       [12, 13,  4,  5,  0],\n       [ 6,  6,  0,  0,  0],\n       [ 7,  7,  0,  0,  0],\n       [ 8,  8,  0,  0,  0],\n       [14, 15,  4,  5,  0],\n       [16, 17,  0,  0,  0]])"
     },
     "execution_count": 20,
     "metadata": {},
     "output_type": "execute_result"
    }
   ],
   "source": [
    "from keras.utils import pad_sequences\n",
    "sequences = pad_sequences(sequences,padding='post')\n",
    "sequences"
   ],
   "metadata": {
    "collapsed": false,
    "ExecuteTime": {
     "end_time": "2024-01-31T18:36:52.719593100Z",
     "start_time": "2024-01-31T18:36:52.667741600Z"
    }
   },
   "id": "9862a14b3ca2eb6c"
  },
  {
   "cell_type": "code",
   "execution_count": 7,
   "outputs": [],
   "source": [
    "model = Sequential()\n",
    "model.add(Embedding(17,output_dim=2,input_length=5))\n",
    "\n",
    "model.summary()"
   ],
   "metadata": {
    "collapsed": false,
    "ExecuteTime": {
     "end_time": "2024-01-31T18:25:08.671934Z",
     "start_time": "2024-01-31T18:25:08.601536100Z"
    }
   },
   "id": "70c1a6b36f6faf5a"
  },
  {
   "cell_type": "code",
   "execution_count": 8,
   "outputs": [
    {
     "data": {
      "text/plain": "array([[ 9,  1,  0,  0,  0],\n       [ 1,  1,  0,  0,  0],\n       [ 3,  3, 10,  0,  0],\n       [ 2, 11,  2,  1,  2],\n       [12, 13,  4,  5,  0],\n       [ 6,  6,  0,  0,  0],\n       [ 7,  7,  0,  0,  0],\n       [ 8,  8,  0,  0,  0],\n       [14, 15,  4,  5,  0],\n       [16, 17,  0,  0,  0]])"
     },
     "execution_count": 8,
     "metadata": {},
     "output_type": "execute_result"
    }
   ],
   "source": [
    "sequences"
   ],
   "metadata": {
    "collapsed": false,
    "ExecuteTime": {
     "end_time": "2024-01-31T18:25:15.236300400Z",
     "start_time": "2024-01-31T18:25:15.123586100Z"
    }
   },
   "id": "3fd7567e8759f5d2"
  },
  {
   "cell_type": "code",
   "execution_count": 22,
   "outputs": [
    {
     "name": "stdout",
     "output_type": "stream",
     "text": [
      "Model: \"sequential_1\"\n",
      "_________________________________________________________________\n",
      " Layer (type)                Output Shape              Param #   \n",
      "=================================================================\n",
      " embedding_1 (Embedding)     (None, 5, 2)              34        \n",
      "                                                                 \n",
      "=================================================================\n",
      "Total params: 34 (136.00 Byte)\n",
      "Trainable params: 34 (136.00 Byte)\n",
      "Non-trainable params: 0 (0.00 Byte)\n",
      "_________________________________________________________________\n"
     ]
    }
   ],
   "source": [
    "model = Sequential()\n",
    "model.add(Embedding(17,output_dim=2,input_length=5))\n",
    "model.summary()"
   ],
   "metadata": {
    "collapsed": false,
    "ExecuteTime": {
     "end_time": "2024-01-31T18:37:42.456404900Z",
     "start_time": "2024-01-31T18:37:42.418509100Z"
    }
   },
   "id": "bcfc96c86f127c2f"
  },
  {
   "cell_type": "code",
   "execution_count": 25,
   "outputs": [],
   "source": [
    "model.compile('adam','accuracy')"
   ],
   "metadata": {
    "collapsed": false,
    "ExecuteTime": {
     "end_time": "2024-01-31T18:37:59.988114400Z",
     "start_time": "2024-01-31T18:37:59.965588800Z"
    }
   },
   "id": "4e7952bd68c92b76"
  },
  {
   "cell_type": "code",
   "execution_count": 26,
   "outputs": [
    {
     "ename": "InvalidArgumentError",
     "evalue": "Graph execution error:\n\nDetected at node sequential_1/embedding_1/embedding_lookup defined at (most recent call last):\n  File \"C:\\Users\\TUSHAR GANDHI\\AppData\\Local\\Programs\\Python\\Python310\\lib\\runpy.py\", line 196, in _run_module_as_main\n\n  File \"C:\\Users\\TUSHAR GANDHI\\AppData\\Local\\Programs\\Python\\Python310\\lib\\runpy.py\", line 86, in _run_code\n\n  File \"F:\\Machine learning python\\Deep Learning\\venv\\lib\\site-packages\\ipykernel_launcher.py\", line 17, in <module>\n\n  File \"F:\\Machine learning python\\Deep Learning\\venv\\lib\\site-packages\\traitlets\\config\\application.py\", line 1053, in launch_instance\n\n  File \"F:\\Machine learning python\\Deep Learning\\venv\\lib\\site-packages\\ipykernel\\kernelapp.py\", line 736, in start\n\n  File \"F:\\Machine learning python\\Deep Learning\\venv\\lib\\site-packages\\tornado\\platform\\asyncio.py\", line 195, in start\n\n  File \"C:\\Users\\TUSHAR GANDHI\\AppData\\Local\\Programs\\Python\\Python310\\lib\\asyncio\\base_events.py\", line 595, in run_forever\n\n  File \"C:\\Users\\TUSHAR GANDHI\\AppData\\Local\\Programs\\Python\\Python310\\lib\\asyncio\\base_events.py\", line 1881, in _run_once\n\n  File \"C:\\Users\\TUSHAR GANDHI\\AppData\\Local\\Programs\\Python\\Python310\\lib\\asyncio\\events.py\", line 80, in _run\n\n  File \"F:\\Machine learning python\\Deep Learning\\venv\\lib\\site-packages\\ipykernel\\kernelbase.py\", line 516, in dispatch_queue\n\n  File \"F:\\Machine learning python\\Deep Learning\\venv\\lib\\site-packages\\ipykernel\\kernelbase.py\", line 505, in process_one\n\n  File \"F:\\Machine learning python\\Deep Learning\\venv\\lib\\site-packages\\ipykernel\\kernelbase.py\", line 412, in dispatch_shell\n\n  File \"F:\\Machine learning python\\Deep Learning\\venv\\lib\\site-packages\\ipykernel\\kernelbase.py\", line 740, in execute_request\n\n  File \"F:\\Machine learning python\\Deep Learning\\venv\\lib\\site-packages\\ipykernel\\ipkernel.py\", line 422, in do_execute\n\n  File \"F:\\Machine learning python\\Deep Learning\\venv\\lib\\site-packages\\ipykernel\\zmqshell.py\", line 546, in run_cell\n\n  File \"F:\\Machine learning python\\Deep Learning\\venv\\lib\\site-packages\\IPython\\core\\interactiveshell.py\", line 3024, in run_cell\n\n  File \"F:\\Machine learning python\\Deep Learning\\venv\\lib\\site-packages\\IPython\\core\\interactiveshell.py\", line 3079, in _run_cell\n\n  File \"F:\\Machine learning python\\Deep Learning\\venv\\lib\\site-packages\\IPython\\core\\async_helpers.py\", line 129, in _pseudo_sync_runner\n\n  File \"F:\\Machine learning python\\Deep Learning\\venv\\lib\\site-packages\\IPython\\core\\interactiveshell.py\", line 3284, in run_cell_async\n\n  File \"F:\\Machine learning python\\Deep Learning\\venv\\lib\\site-packages\\IPython\\core\\interactiveshell.py\", line 3466, in run_ast_nodes\n\n  File \"F:\\Machine learning python\\Deep Learning\\venv\\lib\\site-packages\\IPython\\core\\interactiveshell.py\", line 3526, in run_code\n\n  File \"C:\\Users\\TUSHAR GANDHI\\AppData\\Local\\Temp\\ipykernel_8012\\915047876.py\", line 1, in <module>\n\n  File \"F:\\Machine learning python\\Deep Learning\\venv\\lib\\site-packages\\keras\\src\\utils\\traceback_utils.py\", line 65, in error_handler\n\n  File \"F:\\Machine learning python\\Deep Learning\\venv\\lib\\site-packages\\keras\\src\\engine\\training.py\", line 2631, in predict\n\n  File \"F:\\Machine learning python\\Deep Learning\\venv\\lib\\site-packages\\keras\\src\\engine\\training.py\", line 2416, in predict_function\n\n  File \"F:\\Machine learning python\\Deep Learning\\venv\\lib\\site-packages\\keras\\src\\engine\\training.py\", line 2401, in step_function\n\n  File \"F:\\Machine learning python\\Deep Learning\\venv\\lib\\site-packages\\keras\\src\\engine\\training.py\", line 2389, in run_step\n\n  File \"F:\\Machine learning python\\Deep Learning\\venv\\lib\\site-packages\\keras\\src\\engine\\training.py\", line 2357, in predict_step\n\n  File \"F:\\Machine learning python\\Deep Learning\\venv\\lib\\site-packages\\keras\\src\\utils\\traceback_utils.py\", line 65, in error_handler\n\n  File \"F:\\Machine learning python\\Deep Learning\\venv\\lib\\site-packages\\keras\\src\\engine\\training.py\", line 589, in __call__\n\n  File \"F:\\Machine learning python\\Deep Learning\\venv\\lib\\site-packages\\keras\\src\\utils\\traceback_utils.py\", line 65, in error_handler\n\n  File \"F:\\Machine learning python\\Deep Learning\\venv\\lib\\site-packages\\keras\\src\\engine\\base_layer.py\", line 1149, in __call__\n\n  File \"F:\\Machine learning python\\Deep Learning\\venv\\lib\\site-packages\\keras\\src\\utils\\traceback_utils.py\", line 96, in error_handler\n\n  File \"F:\\Machine learning python\\Deep Learning\\venv\\lib\\site-packages\\keras\\src\\engine\\sequential.py\", line 398, in call\n\n  File \"F:\\Machine learning python\\Deep Learning\\venv\\lib\\site-packages\\keras\\src\\engine\\functional.py\", line 515, in call\n\n  File \"F:\\Machine learning python\\Deep Learning\\venv\\lib\\site-packages\\keras\\src\\engine\\functional.py\", line 672, in _run_internal_graph\n\n  File \"F:\\Machine learning python\\Deep Learning\\venv\\lib\\site-packages\\keras\\src\\utils\\traceback_utils.py\", line 65, in error_handler\n\n  File \"F:\\Machine learning python\\Deep Learning\\venv\\lib\\site-packages\\keras\\src\\engine\\base_layer.py\", line 1149, in __call__\n\n  File \"F:\\Machine learning python\\Deep Learning\\venv\\lib\\site-packages\\keras\\src\\utils\\traceback_utils.py\", line 96, in error_handler\n\n  File \"F:\\Machine learning python\\Deep Learning\\venv\\lib\\site-packages\\keras\\src\\layers\\core\\embedding.py\", line 272, in call\n\nindices[9,1] = 17 is not in [0, 17)\n\t [[{{node sequential_1/embedding_1/embedding_lookup}}]] [Op:__inference_predict_function_369]",
     "output_type": "error",
     "traceback": [
      "\u001B[1;31m---------------------------------------------------------------------------\u001B[0m",
      "\u001B[1;31mInvalidArgumentError\u001B[0m                      Traceback (most recent call last)",
      "Cell \u001B[1;32mIn[26], line 1\u001B[0m\n\u001B[1;32m----> 1\u001B[0m pred \u001B[38;5;241m=\u001B[39m \u001B[43mmodel\u001B[49m\u001B[38;5;241;43m.\u001B[39;49m\u001B[43mpredict\u001B[49m\u001B[43m(\u001B[49m\u001B[43msequences\u001B[49m\u001B[43m)\u001B[49m\n\u001B[0;32m      2\u001B[0m \u001B[38;5;28mprint\u001B[39m(pred)\n",
      "File \u001B[1;32mF:\\Machine learning python\\Deep Learning\\venv\\lib\\site-packages\\keras\\src\\utils\\traceback_utils.py:70\u001B[0m, in \u001B[0;36mfilter_traceback.<locals>.error_handler\u001B[1;34m(*args, **kwargs)\u001B[0m\n\u001B[0;32m     67\u001B[0m     filtered_tb \u001B[38;5;241m=\u001B[39m _process_traceback_frames(e\u001B[38;5;241m.\u001B[39m__traceback__)\n\u001B[0;32m     68\u001B[0m     \u001B[38;5;66;03m# To get the full stack trace, call:\u001B[39;00m\n\u001B[0;32m     69\u001B[0m     \u001B[38;5;66;03m# `tf.debugging.disable_traceback_filtering()`\u001B[39;00m\n\u001B[1;32m---> 70\u001B[0m     \u001B[38;5;28;01mraise\u001B[39;00m e\u001B[38;5;241m.\u001B[39mwith_traceback(filtered_tb) \u001B[38;5;28;01mfrom\u001B[39;00m \u001B[38;5;28;01mNone\u001B[39;00m\n\u001B[0;32m     71\u001B[0m \u001B[38;5;28;01mfinally\u001B[39;00m:\n\u001B[0;32m     72\u001B[0m     \u001B[38;5;28;01mdel\u001B[39;00m filtered_tb\n",
      "File \u001B[1;32mF:\\Machine learning python\\Deep Learning\\venv\\lib\\site-packages\\tensorflow\\python\\eager\\execute.py:60\u001B[0m, in \u001B[0;36mquick_execute\u001B[1;34m(op_name, num_outputs, inputs, attrs, ctx, name)\u001B[0m\n\u001B[0;32m     53\u001B[0m   \u001B[38;5;66;03m# Convert any objects of type core_types.Tensor to Tensor.\u001B[39;00m\n\u001B[0;32m     54\u001B[0m   inputs \u001B[38;5;241m=\u001B[39m [\n\u001B[0;32m     55\u001B[0m       tensor_conversion_registry\u001B[38;5;241m.\u001B[39mconvert(t)\n\u001B[0;32m     56\u001B[0m       \u001B[38;5;28;01mif\u001B[39;00m \u001B[38;5;28misinstance\u001B[39m(t, core_types\u001B[38;5;241m.\u001B[39mTensor)\n\u001B[0;32m     57\u001B[0m       \u001B[38;5;28;01melse\u001B[39;00m t\n\u001B[0;32m     58\u001B[0m       \u001B[38;5;28;01mfor\u001B[39;00m t \u001B[38;5;129;01min\u001B[39;00m inputs\n\u001B[0;32m     59\u001B[0m   ]\n\u001B[1;32m---> 60\u001B[0m   tensors \u001B[38;5;241m=\u001B[39m pywrap_tfe\u001B[38;5;241m.\u001B[39mTFE_Py_Execute(ctx\u001B[38;5;241m.\u001B[39m_handle, device_name, op_name,\n\u001B[0;32m     61\u001B[0m                                       inputs, attrs, num_outputs)\n\u001B[0;32m     62\u001B[0m \u001B[38;5;28;01mexcept\u001B[39;00m core\u001B[38;5;241m.\u001B[39m_NotOkStatusException \u001B[38;5;28;01mas\u001B[39;00m e:\n\u001B[0;32m     63\u001B[0m   \u001B[38;5;28;01mif\u001B[39;00m name \u001B[38;5;129;01mis\u001B[39;00m \u001B[38;5;129;01mnot\u001B[39;00m \u001B[38;5;28;01mNone\u001B[39;00m:\n",
      "\u001B[1;31mInvalidArgumentError\u001B[0m: Graph execution error:\n\nDetected at node sequential_1/embedding_1/embedding_lookup defined at (most recent call last):\n  File \"C:\\Users\\TUSHAR GANDHI\\AppData\\Local\\Programs\\Python\\Python310\\lib\\runpy.py\", line 196, in _run_module_as_main\n\n  File \"C:\\Users\\TUSHAR GANDHI\\AppData\\Local\\Programs\\Python\\Python310\\lib\\runpy.py\", line 86, in _run_code\n\n  File \"F:\\Machine learning python\\Deep Learning\\venv\\lib\\site-packages\\ipykernel_launcher.py\", line 17, in <module>\n\n  File \"F:\\Machine learning python\\Deep Learning\\venv\\lib\\site-packages\\traitlets\\config\\application.py\", line 1053, in launch_instance\n\n  File \"F:\\Machine learning python\\Deep Learning\\venv\\lib\\site-packages\\ipykernel\\kernelapp.py\", line 736, in start\n\n  File \"F:\\Machine learning python\\Deep Learning\\venv\\lib\\site-packages\\tornado\\platform\\asyncio.py\", line 195, in start\n\n  File \"C:\\Users\\TUSHAR GANDHI\\AppData\\Local\\Programs\\Python\\Python310\\lib\\asyncio\\base_events.py\", line 595, in run_forever\n\n  File \"C:\\Users\\TUSHAR GANDHI\\AppData\\Local\\Programs\\Python\\Python310\\lib\\asyncio\\base_events.py\", line 1881, in _run_once\n\n  File \"C:\\Users\\TUSHAR GANDHI\\AppData\\Local\\Programs\\Python\\Python310\\lib\\asyncio\\events.py\", line 80, in _run\n\n  File \"F:\\Machine learning python\\Deep Learning\\venv\\lib\\site-packages\\ipykernel\\kernelbase.py\", line 516, in dispatch_queue\n\n  File \"F:\\Machine learning python\\Deep Learning\\venv\\lib\\site-packages\\ipykernel\\kernelbase.py\", line 505, in process_one\n\n  File \"F:\\Machine learning python\\Deep Learning\\venv\\lib\\site-packages\\ipykernel\\kernelbase.py\", line 412, in dispatch_shell\n\n  File \"F:\\Machine learning python\\Deep Learning\\venv\\lib\\site-packages\\ipykernel\\kernelbase.py\", line 740, in execute_request\n\n  File \"F:\\Machine learning python\\Deep Learning\\venv\\lib\\site-packages\\ipykernel\\ipkernel.py\", line 422, in do_execute\n\n  File \"F:\\Machine learning python\\Deep Learning\\venv\\lib\\site-packages\\ipykernel\\zmqshell.py\", line 546, in run_cell\n\n  File \"F:\\Machine learning python\\Deep Learning\\venv\\lib\\site-packages\\IPython\\core\\interactiveshell.py\", line 3024, in run_cell\n\n  File \"F:\\Machine learning python\\Deep Learning\\venv\\lib\\site-packages\\IPython\\core\\interactiveshell.py\", line 3079, in _run_cell\n\n  File \"F:\\Machine learning python\\Deep Learning\\venv\\lib\\site-packages\\IPython\\core\\async_helpers.py\", line 129, in _pseudo_sync_runner\n\n  File \"F:\\Machine learning python\\Deep Learning\\venv\\lib\\site-packages\\IPython\\core\\interactiveshell.py\", line 3284, in run_cell_async\n\n  File \"F:\\Machine learning python\\Deep Learning\\venv\\lib\\site-packages\\IPython\\core\\interactiveshell.py\", line 3466, in run_ast_nodes\n\n  File \"F:\\Machine learning python\\Deep Learning\\venv\\lib\\site-packages\\IPython\\core\\interactiveshell.py\", line 3526, in run_code\n\n  File \"C:\\Users\\TUSHAR GANDHI\\AppData\\Local\\Temp\\ipykernel_8012\\915047876.py\", line 1, in <module>\n\n  File \"F:\\Machine learning python\\Deep Learning\\venv\\lib\\site-packages\\keras\\src\\utils\\traceback_utils.py\", line 65, in error_handler\n\n  File \"F:\\Machine learning python\\Deep Learning\\venv\\lib\\site-packages\\keras\\src\\engine\\training.py\", line 2631, in predict\n\n  File \"F:\\Machine learning python\\Deep Learning\\venv\\lib\\site-packages\\keras\\src\\engine\\training.py\", line 2416, in predict_function\n\n  File \"F:\\Machine learning python\\Deep Learning\\venv\\lib\\site-packages\\keras\\src\\engine\\training.py\", line 2401, in step_function\n\n  File \"F:\\Machine learning python\\Deep Learning\\venv\\lib\\site-packages\\keras\\src\\engine\\training.py\", line 2389, in run_step\n\n  File \"F:\\Machine learning python\\Deep Learning\\venv\\lib\\site-packages\\keras\\src\\engine\\training.py\", line 2357, in predict_step\n\n  File \"F:\\Machine learning python\\Deep Learning\\venv\\lib\\site-packages\\keras\\src\\utils\\traceback_utils.py\", line 65, in error_handler\n\n  File \"F:\\Machine learning python\\Deep Learning\\venv\\lib\\site-packages\\keras\\src\\engine\\training.py\", line 589, in __call__\n\n  File \"F:\\Machine learning python\\Deep Learning\\venv\\lib\\site-packages\\keras\\src\\utils\\traceback_utils.py\", line 65, in error_handler\n\n  File \"F:\\Machine learning python\\Deep Learning\\venv\\lib\\site-packages\\keras\\src\\engine\\base_layer.py\", line 1149, in __call__\n\n  File \"F:\\Machine learning python\\Deep Learning\\venv\\lib\\site-packages\\keras\\src\\utils\\traceback_utils.py\", line 96, in error_handler\n\n  File \"F:\\Machine learning python\\Deep Learning\\venv\\lib\\site-packages\\keras\\src\\engine\\sequential.py\", line 398, in call\n\n  File \"F:\\Machine learning python\\Deep Learning\\venv\\lib\\site-packages\\keras\\src\\engine\\functional.py\", line 515, in call\n\n  File \"F:\\Machine learning python\\Deep Learning\\venv\\lib\\site-packages\\keras\\src\\engine\\functional.py\", line 672, in _run_internal_graph\n\n  File \"F:\\Machine learning python\\Deep Learning\\venv\\lib\\site-packages\\keras\\src\\utils\\traceback_utils.py\", line 65, in error_handler\n\n  File \"F:\\Machine learning python\\Deep Learning\\venv\\lib\\site-packages\\keras\\src\\engine\\base_layer.py\", line 1149, in __call__\n\n  File \"F:\\Machine learning python\\Deep Learning\\venv\\lib\\site-packages\\keras\\src\\utils\\traceback_utils.py\", line 96, in error_handler\n\n  File \"F:\\Machine learning python\\Deep Learning\\venv\\lib\\site-packages\\keras\\src\\layers\\core\\embedding.py\", line 272, in call\n\nindices[9,1] = 17 is not in [0, 17)\n\t [[{{node sequential_1/embedding_1/embedding_lookup}}]] [Op:__inference_predict_function_369]"
     ]
    }
   ],
   "source": [
    "pred = model.predict(sequences)\n",
    "print(pred)"
   ],
   "metadata": {
    "collapsed": false,
    "ExecuteTime": {
     "end_time": "2024-01-31T18:38:08.547398800Z",
     "start_time": "2024-01-31T18:38:08.448617200Z"
    }
   },
   "id": "7eb5d05361c42434"
  },
  {
   "cell_type": "code",
   "execution_count": 27,
   "outputs": [],
   "source": [
    "(X_train,y_train),(X_test,y_test) = imdb.load_data()"
   ],
   "metadata": {
    "collapsed": false,
    "ExecuteTime": {
     "end_time": "2024-01-31T18:38:41.981903400Z",
     "start_time": "2024-01-31T18:38:38.783043200Z"
    }
   },
   "id": "97ba5d94074ac116"
  },
  {
   "cell_type": "code",
   "execution_count": 28,
   "outputs": [],
   "source": [
    "X_train = pad_sequences(X_train,padding='post',maxlen=50)\n",
    "X_test = pad_sequences(X_test,padding='post',maxlen=50)"
   ],
   "metadata": {
    "collapsed": false,
    "ExecuteTime": {
     "end_time": "2024-01-31T18:38:49.126860200Z",
     "start_time": "2024-01-31T18:38:48.824667800Z"
    }
   },
   "id": "c96ebcb11e8d8734"
  },
  {
   "cell_type": "code",
   "execution_count": 29,
   "outputs": [
    {
     "data": {
      "text/plain": "(25000, 50)"
     },
     "execution_count": 29,
     "metadata": {},
     "output_type": "execute_result"
    }
   ],
   "source": [
    "X_train.shape"
   ],
   "metadata": {
    "collapsed": false,
    "ExecuteTime": {
     "end_time": "2024-01-31T18:38:59.609834100Z",
     "start_time": "2024-01-31T18:38:59.503338900Z"
    }
   },
   "id": "cd6307f1c28eef31"
  },
  {
   "cell_type": "code",
   "execution_count": 32,
   "outputs": [
    {
     "name": "stdout",
     "output_type": "stream",
     "text": [
      "Model: \"sequential_3\"\n",
      "_________________________________________________________________\n",
      " Layer (type)                Output Shape              Param #   \n",
      "=================================================================\n",
      " embedding_3 (Embedding)     (None, None, 2)           20000     \n",
      "                                                                 \n",
      " simple_rnn (SimpleRNN)      (None, 32)                1120      \n",
      "                                                                 \n",
      " dense (Dense)               (None, 1)                 33        \n",
      "                                                                 \n",
      "=================================================================\n",
      "Total params: 21153 (82.63 KB)\n",
      "Trainable params: 21153 (82.63 KB)\n",
      "Non-trainable params: 0 (0.00 Byte)\n",
      "_________________________________________________________________\n"
     ]
    }
   ],
   "source": [
    "model = Sequential()\n",
    "model.add(Embedding(10000, 2))\n",
    "model.add(SimpleRNN(32,return_sequences=False))\n",
    "model.add(Dense(1, activation='sigmoid'))\n",
    "\n",
    "model.summary()"
   ],
   "metadata": {
    "collapsed": false,
    "ExecuteTime": {
     "end_time": "2024-01-31T18:40:51.335882800Z",
     "start_time": "2024-01-31T18:40:51.163045500Z"
    }
   },
   "id": "94fba1368943a4"
  },
  {
   "cell_type": "code",
   "execution_count": 33,
   "outputs": [
    {
     "name": "stdout",
     "output_type": "stream",
     "text": [
      "Epoch 1/5\n"
     ]
    },
    {
     "ename": "InvalidArgumentError",
     "evalue": "Graph execution error:\n\nDetected at node sequential_3/embedding_3/embedding_lookup defined at (most recent call last):\n  File \"C:\\Users\\TUSHAR GANDHI\\AppData\\Local\\Programs\\Python\\Python310\\lib\\runpy.py\", line 196, in _run_module_as_main\n\n  File \"C:\\Users\\TUSHAR GANDHI\\AppData\\Local\\Programs\\Python\\Python310\\lib\\runpy.py\", line 86, in _run_code\n\n  File \"F:\\Machine learning python\\Deep Learning\\venv\\lib\\site-packages\\ipykernel_launcher.py\", line 17, in <module>\n\n  File \"F:\\Machine learning python\\Deep Learning\\venv\\lib\\site-packages\\traitlets\\config\\application.py\", line 1053, in launch_instance\n\n  File \"F:\\Machine learning python\\Deep Learning\\venv\\lib\\site-packages\\ipykernel\\kernelapp.py\", line 736, in start\n\n  File \"F:\\Machine learning python\\Deep Learning\\venv\\lib\\site-packages\\tornado\\platform\\asyncio.py\", line 195, in start\n\n  File \"C:\\Users\\TUSHAR GANDHI\\AppData\\Local\\Programs\\Python\\Python310\\lib\\asyncio\\base_events.py\", line 595, in run_forever\n\n  File \"C:\\Users\\TUSHAR GANDHI\\AppData\\Local\\Programs\\Python\\Python310\\lib\\asyncio\\base_events.py\", line 1881, in _run_once\n\n  File \"C:\\Users\\TUSHAR GANDHI\\AppData\\Local\\Programs\\Python\\Python310\\lib\\asyncio\\events.py\", line 80, in _run\n\n  File \"F:\\Machine learning python\\Deep Learning\\venv\\lib\\site-packages\\ipykernel\\kernelbase.py\", line 516, in dispatch_queue\n\n  File \"F:\\Machine learning python\\Deep Learning\\venv\\lib\\site-packages\\ipykernel\\kernelbase.py\", line 505, in process_one\n\n  File \"F:\\Machine learning python\\Deep Learning\\venv\\lib\\site-packages\\ipykernel\\kernelbase.py\", line 412, in dispatch_shell\n\n  File \"F:\\Machine learning python\\Deep Learning\\venv\\lib\\site-packages\\ipykernel\\kernelbase.py\", line 740, in execute_request\n\n  File \"F:\\Machine learning python\\Deep Learning\\venv\\lib\\site-packages\\ipykernel\\ipkernel.py\", line 422, in do_execute\n\n  File \"F:\\Machine learning python\\Deep Learning\\venv\\lib\\site-packages\\ipykernel\\zmqshell.py\", line 546, in run_cell\n\n  File \"F:\\Machine learning python\\Deep Learning\\venv\\lib\\site-packages\\IPython\\core\\interactiveshell.py\", line 3024, in run_cell\n\n  File \"F:\\Machine learning python\\Deep Learning\\venv\\lib\\site-packages\\IPython\\core\\interactiveshell.py\", line 3079, in _run_cell\n\n  File \"F:\\Machine learning python\\Deep Learning\\venv\\lib\\site-packages\\IPython\\core\\async_helpers.py\", line 129, in _pseudo_sync_runner\n\n  File \"F:\\Machine learning python\\Deep Learning\\venv\\lib\\site-packages\\IPython\\core\\interactiveshell.py\", line 3284, in run_cell_async\n\n  File \"F:\\Machine learning python\\Deep Learning\\venv\\lib\\site-packages\\IPython\\core\\interactiveshell.py\", line 3466, in run_ast_nodes\n\n  File \"F:\\Machine learning python\\Deep Learning\\venv\\lib\\site-packages\\IPython\\core\\interactiveshell.py\", line 3526, in run_code\n\n  File \"C:\\Users\\TUSHAR GANDHI\\AppData\\Local\\Temp\\ipykernel_8012\\3264433433.py\", line 2, in <module>\n\n  File \"F:\\Machine learning python\\Deep Learning\\venv\\lib\\site-packages\\keras\\src\\utils\\traceback_utils.py\", line 65, in error_handler\n\n  File \"F:\\Machine learning python\\Deep Learning\\venv\\lib\\site-packages\\keras\\src\\engine\\training.py\", line 1783, in fit\n\n  File \"F:\\Machine learning python\\Deep Learning\\venv\\lib\\site-packages\\keras\\src\\engine\\training.py\", line 1377, in train_function\n\n  File \"F:\\Machine learning python\\Deep Learning\\venv\\lib\\site-packages\\keras\\src\\engine\\training.py\", line 1360, in step_function\n\n  File \"F:\\Machine learning python\\Deep Learning\\venv\\lib\\site-packages\\keras\\src\\engine\\training.py\", line 1349, in run_step\n\n  File \"F:\\Machine learning python\\Deep Learning\\venv\\lib\\site-packages\\keras\\src\\engine\\training.py\", line 1126, in train_step\n\n  File \"F:\\Machine learning python\\Deep Learning\\venv\\lib\\site-packages\\keras\\src\\utils\\traceback_utils.py\", line 65, in error_handler\n\n  File \"F:\\Machine learning python\\Deep Learning\\venv\\lib\\site-packages\\keras\\src\\engine\\training.py\", line 589, in __call__\n\n  File \"F:\\Machine learning python\\Deep Learning\\venv\\lib\\site-packages\\keras\\src\\utils\\traceback_utils.py\", line 65, in error_handler\n\n  File \"F:\\Machine learning python\\Deep Learning\\venv\\lib\\site-packages\\keras\\src\\engine\\base_layer.py\", line 1149, in __call__\n\n  File \"F:\\Machine learning python\\Deep Learning\\venv\\lib\\site-packages\\keras\\src\\utils\\traceback_utils.py\", line 96, in error_handler\n\n  File \"F:\\Machine learning python\\Deep Learning\\venv\\lib\\site-packages\\keras\\src\\engine\\sequential.py\", line 398, in call\n\n  File \"F:\\Machine learning python\\Deep Learning\\venv\\lib\\site-packages\\keras\\src\\engine\\functional.py\", line 515, in call\n\n  File \"F:\\Machine learning python\\Deep Learning\\venv\\lib\\site-packages\\keras\\src\\engine\\functional.py\", line 672, in _run_internal_graph\n\n  File \"F:\\Machine learning python\\Deep Learning\\venv\\lib\\site-packages\\keras\\src\\utils\\traceback_utils.py\", line 65, in error_handler\n\n  File \"F:\\Machine learning python\\Deep Learning\\venv\\lib\\site-packages\\keras\\src\\engine\\base_layer.py\", line 1149, in __call__\n\n  File \"F:\\Machine learning python\\Deep Learning\\venv\\lib\\site-packages\\keras\\src\\utils\\traceback_utils.py\", line 96, in error_handler\n\n  File \"F:\\Machine learning python\\Deep Learning\\venv\\lib\\site-packages\\keras\\src\\layers\\core\\embedding.py\", line 272, in call\n\nindices[0,29] = 20390 is not in [0, 10000)\n\t [[{{node sequential_3/embedding_3/embedding_lookup}}]] [Op:__inference_train_function_2366]",
     "output_type": "error",
     "traceback": [
      "\u001B[1;31m---------------------------------------------------------------------------\u001B[0m",
      "\u001B[1;31mInvalidArgumentError\u001B[0m                      Traceback (most recent call last)",
      "Cell \u001B[1;32mIn[33], line 2\u001B[0m\n\u001B[0;32m      1\u001B[0m model\u001B[38;5;241m.\u001B[39mcompile(optimizer\u001B[38;5;241m=\u001B[39m\u001B[38;5;124m'\u001B[39m\u001B[38;5;124madam\u001B[39m\u001B[38;5;124m'\u001B[39m, loss\u001B[38;5;241m=\u001B[39m\u001B[38;5;124m'\u001B[39m\u001B[38;5;124mbinary_crossentropy\u001B[39m\u001B[38;5;124m'\u001B[39m, metrics\u001B[38;5;241m=\u001B[39m[\u001B[38;5;124m'\u001B[39m\u001B[38;5;124macc\u001B[39m\u001B[38;5;124m'\u001B[39m])\n\u001B[1;32m----> 2\u001B[0m history \u001B[38;5;241m=\u001B[39m \u001B[43mmodel\u001B[49m\u001B[38;5;241;43m.\u001B[39;49m\u001B[43mfit\u001B[49m\u001B[43m(\u001B[49m\u001B[43mX_train\u001B[49m\u001B[43m,\u001B[49m\u001B[43m \u001B[49m\u001B[43my_train\u001B[49m\u001B[43m,\u001B[49m\u001B[43mepochs\u001B[49m\u001B[38;5;241;43m=\u001B[39;49m\u001B[38;5;241;43m5\u001B[39;49m\u001B[43m,\u001B[49m\u001B[43mvalidation_data\u001B[49m\u001B[38;5;241;43m=\u001B[39;49m\u001B[43m(\u001B[49m\u001B[43mX_test\u001B[49m\u001B[43m,\u001B[49m\u001B[43my_test\u001B[49m\u001B[43m)\u001B[49m\u001B[43m)\u001B[49m\n",
      "File \u001B[1;32mF:\\Machine learning python\\Deep Learning\\venv\\lib\\site-packages\\keras\\src\\utils\\traceback_utils.py:70\u001B[0m, in \u001B[0;36mfilter_traceback.<locals>.error_handler\u001B[1;34m(*args, **kwargs)\u001B[0m\n\u001B[0;32m     67\u001B[0m     filtered_tb \u001B[38;5;241m=\u001B[39m _process_traceback_frames(e\u001B[38;5;241m.\u001B[39m__traceback__)\n\u001B[0;32m     68\u001B[0m     \u001B[38;5;66;03m# To get the full stack trace, call:\u001B[39;00m\n\u001B[0;32m     69\u001B[0m     \u001B[38;5;66;03m# `tf.debugging.disable_traceback_filtering()`\u001B[39;00m\n\u001B[1;32m---> 70\u001B[0m     \u001B[38;5;28;01mraise\u001B[39;00m e\u001B[38;5;241m.\u001B[39mwith_traceback(filtered_tb) \u001B[38;5;28;01mfrom\u001B[39;00m \u001B[38;5;28;01mNone\u001B[39;00m\n\u001B[0;32m     71\u001B[0m \u001B[38;5;28;01mfinally\u001B[39;00m:\n\u001B[0;32m     72\u001B[0m     \u001B[38;5;28;01mdel\u001B[39;00m filtered_tb\n",
      "File \u001B[1;32mF:\\Machine learning python\\Deep Learning\\venv\\lib\\site-packages\\tensorflow\\python\\eager\\execute.py:60\u001B[0m, in \u001B[0;36mquick_execute\u001B[1;34m(op_name, num_outputs, inputs, attrs, ctx, name)\u001B[0m\n\u001B[0;32m     53\u001B[0m   \u001B[38;5;66;03m# Convert any objects of type core_types.Tensor to Tensor.\u001B[39;00m\n\u001B[0;32m     54\u001B[0m   inputs \u001B[38;5;241m=\u001B[39m [\n\u001B[0;32m     55\u001B[0m       tensor_conversion_registry\u001B[38;5;241m.\u001B[39mconvert(t)\n\u001B[0;32m     56\u001B[0m       \u001B[38;5;28;01mif\u001B[39;00m \u001B[38;5;28misinstance\u001B[39m(t, core_types\u001B[38;5;241m.\u001B[39mTensor)\n\u001B[0;32m     57\u001B[0m       \u001B[38;5;28;01melse\u001B[39;00m t\n\u001B[0;32m     58\u001B[0m       \u001B[38;5;28;01mfor\u001B[39;00m t \u001B[38;5;129;01min\u001B[39;00m inputs\n\u001B[0;32m     59\u001B[0m   ]\n\u001B[1;32m---> 60\u001B[0m   tensors \u001B[38;5;241m=\u001B[39m pywrap_tfe\u001B[38;5;241m.\u001B[39mTFE_Py_Execute(ctx\u001B[38;5;241m.\u001B[39m_handle, device_name, op_name,\n\u001B[0;32m     61\u001B[0m                                       inputs, attrs, num_outputs)\n\u001B[0;32m     62\u001B[0m \u001B[38;5;28;01mexcept\u001B[39;00m core\u001B[38;5;241m.\u001B[39m_NotOkStatusException \u001B[38;5;28;01mas\u001B[39;00m e:\n\u001B[0;32m     63\u001B[0m   \u001B[38;5;28;01mif\u001B[39;00m name \u001B[38;5;129;01mis\u001B[39;00m \u001B[38;5;129;01mnot\u001B[39;00m \u001B[38;5;28;01mNone\u001B[39;00m:\n",
      "\u001B[1;31mInvalidArgumentError\u001B[0m: Graph execution error:\n\nDetected at node sequential_3/embedding_3/embedding_lookup defined at (most recent call last):\n  File \"C:\\Users\\TUSHAR GANDHI\\AppData\\Local\\Programs\\Python\\Python310\\lib\\runpy.py\", line 196, in _run_module_as_main\n\n  File \"C:\\Users\\TUSHAR GANDHI\\AppData\\Local\\Programs\\Python\\Python310\\lib\\runpy.py\", line 86, in _run_code\n\n  File \"F:\\Machine learning python\\Deep Learning\\venv\\lib\\site-packages\\ipykernel_launcher.py\", line 17, in <module>\n\n  File \"F:\\Machine learning python\\Deep Learning\\venv\\lib\\site-packages\\traitlets\\config\\application.py\", line 1053, in launch_instance\n\n  File \"F:\\Machine learning python\\Deep Learning\\venv\\lib\\site-packages\\ipykernel\\kernelapp.py\", line 736, in start\n\n  File \"F:\\Machine learning python\\Deep Learning\\venv\\lib\\site-packages\\tornado\\platform\\asyncio.py\", line 195, in start\n\n  File \"C:\\Users\\TUSHAR GANDHI\\AppData\\Local\\Programs\\Python\\Python310\\lib\\asyncio\\base_events.py\", line 595, in run_forever\n\n  File \"C:\\Users\\TUSHAR GANDHI\\AppData\\Local\\Programs\\Python\\Python310\\lib\\asyncio\\base_events.py\", line 1881, in _run_once\n\n  File \"C:\\Users\\TUSHAR GANDHI\\AppData\\Local\\Programs\\Python\\Python310\\lib\\asyncio\\events.py\", line 80, in _run\n\n  File \"F:\\Machine learning python\\Deep Learning\\venv\\lib\\site-packages\\ipykernel\\kernelbase.py\", line 516, in dispatch_queue\n\n  File \"F:\\Machine learning python\\Deep Learning\\venv\\lib\\site-packages\\ipykernel\\kernelbase.py\", line 505, in process_one\n\n  File \"F:\\Machine learning python\\Deep Learning\\venv\\lib\\site-packages\\ipykernel\\kernelbase.py\", line 412, in dispatch_shell\n\n  File \"F:\\Machine learning python\\Deep Learning\\venv\\lib\\site-packages\\ipykernel\\kernelbase.py\", line 740, in execute_request\n\n  File \"F:\\Machine learning python\\Deep Learning\\venv\\lib\\site-packages\\ipykernel\\ipkernel.py\", line 422, in do_execute\n\n  File \"F:\\Machine learning python\\Deep Learning\\venv\\lib\\site-packages\\ipykernel\\zmqshell.py\", line 546, in run_cell\n\n  File \"F:\\Machine learning python\\Deep Learning\\venv\\lib\\site-packages\\IPython\\core\\interactiveshell.py\", line 3024, in run_cell\n\n  File \"F:\\Machine learning python\\Deep Learning\\venv\\lib\\site-packages\\IPython\\core\\interactiveshell.py\", line 3079, in _run_cell\n\n  File \"F:\\Machine learning python\\Deep Learning\\venv\\lib\\site-packages\\IPython\\core\\async_helpers.py\", line 129, in _pseudo_sync_runner\n\n  File \"F:\\Machine learning python\\Deep Learning\\venv\\lib\\site-packages\\IPython\\core\\interactiveshell.py\", line 3284, in run_cell_async\n\n  File \"F:\\Machine learning python\\Deep Learning\\venv\\lib\\site-packages\\IPython\\core\\interactiveshell.py\", line 3466, in run_ast_nodes\n\n  File \"F:\\Machine learning python\\Deep Learning\\venv\\lib\\site-packages\\IPython\\core\\interactiveshell.py\", line 3526, in run_code\n\n  File \"C:\\Users\\TUSHAR GANDHI\\AppData\\Local\\Temp\\ipykernel_8012\\3264433433.py\", line 2, in <module>\n\n  File \"F:\\Machine learning python\\Deep Learning\\venv\\lib\\site-packages\\keras\\src\\utils\\traceback_utils.py\", line 65, in error_handler\n\n  File \"F:\\Machine learning python\\Deep Learning\\venv\\lib\\site-packages\\keras\\src\\engine\\training.py\", line 1783, in fit\n\n  File \"F:\\Machine learning python\\Deep Learning\\venv\\lib\\site-packages\\keras\\src\\engine\\training.py\", line 1377, in train_function\n\n  File \"F:\\Machine learning python\\Deep Learning\\venv\\lib\\site-packages\\keras\\src\\engine\\training.py\", line 1360, in step_function\n\n  File \"F:\\Machine learning python\\Deep Learning\\venv\\lib\\site-packages\\keras\\src\\engine\\training.py\", line 1349, in run_step\n\n  File \"F:\\Machine learning python\\Deep Learning\\venv\\lib\\site-packages\\keras\\src\\engine\\training.py\", line 1126, in train_step\n\n  File \"F:\\Machine learning python\\Deep Learning\\venv\\lib\\site-packages\\keras\\src\\utils\\traceback_utils.py\", line 65, in error_handler\n\n  File \"F:\\Machine learning python\\Deep Learning\\venv\\lib\\site-packages\\keras\\src\\engine\\training.py\", line 589, in __call__\n\n  File \"F:\\Machine learning python\\Deep Learning\\venv\\lib\\site-packages\\keras\\src\\utils\\traceback_utils.py\", line 65, in error_handler\n\n  File \"F:\\Machine learning python\\Deep Learning\\venv\\lib\\site-packages\\keras\\src\\engine\\base_layer.py\", line 1149, in __call__\n\n  File \"F:\\Machine learning python\\Deep Learning\\venv\\lib\\site-packages\\keras\\src\\utils\\traceback_utils.py\", line 96, in error_handler\n\n  File \"F:\\Machine learning python\\Deep Learning\\venv\\lib\\site-packages\\keras\\src\\engine\\sequential.py\", line 398, in call\n\n  File \"F:\\Machine learning python\\Deep Learning\\venv\\lib\\site-packages\\keras\\src\\engine\\functional.py\", line 515, in call\n\n  File \"F:\\Machine learning python\\Deep Learning\\venv\\lib\\site-packages\\keras\\src\\engine\\functional.py\", line 672, in _run_internal_graph\n\n  File \"F:\\Machine learning python\\Deep Learning\\venv\\lib\\site-packages\\keras\\src\\utils\\traceback_utils.py\", line 65, in error_handler\n\n  File \"F:\\Machine learning python\\Deep Learning\\venv\\lib\\site-packages\\keras\\src\\engine\\base_layer.py\", line 1149, in __call__\n\n  File \"F:\\Machine learning python\\Deep Learning\\venv\\lib\\site-packages\\keras\\src\\utils\\traceback_utils.py\", line 96, in error_handler\n\n  File \"F:\\Machine learning python\\Deep Learning\\venv\\lib\\site-packages\\keras\\src\\layers\\core\\embedding.py\", line 272, in call\n\nindices[0,29] = 20390 is not in [0, 10000)\n\t [[{{node sequential_3/embedding_3/embedding_lookup}}]] [Op:__inference_train_function_2366]"
     ]
    }
   ],
   "source": [
    "model.compile(optimizer='adam', loss='binary_crossentropy', metrics=['acc'])\n",
    "history = model.fit(X_train, y_train,epochs=5,validation_data=(X_test,y_test))"
   ],
   "metadata": {
    "collapsed": false,
    "ExecuteTime": {
     "end_time": "2024-01-31T18:41:06.416646200Z",
     "start_time": "2024-01-31T18:41:04.663063Z"
    }
   },
   "id": "5146bd73a073fb6"
  },
  {
   "cell_type": "code",
   "execution_count": null,
   "outputs": [],
   "source": [],
   "metadata": {
    "collapsed": false
   },
   "id": "c1d373baf23ca3c5"
  }
 ],
 "metadata": {
  "kernelspec": {
   "display_name": "Python 3",
   "language": "python",
   "name": "python3"
  },
  "language_info": {
   "codemirror_mode": {
    "name": "ipython",
    "version": 2
   },
   "file_extension": ".py",
   "mimetype": "text/x-python",
   "name": "python",
   "nbconvert_exporter": "python",
   "pygments_lexer": "ipython2",
   "version": "2.7.6"
  }
 },
 "nbformat": 4,
 "nbformat_minor": 5
}
