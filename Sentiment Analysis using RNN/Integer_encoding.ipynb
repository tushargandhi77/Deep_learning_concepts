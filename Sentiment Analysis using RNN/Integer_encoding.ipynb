{
 "cells": [
  {
   "cell_type": "code",
   "execution_count": 1,
   "id": "initial_id",
   "metadata": {
    "collapsed": true,
    "ExecuteTime": {
     "end_time": "2024-01-31T17:54:06.523584900Z",
     "start_time": "2024-01-31T17:54:06.080618900Z"
    }
   },
   "outputs": [],
   "source": [
    "import pandas as pd"
   ]
  },
  {
   "cell_type": "code",
   "execution_count": 2,
   "outputs": [],
   "source": [
    "docs = ['go india',\n",
    "        'india india',\n",
    "        'hip hip hurray',\n",
    "        'jeetega bhai jeetega india jeetega',\n",
    "        'bharat mata ki jai',\n",
    "        'kohli kohli',\n",
    "        'sachin sachin',\n",
    "        'dhoni dhoni',\n",
    "        'modi ji ki jai',\n",
    "        'inquilab zindabad'\n",
    "        ]"
   ],
   "metadata": {
    "collapsed": false,
    "ExecuteTime": {
     "end_time": "2024-01-31T17:56:07.888451500Z",
     "start_time": "2024-01-31T17:56:07.875388200Z"
    }
   },
   "id": "69c71d47158a60f4"
  },
  {
   "cell_type": "code",
   "execution_count": 3,
   "outputs": [],
   "source": [
    "from keras.preprocessing.text import Tokenizer\n",
    "tokenizer = Tokenizer(oov_token='nothing')"
   ],
   "metadata": {
    "collapsed": false,
    "ExecuteTime": {
     "end_time": "2024-01-31T17:57:54.187781100Z",
     "start_time": "2024-01-31T17:57:51.507032300Z"
    }
   },
   "id": "5dce13a036683301"
  },
  {
   "cell_type": "code",
   "execution_count": 4,
   "outputs": [],
   "source": [
    "tokenizer.fit_on_texts(docs)"
   ],
   "metadata": {
    "collapsed": false,
    "ExecuteTime": {
     "end_time": "2024-01-31T17:58:03.948864900Z",
     "start_time": "2024-01-31T17:58:03.935843400Z"
    }
   },
   "id": "4267a1a5643a49b7"
  },
  {
   "cell_type": "code",
   "execution_count": 5,
   "outputs": [
    {
     "data": {
      "text/plain": "{'nothing': 1,\n 'india': 2,\n 'jeetega': 3,\n 'hip': 4,\n 'ki': 5,\n 'jai': 6,\n 'kohli': 7,\n 'sachin': 8,\n 'dhoni': 9,\n 'go': 10,\n 'hurray': 11,\n 'bhai': 12,\n 'bharat': 13,\n 'mata': 14,\n 'modi': 15,\n 'ji': 16,\n 'inquilab': 17,\n 'zindabad': 18}"
     },
     "execution_count": 5,
     "metadata": {},
     "output_type": "execute_result"
    }
   ],
   "source": [
    "tokenizer.word_index"
   ],
   "metadata": {
    "collapsed": false,
    "ExecuteTime": {
     "end_time": "2024-01-31T17:58:19.244720400Z",
     "start_time": "2024-01-31T17:58:19.143963300Z"
    }
   },
   "id": "e14e13d77821d7a6"
  },
  {
   "cell_type": "code",
   "execution_count": 6,
   "outputs": [
    {
     "data": {
      "text/plain": "OrderedDict([('go', 1),\n             ('india', 4),\n             ('hip', 2),\n             ('hurray', 1),\n             ('jeetega', 3),\n             ('bhai', 1),\n             ('bharat', 1),\n             ('mata', 1),\n             ('ki', 2),\n             ('jai', 2),\n             ('kohli', 2),\n             ('sachin', 2),\n             ('dhoni', 2),\n             ('modi', 1),\n             ('ji', 1),\n             ('inquilab', 1),\n             ('zindabad', 1)])"
     },
     "execution_count": 6,
     "metadata": {},
     "output_type": "execute_result"
    }
   ],
   "source": [
    "tokenizer.word_counts"
   ],
   "metadata": {
    "collapsed": false,
    "ExecuteTime": {
     "end_time": "2024-01-31T17:59:10.090195400Z",
     "start_time": "2024-01-31T17:59:10.010516700Z"
    }
   },
   "id": "c4217e16841cc0b7"
  },
  {
   "cell_type": "code",
   "execution_count": 7,
   "outputs": [
    {
     "data": {
      "text/plain": "10"
     },
     "execution_count": 7,
     "metadata": {},
     "output_type": "execute_result"
    }
   ],
   "source": [
    "tokenizer.document_count"
   ],
   "metadata": {
    "collapsed": false,
    "ExecuteTime": {
     "end_time": "2024-01-31T17:59:22.547622200Z",
     "start_time": "2024-01-31T17:59:22.513190Z"
    }
   },
   "id": "771120400067093d"
  },
  {
   "cell_type": "code",
   "execution_count": 8,
   "outputs": [],
   "source": [
    "sequences = tokenizer.texts_to_sequences(docs)"
   ],
   "metadata": {
    "collapsed": false,
    "ExecuteTime": {
     "end_time": "2024-01-31T17:59:49.166528800Z",
     "start_time": "2024-01-31T17:59:49.073531600Z"
    }
   },
   "id": "2172e891d030faa9"
  },
  {
   "cell_type": "code",
   "execution_count": 9,
   "outputs": [
    {
     "data": {
      "text/plain": "[[10, 2],\n [2, 2],\n [4, 4, 11],\n [3, 12, 3, 2, 3],\n [13, 14, 5, 6],\n [7, 7],\n [8, 8],\n [9, 9],\n [15, 16, 5, 6],\n [17, 18]]"
     },
     "execution_count": 9,
     "metadata": {},
     "output_type": "execute_result"
    }
   ],
   "source": [
    "sequences"
   ],
   "metadata": {
    "collapsed": false,
    "ExecuteTime": {
     "end_time": "2024-01-31T17:59:51.015349900Z",
     "start_time": "2024-01-31T17:59:50.887842400Z"
    }
   },
   "id": "53694d70efbef85c"
  },
  {
   "cell_type": "code",
   "execution_count": 10,
   "outputs": [],
   "source": [
    "from keras.utils import pad_sequences"
   ],
   "metadata": {
    "collapsed": false,
    "ExecuteTime": {
     "end_time": "2024-01-31T18:00:45.847985700Z",
     "start_time": "2024-01-31T18:00:45.825961100Z"
    }
   },
   "id": "1af5e64620cde10e"
  },
  {
   "cell_type": "code",
   "execution_count": 11,
   "outputs": [],
   "source": [
    "sequences = pad_sequences(sequences,padding='post')"
   ],
   "metadata": {
    "collapsed": false,
    "ExecuteTime": {
     "end_time": "2024-01-31T18:01:09.005032800Z",
     "start_time": "2024-01-31T18:01:08.982637Z"
    }
   },
   "id": "a8470a8326293ccb"
  },
  {
   "cell_type": "code",
   "execution_count": 12,
   "outputs": [
    {
     "data": {
      "text/plain": "array([[10,  2,  0,  0,  0],\n       [ 2,  2,  0,  0,  0],\n       [ 4,  4, 11,  0,  0],\n       [ 3, 12,  3,  2,  3],\n       [13, 14,  5,  6,  0],\n       [ 7,  7,  0,  0,  0],\n       [ 8,  8,  0,  0,  0],\n       [ 9,  9,  0,  0,  0],\n       [15, 16,  5,  6,  0],\n       [17, 18,  0,  0,  0]])"
     },
     "execution_count": 12,
     "metadata": {},
     "output_type": "execute_result"
    }
   ],
   "source": [
    "sequences"
   ],
   "metadata": {
    "collapsed": false,
    "ExecuteTime": {
     "end_time": "2024-01-31T18:01:11.005529300Z",
     "start_time": "2024-01-31T18:01:10.868902200Z"
    }
   },
   "id": "5bab828147a9aed5"
  },
  {
   "cell_type": "code",
   "execution_count": null,
   "outputs": [],
   "source": [],
   "metadata": {
    "collapsed": false
   },
   "id": "4a59f7c82569c002"
  }
 ],
 "metadata": {
  "kernelspec": {
   "display_name": "Python 3",
   "language": "python",
   "name": "python3"
  },
  "language_info": {
   "codemirror_mode": {
    "name": "ipython",
    "version": 2
   },
   "file_extension": ".py",
   "mimetype": "text/x-python",
   "name": "python",
   "nbconvert_exporter": "python",
   "pygments_lexer": "ipython2",
   "version": "2.7.6"
  }
 },
 "nbformat": 4,
 "nbformat_minor": 5
}
