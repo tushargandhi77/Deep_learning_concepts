{
 "cells": [
  {
   "cell_type": "code",
   "execution_count": 2,
   "id": "initial_id",
   "metadata": {
    "collapsed": true,
    "ExecuteTime": {
     "end_time": "2023-10-13T04:35:11.523807300Z",
     "start_time": "2023-10-13T04:34:57.347063500Z"
    }
   },
   "outputs": [],
   "source": [
    "import numpy as np\n",
    "import pandas as pd\n",
    "import seaborn as sns\n",
    "import matplotlib.pyplot as plt"
   ]
  },
  {
   "cell_type": "code",
   "execution_count": 3,
   "outputs": [],
   "source": [
    "df = pd.read_csv('hypothyroid_classification.csv')"
   ],
   "metadata": {
    "collapsed": false,
    "ExecuteTime": {
     "end_time": "2023-10-13T04:35:24.942448500Z",
     "start_time": "2023-10-13T04:35:24.831742200Z"
    }
   },
   "id": "780d2165aa52f5fb"
  },
  {
   "cell_type": "code",
   "execution_count": 4,
   "outputs": [
    {
     "data": {
      "text/plain": "  age sex on thyroxine query on thyroxine on antithyroid medication sick  \\\n0  41   F            f                  f                         f    f   \n1  23   F            f                  f                         f    f   \n2  46   M            f                  f                         f    f   \n3  70   F            t                  f                         f    f   \n4  70   F            f                  f                         f    f   \n\n  pregnant thyroid surgery I131 treatment query hypothyroid  ... TT4 measured  \\\n0        f               f              f                 f  ...            t   \n1        f               f              f                 f  ...            t   \n2        f               f              f                 f  ...            t   \n3        f               f              f                 f  ...            t   \n4        f               f              f                 f  ...            t   \n\n   TT4 T4U measured   T4U FTI measured  FTI TBG measured TBG referral source  \\\n0  125            t  1.14            t  109            f   ?            SVHC   \n1  102            f     ?            f    ?            f   ?           other   \n2  109            t  0.91            t  120            f   ?           other   \n3  175            f     ?            f    ?            f   ?           other   \n4   61            t  0.87            t   70            f   ?             SVI   \n\n  binaryClass  \n0           P  \n1           P  \n2           P  \n3           P  \n4           P  \n\n[5 rows x 30 columns]",
      "text/html": "<div>\n<style scoped>\n    .dataframe tbody tr th:only-of-type {\n        vertical-align: middle;\n    }\n\n    .dataframe tbody tr th {\n        vertical-align: top;\n    }\n\n    .dataframe thead th {\n        text-align: right;\n    }\n</style>\n<table border=\"1\" class=\"dataframe\">\n  <thead>\n    <tr style=\"text-align: right;\">\n      <th></th>\n      <th>age</th>\n      <th>sex</th>\n      <th>on thyroxine</th>\n      <th>query on thyroxine</th>\n      <th>on antithyroid medication</th>\n      <th>sick</th>\n      <th>pregnant</th>\n      <th>thyroid surgery</th>\n      <th>I131 treatment</th>\n      <th>query hypothyroid</th>\n      <th>...</th>\n      <th>TT4 measured</th>\n      <th>TT4</th>\n      <th>T4U measured</th>\n      <th>T4U</th>\n      <th>FTI measured</th>\n      <th>FTI</th>\n      <th>TBG measured</th>\n      <th>TBG</th>\n      <th>referral source</th>\n      <th>binaryClass</th>\n    </tr>\n  </thead>\n  <tbody>\n    <tr>\n      <th>0</th>\n      <td>41</td>\n      <td>F</td>\n      <td>f</td>\n      <td>f</td>\n      <td>f</td>\n      <td>f</td>\n      <td>f</td>\n      <td>f</td>\n      <td>f</td>\n      <td>f</td>\n      <td>...</td>\n      <td>t</td>\n      <td>125</td>\n      <td>t</td>\n      <td>1.14</td>\n      <td>t</td>\n      <td>109</td>\n      <td>f</td>\n      <td>?</td>\n      <td>SVHC</td>\n      <td>P</td>\n    </tr>\n    <tr>\n      <th>1</th>\n      <td>23</td>\n      <td>F</td>\n      <td>f</td>\n      <td>f</td>\n      <td>f</td>\n      <td>f</td>\n      <td>f</td>\n      <td>f</td>\n      <td>f</td>\n      <td>f</td>\n      <td>...</td>\n      <td>t</td>\n      <td>102</td>\n      <td>f</td>\n      <td>?</td>\n      <td>f</td>\n      <td>?</td>\n      <td>f</td>\n      <td>?</td>\n      <td>other</td>\n      <td>P</td>\n    </tr>\n    <tr>\n      <th>2</th>\n      <td>46</td>\n      <td>M</td>\n      <td>f</td>\n      <td>f</td>\n      <td>f</td>\n      <td>f</td>\n      <td>f</td>\n      <td>f</td>\n      <td>f</td>\n      <td>f</td>\n      <td>...</td>\n      <td>t</td>\n      <td>109</td>\n      <td>t</td>\n      <td>0.91</td>\n      <td>t</td>\n      <td>120</td>\n      <td>f</td>\n      <td>?</td>\n      <td>other</td>\n      <td>P</td>\n    </tr>\n    <tr>\n      <th>3</th>\n      <td>70</td>\n      <td>F</td>\n      <td>t</td>\n      <td>f</td>\n      <td>f</td>\n      <td>f</td>\n      <td>f</td>\n      <td>f</td>\n      <td>f</td>\n      <td>f</td>\n      <td>...</td>\n      <td>t</td>\n      <td>175</td>\n      <td>f</td>\n      <td>?</td>\n      <td>f</td>\n      <td>?</td>\n      <td>f</td>\n      <td>?</td>\n      <td>other</td>\n      <td>P</td>\n    </tr>\n    <tr>\n      <th>4</th>\n      <td>70</td>\n      <td>F</td>\n      <td>f</td>\n      <td>f</td>\n      <td>f</td>\n      <td>f</td>\n      <td>f</td>\n      <td>f</td>\n      <td>f</td>\n      <td>f</td>\n      <td>...</td>\n      <td>t</td>\n      <td>61</td>\n      <td>t</td>\n      <td>0.87</td>\n      <td>t</td>\n      <td>70</td>\n      <td>f</td>\n      <td>?</td>\n      <td>SVI</td>\n      <td>P</td>\n    </tr>\n  </tbody>\n</table>\n<p>5 rows × 30 columns</p>\n</div>"
     },
     "execution_count": 4,
     "metadata": {},
     "output_type": "execute_result"
    }
   ],
   "source": [
    "df.head()"
   ],
   "metadata": {
    "collapsed": false,
    "ExecuteTime": {
     "end_time": "2023-10-13T04:35:35.525078700Z",
     "start_time": "2023-10-13T04:35:35.448282900Z"
    }
   },
   "id": "9ad5208fed6171a3"
  },
  {
   "cell_type": "code",
   "execution_count": null,
   "outputs": [],
   "source": [],
   "metadata": {
    "collapsed": false
   },
   "id": "7fceda24d8326ded"
  }
 ],
 "metadata": {
  "kernelspec": {
   "display_name": "Python 3",
   "language": "python",
   "name": "python3"
  },
  "language_info": {
   "codemirror_mode": {
    "name": "ipython",
    "version": 2
   },
   "file_extension": ".py",
   "mimetype": "text/x-python",
   "name": "python",
   "nbconvert_exporter": "python",
   "pygments_lexer": "ipython2",
   "version": "2.7.6"
  }
 },
 "nbformat": 4,
 "nbformat_minor": 5
}
