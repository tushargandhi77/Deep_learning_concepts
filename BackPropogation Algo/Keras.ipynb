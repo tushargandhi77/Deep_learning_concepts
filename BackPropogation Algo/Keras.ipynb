{
 "cells": [
  {
   "cell_type": "code",
   "execution_count": 1,
   "id": "initial_id",
   "metadata": {
    "collapsed": true,
    "ExecuteTime": {
     "end_time": "2023-11-12T10:50:19.681743400Z",
     "start_time": "2023-11-12T10:50:16.108895300Z"
    }
   },
   "outputs": [],
   "source": [
    "import numpy as np\n",
    "import pandas as pd"
   ]
  },
  {
   "cell_type": "code",
   "execution_count": 2,
   "outputs": [],
   "source": [
    "df = pd.DataFrame([[8,8,4],[7,9,5],[6,10,6],[5,12,7]],columns=['cgpa','profile_score','lpa'])"
   ],
   "metadata": {
    "collapsed": false,
    "ExecuteTime": {
     "end_time": "2023-11-12T10:50:19.691657800Z",
     "start_time": "2023-11-12T10:50:19.680169500Z"
    }
   },
   "id": "27efb9608552a5b"
  },
  {
   "cell_type": "code",
   "execution_count": 3,
   "outputs": [],
   "source": [
    "import tensorflow\n",
    "from tensorflow import keras\n",
    "from keras import Sequential\n",
    "from keras.layers import Dense"
   ],
   "metadata": {
    "collapsed": false,
    "ExecuteTime": {
     "end_time": "2023-11-12T10:51:28.170370600Z",
     "start_time": "2023-11-12T10:51:00.157466400Z"
    }
   },
   "id": "d3e2d3042df6a69b"
  },
  {
   "cell_type": "code",
   "execution_count": 6,
   "outputs": [],
   "source": [
    "model = Sequential()\n",
    "\n",
    "model.add(Dense(2,activation='linear',input_dim=2))\n",
    "model.add(Dense(1,activation='linear'))"
   ],
   "metadata": {
    "collapsed": false,
    "ExecuteTime": {
     "end_time": "2023-11-12T10:52:21.666414Z",
     "start_time": "2023-11-12T10:52:21.182935900Z"
    }
   },
   "id": "e50e7c527fefdf53"
  },
  {
   "cell_type": "code",
   "execution_count": 7,
   "outputs": [
    {
     "name": "stdout",
     "output_type": "stream",
     "text": [
      "Model: \"sequential_1\"\n",
      "_________________________________________________________________\n",
      " Layer (type)                Output Shape              Param #   \n",
      "=================================================================\n",
      " dense (Dense)               (None, 2)                 6         \n",
      "                                                                 \n",
      " dense_1 (Dense)             (None, 1)                 3         \n",
      "                                                                 \n",
      "=================================================================\n",
      "Total params: 9 (36.00 Byte)\n",
      "Trainable params: 9 (36.00 Byte)\n",
      "Non-trainable params: 0 (0.00 Byte)\n",
      "_________________________________________________________________\n"
     ]
    }
   ],
   "source": [
    "model.summary()"
   ],
   "metadata": {
    "collapsed": false,
    "ExecuteTime": {
     "end_time": "2023-11-12T10:52:23.708889700Z",
     "start_time": "2023-11-12T10:52:23.631471Z"
    }
   },
   "id": "5b3b233bc5f3739a"
  },
  {
   "cell_type": "code",
   "execution_count": 8,
   "outputs": [
    {
     "data": {
      "text/plain": "[array([[-0.2821104,  1.1063989],\n        [-0.0949657, -0.8214803]], dtype=float32),\n array([0., 0.], dtype=float32),\n array([[-0.7449728],\n        [ 0.3057406]], dtype=float32),\n array([0.], dtype=float32)]"
     },
     "execution_count": 8,
     "metadata": {},
     "output_type": "execute_result"
    }
   ],
   "source": [
    "model.get_weights()"
   ],
   "metadata": {
    "collapsed": false,
    "ExecuteTime": {
     "end_time": "2023-11-12T10:52:45.045490600Z",
     "start_time": "2023-11-12T10:52:44.945754900Z"
    }
   },
   "id": "5c9d27895d714322"
  },
  {
   "cell_type": "code",
   "execution_count": 9,
   "outputs": [],
   "source": [
    "optimizer = keras.optimizers.Adam(learning_rate=0.01)\n",
    "model.compile(loss='mean_squared_error',optimizer=optimizer)"
   ],
   "metadata": {
    "collapsed": false,
    "ExecuteTime": {
     "end_time": "2023-11-12T10:56:19.997976500Z",
     "start_time": "2023-11-12T10:56:19.958728900Z"
    }
   },
   "id": "1172738a3cecfdf0"
  },
  {
   "cell_type": "code",
   "execution_count": 10,
   "outputs": [
    {
     "name": "stdout",
     "output_type": "stream",
     "text": [
      "Epoch 1/75\n",
      "4/4 [==============================] - 2s 10ms/step - loss: 15.8963\n",
      "Epoch 2/75\n",
      "4/4 [==============================] - 0s 7ms/step - loss: 9.8551\n",
      "Epoch 3/75\n",
      "4/4 [==============================] - 0s 7ms/step - loss: 7.5731\n",
      "Epoch 4/75\n",
      "4/4 [==============================] - 0s 8ms/step - loss: 4.4223\n",
      "Epoch 5/75\n",
      "4/4 [==============================] - 0s 5ms/step - loss: 4.1948\n",
      "Epoch 6/75\n",
      "4/4 [==============================] - 0s 4ms/step - loss: 2.8891\n",
      "Epoch 7/75\n",
      "4/4 [==============================] - 0s 3ms/step - loss: 2.8026\n",
      "Epoch 8/75\n",
      "4/4 [==============================] - 0s 3ms/step - loss: 2.7239\n",
      "Epoch 9/75\n",
      "4/4 [==============================] - 0s 4ms/step - loss: 2.5519\n",
      "Epoch 10/75\n",
      "4/4 [==============================] - 0s 4ms/step - loss: 2.4490\n",
      "Epoch 11/75\n",
      "4/4 [==============================] - 0s 4ms/step - loss: 2.1067\n",
      "Epoch 12/75\n",
      "4/4 [==============================] - 0s 5ms/step - loss: 1.9123\n",
      "Epoch 13/75\n",
      "4/4 [==============================] - 0s 5ms/step - loss: 1.7233\n",
      "Epoch 14/75\n",
      "4/4 [==============================] - 0s 6ms/step - loss: 1.6161\n",
      "Epoch 15/75\n",
      "4/4 [==============================] - 0s 5ms/step - loss: 1.5809\n",
      "Epoch 16/75\n",
      "4/4 [==============================] - 0s 3ms/step - loss: 1.3548\n",
      "Epoch 17/75\n",
      "4/4 [==============================] - 0s 3ms/step - loss: 1.2939\n",
      "Epoch 18/75\n",
      "4/4 [==============================] - 0s 3ms/step - loss: 1.1713\n",
      "Epoch 19/75\n",
      "4/4 [==============================] - 0s 3ms/step - loss: 1.0385\n",
      "Epoch 20/75\n",
      "4/4 [==============================] - 0s 4ms/step - loss: 0.9924\n",
      "Epoch 21/75\n",
      "4/4 [==============================] - 0s 3ms/step - loss: 0.8883\n",
      "Epoch 22/75\n",
      "4/4 [==============================] - 0s 5ms/step - loss: 0.7776\n",
      "Epoch 23/75\n",
      "4/4 [==============================] - 0s 6ms/step - loss: 0.7169\n",
      "Epoch 24/75\n",
      "4/4 [==============================] - 0s 6ms/step - loss: 0.6494\n",
      "Epoch 25/75\n",
      "4/4 [==============================] - 0s 4ms/step - loss: 0.5919\n",
      "Epoch 26/75\n",
      "4/4 [==============================] - 0s 4ms/step - loss: 0.5425\n",
      "Epoch 27/75\n",
      "4/4 [==============================] - 0s 4ms/step - loss: 0.4724\n",
      "Epoch 28/75\n",
      "4/4 [==============================] - 0s 4ms/step - loss: 0.4607\n",
      "Epoch 29/75\n",
      "4/4 [==============================] - 0s 5ms/step - loss: 0.3945\n",
      "Epoch 30/75\n",
      "4/4 [==============================] - 0s 4ms/step - loss: 0.3510\n",
      "Epoch 31/75\n",
      "4/4 [==============================] - 0s 5ms/step - loss: 0.3120\n",
      "Epoch 32/75\n",
      "4/4 [==============================] - 0s 4ms/step - loss: 0.2856\n",
      "Epoch 33/75\n",
      "4/4 [==============================] - 0s 5ms/step - loss: 0.2600\n",
      "Epoch 34/75\n",
      "4/4 [==============================] - 0s 5ms/step - loss: 0.2216\n",
      "Epoch 35/75\n",
      "4/4 [==============================] - 0s 5ms/step - loss: 0.2007\n",
      "Epoch 36/75\n",
      "4/4 [==============================] - 0s 5ms/step - loss: 0.1720\n",
      "Epoch 37/75\n",
      "4/4 [==============================] - 0s 5ms/step - loss: 0.1494\n",
      "Epoch 38/75\n",
      "4/4 [==============================] - 0s 6ms/step - loss: 0.1401\n",
      "Epoch 39/75\n",
      "4/4 [==============================] - 0s 6ms/step - loss: 0.1220\n",
      "Epoch 40/75\n",
      "4/4 [==============================] - 0s 6ms/step - loss: 0.1096\n",
      "Epoch 41/75\n",
      "4/4 [==============================] - 0s 6ms/step - loss: 0.0940\n",
      "Epoch 42/75\n",
      "4/4 [==============================] - 0s 3ms/step - loss: 0.0844\n",
      "Epoch 43/75\n",
      "4/4 [==============================] - 0s 3ms/step - loss: 0.0805\n",
      "Epoch 44/75\n",
      "4/4 [==============================] - 0s 4ms/step - loss: 0.0710\n",
      "Epoch 45/75\n",
      "4/4 [==============================] - 0s 3ms/step - loss: 0.0633\n",
      "Epoch 46/75\n",
      "4/4 [==============================] - 0s 5ms/step - loss: 0.0585\n",
      "Epoch 47/75\n",
      "4/4 [==============================] - 0s 5ms/step - loss: 0.0539\n",
      "Epoch 48/75\n",
      "4/4 [==============================] - 0s 5ms/step - loss: 0.0558\n",
      "Epoch 49/75\n",
      "4/4 [==============================] - 0s 6ms/step - loss: 0.0475\n",
      "Epoch 50/75\n",
      "4/4 [==============================] - 0s 6ms/step - loss: 0.0437\n",
      "Epoch 51/75\n",
      "4/4 [==============================] - 0s 6ms/step - loss: 0.0405\n",
      "Epoch 52/75\n",
      "4/4 [==============================] - 0s 7ms/step - loss: 0.0391\n",
      "Epoch 53/75\n",
      "4/4 [==============================] - 0s 5ms/step - loss: 0.0381\n",
      "Epoch 54/75\n",
      "4/4 [==============================] - 0s 3ms/step - loss: 0.0360\n",
      "Epoch 55/75\n",
      "4/4 [==============================] - 0s 3ms/step - loss: 0.0362\n",
      "Epoch 56/75\n",
      "4/4 [==============================] - 0s 4ms/step - loss: 0.0353\n",
      "Epoch 57/75\n",
      "4/4 [==============================] - 0s 4ms/step - loss: 0.0343\n",
      "Epoch 58/75\n",
      "4/4 [==============================] - 0s 5ms/step - loss: 0.0331\n",
      "Epoch 59/75\n",
      "4/4 [==============================] - 0s 5ms/step - loss: 0.0332\n",
      "Epoch 60/75\n",
      "4/4 [==============================] - 0s 4ms/step - loss: 0.0328\n",
      "Epoch 61/75\n",
      "4/4 [==============================] - 0s 4ms/step - loss: 0.0354\n",
      "Epoch 62/75\n",
      "4/4 [==============================] - 0s 4ms/step - loss: 0.0325\n",
      "Epoch 63/75\n",
      "4/4 [==============================] - 0s 4ms/step - loss: 0.0327\n",
      "Epoch 64/75\n",
      "4/4 [==============================] - 0s 4ms/step - loss: 0.0337\n",
      "Epoch 65/75\n",
      "4/4 [==============================] - 0s 4ms/step - loss: 0.0335\n",
      "Epoch 66/75\n",
      "4/4 [==============================] - 0s 5ms/step - loss: 0.0329\n",
      "Epoch 67/75\n",
      "4/4 [==============================] - 0s 6ms/step - loss: 0.0326\n",
      "Epoch 68/75\n",
      "4/4 [==============================] - 0s 6ms/step - loss: 0.0313\n",
      "Epoch 69/75\n",
      "4/4 [==============================] - 0s 6ms/step - loss: 0.0334\n",
      "Epoch 70/75\n",
      "4/4 [==============================] - 0s 6ms/step - loss: 0.0332\n",
      "Epoch 71/75\n",
      "4/4 [==============================] - 0s 7ms/step - loss: 0.0342\n",
      "Epoch 72/75\n",
      "4/4 [==============================] - 0s 6ms/step - loss: 0.0323\n",
      "Epoch 73/75\n",
      "4/4 [==============================] - 0s 6ms/step - loss: 0.0342\n",
      "Epoch 74/75\n",
      "4/4 [==============================] - 0s 6ms/step - loss: 0.0329\n",
      "Epoch 75/75\n",
      "4/4 [==============================] - 0s 6ms/step - loss: 0.0348\n"
     ]
    },
    {
     "data": {
      "text/plain": "<keras.src.callbacks.History at 0x189a8052890>"
     },
     "execution_count": 10,
     "metadata": {},
     "output_type": "execute_result"
    }
   ],
   "source": [
    "model.fit(df.iloc[:,0:-1].values,df['lpa'].values,epochs=75,verbose=1,batch_size=1)"
   ],
   "metadata": {
    "collapsed": false,
    "ExecuteTime": {
     "end_time": "2023-11-12T10:57:13.623982Z",
     "start_time": "2023-11-12T10:57:08.100395300Z"
    }
   },
   "id": "93ac5852f110851b"
  },
  {
   "cell_type": "code",
   "execution_count": 11,
   "outputs": [
    {
     "data": {
      "text/plain": "[array([[-0.3259644 ,  1.3021204 ],\n        [-0.40777785, -0.68940085]], dtype=float32),\n array([-0.20480494,  0.15432476], dtype=float32),\n array([[-0.9530147],\n        [-0.358528 ]], dtype=float32),\n array([0.20274955], dtype=float32)]"
     },
     "execution_count": 11,
     "metadata": {},
     "output_type": "execute_result"
    }
   ],
   "source": [
    "model.get_weights()"
   ],
   "metadata": {
    "collapsed": false,
    "ExecuteTime": {
     "end_time": "2023-11-12T10:57:36.317534400Z",
     "start_time": "2023-11-12T10:57:36.200647600Z"
    }
   },
   "id": "6745b9506f72787b"
  },
  {
   "cell_type": "code",
   "execution_count": null,
   "outputs": [],
   "source": [],
   "metadata": {
    "collapsed": false
   },
   "id": "5ec4c4227462b8b2"
  }
 ],
 "metadata": {
  "kernelspec": {
   "display_name": "Python 3",
   "language": "python",
   "name": "python3"
  },
  "language_info": {
   "codemirror_mode": {
    "name": "ipython",
    "version": 2
   },
   "file_extension": ".py",
   "mimetype": "text/x-python",
   "name": "python",
   "nbconvert_exporter": "python",
   "pygments_lexer": "ipython2",
   "version": "2.7.6"
  }
 },
 "nbformat": 4,
 "nbformat_minor": 5
}
