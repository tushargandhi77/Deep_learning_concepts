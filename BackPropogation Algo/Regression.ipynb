{
 "cells": [
  {
   "cell_type": "code",
   "execution_count": 1,
   "id": "initial_id",
   "metadata": {
    "collapsed": true,
    "ExecuteTime": {
     "end_time": "2023-11-12T04:19:32.281817300Z",
     "start_time": "2023-11-12T04:19:32.261214600Z"
    }
   },
   "outputs": [
    {
     "name": "stdout",
     "output_type": "stream",
     "text": [
      "Hello\n"
     ]
    }
   ],
   "source": [
    "print('Hello')"
   ]
  },
  {
   "cell_type": "code",
   "execution_count": 2,
   "outputs": [],
   "source": [
    "import numpy as np\n",
    "import pandas as pd"
   ],
   "metadata": {
    "collapsed": false,
    "ExecuteTime": {
     "end_time": "2023-11-12T04:23:03.634854600Z",
     "start_time": "2023-11-12T04:23:03.182246Z"
    }
   },
   "id": "4581e900ce80cdf0"
  },
  {
   "cell_type": "code",
   "execution_count": 3,
   "outputs": [],
   "source": [
    "df = pd.DataFrame([[8,8,4],[7,9,5],[6,10,6],[5,12,7]],columns=['cgpa','profile_score','lpa'])"
   ],
   "metadata": {
    "collapsed": false,
    "ExecuteTime": {
     "end_time": "2023-11-12T04:53:25.312311200Z",
     "start_time": "2023-11-12T04:53:25.197575200Z"
    }
   },
   "id": "e9d5edb143a3ea5"
  },
  {
   "cell_type": "code",
   "execution_count": 4,
   "outputs": [
    {
     "data": {
      "text/plain": "   cgpa  profile_score  lpa\n0     8              8    4\n1     7              9    5\n2     6             10    6\n3     5             12    7",
      "text/html": "<div>\n<style scoped>\n    .dataframe tbody tr th:only-of-type {\n        vertical-align: middle;\n    }\n\n    .dataframe tbody tr th {\n        vertical-align: top;\n    }\n\n    .dataframe thead th {\n        text-align: right;\n    }\n</style>\n<table border=\"1\" class=\"dataframe\">\n  <thead>\n    <tr style=\"text-align: right;\">\n      <th></th>\n      <th>cgpa</th>\n      <th>profile_score</th>\n      <th>lpa</th>\n    </tr>\n  </thead>\n  <tbody>\n    <tr>\n      <th>0</th>\n      <td>8</td>\n      <td>8</td>\n      <td>4</td>\n    </tr>\n    <tr>\n      <th>1</th>\n      <td>7</td>\n      <td>9</td>\n      <td>5</td>\n    </tr>\n    <tr>\n      <th>2</th>\n      <td>6</td>\n      <td>10</td>\n      <td>6</td>\n    </tr>\n    <tr>\n      <th>3</th>\n      <td>5</td>\n      <td>12</td>\n      <td>7</td>\n    </tr>\n  </tbody>\n</table>\n</div>"
     },
     "execution_count": 4,
     "metadata": {},
     "output_type": "execute_result"
    }
   ],
   "source": [
    "df"
   ],
   "metadata": {
    "collapsed": false,
    "ExecuteTime": {
     "end_time": "2023-11-12T04:53:26.700993400Z",
     "start_time": "2023-11-12T04:53:26.612739400Z"
    }
   },
   "id": "9654132663beef4"
  },
  {
   "cell_type": "code",
   "execution_count": 23,
   "outputs": [],
   "source": [
    "def initialize_parameter(layer_dims):\n",
    "    np.random.seed(3)\n",
    "    parameter = {}\n",
    "    L = len(layer_dims)\n",
    "    for l in range(1,L):\n",
    "        parameter['W'+str(l)] = np.ones((layer_dims[l-1],layer_dims[l]))*0.1\n",
    "        parameter['b'+str(l)] = np.zeros((layer_dims[l],1))\n",
    "    return parameter"
   ],
   "metadata": {
    "collapsed": false,
    "ExecuteTime": {
     "end_time": "2023-11-12T10:28:35.846561900Z",
     "start_time": "2023-11-12T10:28:35.828847100Z"
    }
   },
   "id": "3d6f44c140e7ea17"
  },
  {
   "cell_type": "code",
   "execution_count": 24,
   "outputs": [
    {
     "data": {
      "text/plain": "{'W1': array([[0.1, 0.1],\n        [0.1, 0.1]]),\n 'b1': array([[0.],\n        [0.]]),\n 'W2': array([[0.1],\n        [0.1]]),\n 'b2': array([[0.]])}"
     },
     "execution_count": 24,
     "metadata": {},
     "output_type": "execute_result"
    }
   ],
   "source": [
    "initialize_parameter([2,2,1])"
   ],
   "metadata": {
    "collapsed": false,
    "ExecuteTime": {
     "end_time": "2023-11-12T10:28:36.484304400Z",
     "start_time": "2023-11-12T10:28:36.456203600Z"
    }
   },
   "id": "9faef44be83bec5d"
  },
  {
   "cell_type": "code",
   "execution_count": 25,
   "outputs": [],
   "source": [
    "def linear_forward(A_prev,W,b):\n",
    "    z = np.dot(W.T,A_prev) + b\n",
    "    return z"
   ],
   "metadata": {
    "collapsed": false,
    "ExecuteTime": {
     "end_time": "2023-11-12T10:28:37.230615800Z",
     "start_time": "2023-11-12T10:28:37.209644300Z"
    }
   },
   "id": "c8976a81f58307b8"
  },
  {
   "cell_type": "code",
   "execution_count": 46,
   "outputs": [],
   "source": [
    "def L_layer_forward(x,parameter):\n",
    "    A = x\n",
    "    L = len(parameter) // 2\n",
    "    \n",
    "    for l in range(1,L+1):\n",
    "        A_prev = A\n",
    "        W1 = parameter['W'+str(l)]\n",
    "        b1 = parameter['b'+str(l)]\n",
    "        # print(\"A\"+str(l-1)+\": \",A_prev)\n",
    "        # print(\"W\"+str(l)+\": \",W1)\n",
    "        # print(\"b\"+str(l)+\": \",b1)\n",
    "        # print(\"__\"*20)\n",
    "        \n",
    "        A = linear_forward(A_prev,W1,b1)\n",
    "        # print(\"A\"+str(l)+\": \",A)\n",
    "        # print(\"**\"*20)\n",
    "    \n",
    "    return A,A_prev"
   ],
   "metadata": {
    "collapsed": false,
    "ExecuteTime": {
     "end_time": "2023-11-12T10:48:37.766242100Z",
     "start_time": "2023-11-12T10:48:37.749903300Z"
    }
   },
   "id": "4600f2e07a3de0f4"
  },
  {
   "cell_type": "code",
   "execution_count": 39,
   "outputs": [
    {
     "name": "stdout",
     "output_type": "stream",
     "text": [
      "A0:  [[8]\n",
      " [8]]\n",
      "W1:  [[0.1 0.1]\n",
      " [0.1 0.1]]\n",
      "b1:  [[0.]\n",
      " [0.]]\n",
      "________________________________________\n",
      "A1:  [[1.6]\n",
      " [1.6]]\n",
      "****************************************\n",
      "A1:  [[1.6]\n",
      " [1.6]]\n",
      "W2:  [[0.1]\n",
      " [0.1]]\n",
      "b2:  [[0.]]\n",
      "________________________________________\n",
      "A2:  [[0.32]]\n",
      "****************************************\n"
     ]
    }
   ],
   "source": [
    "x = df[['cgpa','profile_score']].values[0].reshape(2,1)\n",
    "y = df[['lpa']].values[0][0]\n",
    "\n",
    "parameter = initialize_parameter([2,2,1])\n",
    "y_hat,A1 = L_layer_forward(x,parameter)"
   ],
   "metadata": {
    "collapsed": false,
    "ExecuteTime": {
     "end_time": "2023-11-12T10:41:25.169361200Z",
     "start_time": "2023-11-12T10:41:25.131980200Z"
    }
   },
   "id": "8baea083863b0260"
  },
  {
   "cell_type": "code",
   "execution_count": 40,
   "outputs": [],
   "source": [
    "y_hat = y_hat[0][0]"
   ],
   "metadata": {
    "collapsed": false,
    "ExecuteTime": {
     "end_time": "2023-11-12T10:42:10.908454100Z",
     "start_time": "2023-11-12T10:42:10.779881800Z"
    }
   },
   "id": "e77e86cdb5e12a9c"
  },
  {
   "cell_type": "code",
   "execution_count": null,
   "outputs": [],
   "source": [],
   "metadata": {
    "collapsed": false
   },
   "id": "27fe72779ba30ad4"
  },
  {
   "cell_type": "code",
   "execution_count": 41,
   "outputs": [],
   "source": [
    "def update_parameters(parameters,y,y_hat,A1,X):\n",
    "  parameters['W2'][0][0] = parameters['W2'][0][0] + (0.001 * 2 * (y - y_hat)*A1[0][0])\n",
    "  parameters['W2'][1][0] = parameters['W2'][1][0] + (0.001 * 2 * (y - y_hat)*A1[1][0])\n",
    "  parameters['b2'][0][0] = parameters['W2'][1][0] + (0.001 * 2 * (y - y_hat))\n",
    "\n",
    "  parameters['W1'][0][0] = parameters['W1'][0][0] + (0.001 * 2 * (y - y_hat)*parameters['W2'][0][0]*X[0][0])\n",
    "  parameters['W1'][0][1] = parameters['W1'][0][1] + (0.001 * 2 * (y - y_hat)*parameters['W2'][0][0]*X[1][0])\n",
    "  parameters['b1'][0][0] = parameters['b1'][0][0] + (0.001 * 2 * (y - y_hat)*parameters['W2'][0][0])\n",
    "\n",
    "  parameters['W1'][1][0] = parameters['W1'][1][0] + (0.001 * 2 * (y - y_hat)*parameters['W2'][1][0]*X[0][0])\n",
    "  parameters['W1'][1][1] = parameters['W1'][1][1] + (0.001 * 2 * (y - y_hat)*parameters['W2'][1][0]*X[1][0])\n",
    "  parameters['b1'][1][0] = parameters['b1'][1][0] + (0.001 * 2 * (y - y_hat)*parameters['W2'][1][0])"
   ],
   "metadata": {
    "collapsed": false,
    "ExecuteTime": {
     "end_time": "2023-11-12T10:42:51.852705700Z",
     "start_time": "2023-11-12T10:42:51.727804700Z"
    }
   },
   "id": "5a1653b7d848f289"
  },
  {
   "cell_type": "code",
   "execution_count": 43,
   "outputs": [],
   "source": [
    "update_parameters(parameter,y,y_hat,A1,x)"
   ],
   "metadata": {
    "collapsed": false,
    "ExecuteTime": {
     "end_time": "2023-11-12T10:43:19.436465700Z",
     "start_time": "2023-11-12T10:43:19.330740300Z"
    }
   },
   "id": "e96e9b14ae10d271"
  },
  {
   "cell_type": "code",
   "execution_count": 44,
   "outputs": [
    {
     "data": {
      "text/plain": "{'W1': array([[0.10658137, 0.10658137],\n        [0.10658137, 0.10658137]]),\n 'b1': array([[0.00082267],\n        [0.00082267]]),\n 'W2': array([[0.111776],\n        [0.111776]]),\n 'b2': array([[0.119136]])}"
     },
     "execution_count": 44,
     "metadata": {},
     "output_type": "execute_result"
    }
   ],
   "source": [
    "parameter"
   ],
   "metadata": {
    "collapsed": false,
    "ExecuteTime": {
     "end_time": "2023-11-12T10:43:23.725537Z",
     "start_time": "2023-11-12T10:43:23.596030Z"
    }
   },
   "id": "1d660165169a68b8"
  },
  {
   "cell_type": "markdown",
   "source": [
    "# Main  Function"
   ],
   "metadata": {
    "collapsed": false
   },
   "id": "b2b427ae8a59cc47"
  },
  {
   "cell_type": "code",
   "execution_count": 47,
   "outputs": [
    {
     "name": "stdout",
     "output_type": "stream",
     "text": [
      "Epoch -  1 Loss -  25.321744156025517\n",
      "Epoch -  2 Loss -  18.320004165722047\n",
      "Epoch -  3 Loss -  9.473661050729628\n",
      "Epoch -  4 Loss -  3.2520938634031613\n",
      "Epoch -  5 Loss -  1.3407132589299962\n"
     ]
    },
    {
     "data": {
      "text/plain": "{'W1': array([[0.26507636, 0.38558861],\n        [0.27800387, 0.40980287]]),\n 'b1': array([[0.02749056],\n        [0.02974394]]),\n 'W2': array([[0.41165744],\n        [0.48302736]]),\n 'b2': array([[0.48646246]])}"
     },
     "execution_count": 47,
     "metadata": {},
     "output_type": "execute_result"
    }
   ],
   "source": [
    "parameters = initialize_parameter([2,2,1])\n",
    "epochs = 5\n",
    "\n",
    "for i in range(epochs):\n",
    "\n",
    "  Loss = []\n",
    "\n",
    "  for j in range(df.shape[0]):\n",
    "\n",
    "    X = df[['cgpa', 'profile_score']].values[j].reshape(2,1) # Shape(no of features, no. of training example)\n",
    "    y = df[['lpa']].values[j][0]\n",
    "\n",
    "    # Parameter initialization\n",
    "\n",
    "\n",
    "    y_hat,A1 = L_layer_forward(X,parameters)\n",
    "    y_hat = y_hat[0][0]\n",
    "\n",
    "    update_parameters(parameters,y,y_hat,A1,X)\n",
    "\n",
    "    Loss.append((y-y_hat)**2)\n",
    "\n",
    "  print('Epoch - ',i+1,'Loss - ',np.array(Loss).mean())\n",
    "\n",
    "parameters"
   ],
   "metadata": {
    "collapsed": false,
    "ExecuteTime": {
     "end_time": "2023-11-12T10:48:41.117223900Z",
     "start_time": "2023-11-12T10:48:41.063700100Z"
    }
   },
   "id": "20992847768d9c71"
  },
  {
   "cell_type": "code",
   "execution_count": null,
   "outputs": [],
   "source": [],
   "metadata": {
    "collapsed": false
   },
   "id": "bf74889135232f5b"
  }
 ],
 "metadata": {
  "kernelspec": {
   "display_name": "Python 3",
   "language": "python",
   "name": "python3"
  },
  "language_info": {
   "codemirror_mode": {
    "name": "ipython",
    "version": 2
   },
   "file_extension": ".py",
   "mimetype": "text/x-python",
   "name": "python",
   "nbconvert_exporter": "python",
   "pygments_lexer": "ipython2",
   "version": "2.7.6"
  }
 },
 "nbformat": 4,
 "nbformat_minor": 5
}
