{
 "cells": [
  {
   "cell_type": "code",
   "execution_count": 1,
   "id": "initial_id",
   "metadata": {
    "collapsed": true,
    "ExecuteTime": {
     "end_time": "2023-12-04T16:55:58.415259Z",
     "start_time": "2023-12-04T16:55:38.203385700Z"
    }
   },
   "outputs": [],
   "source": [
    "import numpy as np\n",
    "import pandas as pd"
   ]
  },
  {
   "cell_type": "code",
   "execution_count": 2,
   "outputs": [],
   "source": [
    "df = pd.read_csv('diabetes.csv')"
   ],
   "metadata": {
    "collapsed": false,
    "ExecuteTime": {
     "end_time": "2023-12-04T16:55:58.620373700Z",
     "start_time": "2023-12-04T16:55:58.415259Z"
    }
   },
   "id": "4e134929158deb96"
  },
  {
   "cell_type": "code",
   "execution_count": 3,
   "outputs": [
    {
     "data": {
      "text/plain": "   Pregnancies  Glucose  BloodPressure  SkinThickness  Insulin   BMI  \\\n0            6      148             72             35        0  33.6   \n1            1       85             66             29        0  26.6   \n2            8      183             64              0        0  23.3   \n3            1       89             66             23       94  28.1   \n4            0      137             40             35      168  43.1   \n\n   DiabetesPedigreeFunction  Age  Outcome  \n0                     0.627   50        1  \n1                     0.351   31        0  \n2                     0.672   32        1  \n3                     0.167   21        0  \n4                     2.288   33        1  ",
      "text/html": "<div>\n<style scoped>\n    .dataframe tbody tr th:only-of-type {\n        vertical-align: middle;\n    }\n\n    .dataframe tbody tr th {\n        vertical-align: top;\n    }\n\n    .dataframe thead th {\n        text-align: right;\n    }\n</style>\n<table border=\"1\" class=\"dataframe\">\n  <thead>\n    <tr style=\"text-align: right;\">\n      <th></th>\n      <th>Pregnancies</th>\n      <th>Glucose</th>\n      <th>BloodPressure</th>\n      <th>SkinThickness</th>\n      <th>Insulin</th>\n      <th>BMI</th>\n      <th>DiabetesPedigreeFunction</th>\n      <th>Age</th>\n      <th>Outcome</th>\n    </tr>\n  </thead>\n  <tbody>\n    <tr>\n      <th>0</th>\n      <td>6</td>\n      <td>148</td>\n      <td>72</td>\n      <td>35</td>\n      <td>0</td>\n      <td>33.6</td>\n      <td>0.627</td>\n      <td>50</td>\n      <td>1</td>\n    </tr>\n    <tr>\n      <th>1</th>\n      <td>1</td>\n      <td>85</td>\n      <td>66</td>\n      <td>29</td>\n      <td>0</td>\n      <td>26.6</td>\n      <td>0.351</td>\n      <td>31</td>\n      <td>0</td>\n    </tr>\n    <tr>\n      <th>2</th>\n      <td>8</td>\n      <td>183</td>\n      <td>64</td>\n      <td>0</td>\n      <td>0</td>\n      <td>23.3</td>\n      <td>0.672</td>\n      <td>32</td>\n      <td>1</td>\n    </tr>\n    <tr>\n      <th>3</th>\n      <td>1</td>\n      <td>89</td>\n      <td>66</td>\n      <td>23</td>\n      <td>94</td>\n      <td>28.1</td>\n      <td>0.167</td>\n      <td>21</td>\n      <td>0</td>\n    </tr>\n    <tr>\n      <th>4</th>\n      <td>0</td>\n      <td>137</td>\n      <td>40</td>\n      <td>35</td>\n      <td>168</td>\n      <td>43.1</td>\n      <td>2.288</td>\n      <td>33</td>\n      <td>1</td>\n    </tr>\n  </tbody>\n</table>\n</div>"
     },
     "execution_count": 3,
     "metadata": {},
     "output_type": "execute_result"
    }
   ],
   "source": [
    "df.head()"
   ],
   "metadata": {
    "collapsed": false,
    "ExecuteTime": {
     "end_time": "2023-12-04T16:55:58.970533100Z",
     "start_time": "2023-12-04T16:55:58.623365300Z"
    }
   },
   "id": "7f261bf5ca5bba07"
  },
  {
   "cell_type": "markdown",
   "source": [
    "## Corelation Check"
   ],
   "metadata": {
    "collapsed": false
   },
   "id": "f62f87e3a9bb2cd9"
  },
  {
   "cell_type": "code",
   "execution_count": 4,
   "outputs": [
    {
     "data": {
      "text/plain": "Pregnancies                  22.189815\nGlucose                      46.658140\nBloodPressure                 6.506836\nSkinThickness                 7.475223\nInsulin                      13.054795\nBMI                          29.269466\nDiabetesPedigreeFunction     17.384407\nAge                          23.835598\nOutcome                     100.000000\nName: Outcome, dtype: float64"
     },
     "execution_count": 4,
     "metadata": {},
     "output_type": "execute_result"
    }
   ],
   "source": [
    "df.corr()['Outcome']*100"
   ],
   "metadata": {
    "collapsed": false,
    "ExecuteTime": {
     "end_time": "2023-12-04T16:56:00.090970900Z",
     "start_time": "2023-12-04T16:55:58.962458800Z"
    }
   },
   "id": "c924965fcaafe7ba"
  },
  {
   "cell_type": "code",
   "execution_count": 5,
   "outputs": [],
   "source": [
    "X = df.iloc[:,:-1].values\n",
    "y = df.iloc[:,-1].values"
   ],
   "metadata": {
    "collapsed": false,
    "ExecuteTime": {
     "end_time": "2023-12-04T16:56:00.153833200Z",
     "start_time": "2023-12-04T16:55:59.056261800Z"
    }
   },
   "id": "a285461783ddcd8"
  },
  {
   "cell_type": "markdown",
   "source": [
    "## Standard scaling"
   ],
   "metadata": {
    "collapsed": false
   },
   "id": "1330897d1552f16b"
  },
  {
   "cell_type": "code",
   "execution_count": 6,
   "outputs": [],
   "source": [
    "from sklearn.preprocessing import StandardScaler\n",
    "\n",
    "scaler = StandardScaler()"
   ],
   "metadata": {
    "collapsed": false,
    "ExecuteTime": {
     "end_time": "2023-12-04T16:56:20.087943100Z",
     "start_time": "2023-12-04T16:55:59.074217800Z"
    }
   },
   "id": "6601cd78754b9c6e"
  },
  {
   "cell_type": "code",
   "execution_count": 7,
   "outputs": [],
   "source": [
    "X = scaler.fit_transform(X)"
   ],
   "metadata": {
    "collapsed": false,
    "ExecuteTime": {
     "end_time": "2023-12-04T16:56:20.220588Z",
     "start_time": "2023-12-04T16:56:20.097915100Z"
    }
   },
   "id": "28f959716fbcd739"
  },
  {
   "cell_type": "code",
   "execution_count": 8,
   "outputs": [
    {
     "data": {
      "text/plain": "(768, 8)"
     },
     "execution_count": 8,
     "metadata": {},
     "output_type": "execute_result"
    }
   ],
   "source": [
    "X.shape"
   ],
   "metadata": {
    "collapsed": false,
    "ExecuteTime": {
     "end_time": "2023-12-04T16:56:20.224576300Z",
     "start_time": "2023-12-04T16:56:20.123845400Z"
    }
   },
   "id": "633b852963d73976"
  },
  {
   "cell_type": "code",
   "execution_count": 9,
   "outputs": [],
   "source": [
    "from sklearn.model_selection import train_test_split\n",
    "\n",
    "X_train,X_test,y_train,y_test = train_test_split(X,y,random_state=3,test_size=0.2)"
   ],
   "metadata": {
    "collapsed": false,
    "ExecuteTime": {
     "end_time": "2023-12-04T16:56:21.757003Z",
     "start_time": "2023-12-04T16:56:20.158753Z"
    }
   },
   "id": "3a2c88ddebcf7054"
  },
  {
   "cell_type": "markdown",
   "source": [
    "# Model"
   ],
   "metadata": {
    "collapsed": false
   },
   "id": "f140e03a9c0cb9b2"
  },
  {
   "cell_type": "code",
   "execution_count": 48,
   "outputs": [],
   "source": [
    "import tensorflow\n",
    "from tensorflow import keras\n",
    "from keras import Sequential\n",
    "from keras.layers import Dense\n",
    "from keras.layers import Dropout"
   ],
   "metadata": {
    "collapsed": false,
    "ExecuteTime": {
     "end_time": "2023-12-04T17:17:18.137981Z",
     "start_time": "2023-12-04T17:17:18.034032200Z"
    }
   },
   "id": "92b1971cbb90b964"
  },
  {
   "cell_type": "code",
   "execution_count": 11,
   "outputs": [],
   "source": [
    "model = Sequential()\n",
    "model.add(Dense(32,activation='relu',input_dim=8))\n",
    "model.add(Dense(1,activation='sigmoid'))\n",
    "\n",
    "model.compile(optimizer='Adam',loss='binary_crossentropy',metrics=['accuracy'])"
   ],
   "metadata": {
    "collapsed": false,
    "ExecuteTime": {
     "end_time": "2023-12-04T16:56:46.834301200Z",
     "start_time": "2023-12-04T16:56:43.442061100Z"
    }
   },
   "id": "7c87ef8109423b3a"
  },
  {
   "cell_type": "code",
   "execution_count": 12,
   "outputs": [
    {
     "name": "stdout",
     "output_type": "stream",
     "text": [
      "Epoch 1/100\n",
      "20/20 [==============================] - 5s 28ms/step - loss: 0.8172 - accuracy: 0.3518 - val_loss: 0.7388 - val_accuracy: 0.3831\n",
      "Epoch 2/100\n",
      "20/20 [==============================] - 0s 8ms/step - loss: 0.7252 - accuracy: 0.4283 - val_loss: 0.6756 - val_accuracy: 0.5519\n",
      "Epoch 3/100\n",
      "20/20 [==============================] - 0s 7ms/step - loss: 0.6592 - accuracy: 0.6319 - val_loss: 0.6334 - val_accuracy: 0.6948\n",
      "Epoch 4/100\n",
      "20/20 [==============================] - 0s 6ms/step - loss: 0.6119 - accuracy: 0.7345 - val_loss: 0.6007 - val_accuracy: 0.6883\n",
      "Epoch 5/100\n",
      "20/20 [==============================] - 0s 6ms/step - loss: 0.5747 - accuracy: 0.7606 - val_loss: 0.5771 - val_accuracy: 0.6948\n",
      "Epoch 6/100\n",
      "20/20 [==============================] - 0s 6ms/step - loss: 0.5481 - accuracy: 0.7785 - val_loss: 0.5603 - val_accuracy: 0.7013\n",
      "Epoch 7/100\n",
      "20/20 [==============================] - 0s 7ms/step - loss: 0.5277 - accuracy: 0.7736 - val_loss: 0.5498 - val_accuracy: 0.7078\n",
      "Epoch 8/100\n",
      "20/20 [==============================] - 0s 6ms/step - loss: 0.5121 - accuracy: 0.7769 - val_loss: 0.5387 - val_accuracy: 0.7143\n",
      "Epoch 9/100\n",
      "20/20 [==============================] - 0s 6ms/step - loss: 0.4980 - accuracy: 0.7769 - val_loss: 0.5323 - val_accuracy: 0.7013\n",
      "Epoch 10/100\n",
      "20/20 [==============================] - 0s 7ms/step - loss: 0.4880 - accuracy: 0.7850 - val_loss: 0.5271 - val_accuracy: 0.7013\n",
      "Epoch 11/100\n",
      "20/20 [==============================] - 0s 6ms/step - loss: 0.4796 - accuracy: 0.7850 - val_loss: 0.5222 - val_accuracy: 0.7143\n",
      "Epoch 12/100\n",
      "20/20 [==============================] - 0s 6ms/step - loss: 0.4727 - accuracy: 0.7850 - val_loss: 0.5183 - val_accuracy: 0.7143\n",
      "Epoch 13/100\n",
      "20/20 [==============================] - 0s 6ms/step - loss: 0.4670 - accuracy: 0.7866 - val_loss: 0.5171 - val_accuracy: 0.7208\n",
      "Epoch 14/100\n",
      "20/20 [==============================] - 0s 6ms/step - loss: 0.4621 - accuracy: 0.7866 - val_loss: 0.5151 - val_accuracy: 0.7273\n",
      "Epoch 15/100\n",
      "20/20 [==============================] - 0s 7ms/step - loss: 0.4582 - accuracy: 0.7850 - val_loss: 0.5143 - val_accuracy: 0.7338\n",
      "Epoch 16/100\n",
      "20/20 [==============================] - 0s 6ms/step - loss: 0.4550 - accuracy: 0.7883 - val_loss: 0.5131 - val_accuracy: 0.7403\n",
      "Epoch 17/100\n",
      "20/20 [==============================] - 0s 7ms/step - loss: 0.4520 - accuracy: 0.7883 - val_loss: 0.5119 - val_accuracy: 0.7403\n",
      "Epoch 18/100\n",
      "20/20 [==============================] - 0s 6ms/step - loss: 0.4494 - accuracy: 0.7899 - val_loss: 0.5111 - val_accuracy: 0.7273\n",
      "Epoch 19/100\n",
      "20/20 [==============================] - 0s 7ms/step - loss: 0.4472 - accuracy: 0.7834 - val_loss: 0.5103 - val_accuracy: 0.7403\n",
      "Epoch 20/100\n",
      "20/20 [==============================] - 0s 7ms/step - loss: 0.4451 - accuracy: 0.7866 - val_loss: 0.5096 - val_accuracy: 0.7532\n",
      "Epoch 21/100\n",
      "20/20 [==============================] - 0s 6ms/step - loss: 0.4431 - accuracy: 0.7883 - val_loss: 0.5092 - val_accuracy: 0.7532\n",
      "Epoch 22/100\n",
      "20/20 [==============================] - 0s 6ms/step - loss: 0.4412 - accuracy: 0.7866 - val_loss: 0.5092 - val_accuracy: 0.7597\n",
      "Epoch 23/100\n",
      "20/20 [==============================] - 0s 7ms/step - loss: 0.4400 - accuracy: 0.7834 - val_loss: 0.5097 - val_accuracy: 0.7532\n",
      "Epoch 24/100\n",
      "20/20 [==============================] - 0s 7ms/step - loss: 0.4382 - accuracy: 0.7850 - val_loss: 0.5096 - val_accuracy: 0.7662\n",
      "Epoch 25/100\n",
      "20/20 [==============================] - 0s 7ms/step - loss: 0.4374 - accuracy: 0.7850 - val_loss: 0.5090 - val_accuracy: 0.7468\n",
      "Epoch 26/100\n",
      "20/20 [==============================] - 0s 6ms/step - loss: 0.4361 - accuracy: 0.7850 - val_loss: 0.5093 - val_accuracy: 0.7403\n",
      "Epoch 27/100\n",
      "20/20 [==============================] - 0s 9ms/step - loss: 0.4348 - accuracy: 0.7883 - val_loss: 0.5090 - val_accuracy: 0.7403\n",
      "Epoch 28/100\n",
      "20/20 [==============================] - 0s 7ms/step - loss: 0.4338 - accuracy: 0.7883 - val_loss: 0.5093 - val_accuracy: 0.7532\n",
      "Epoch 29/100\n",
      "20/20 [==============================] - 0s 6ms/step - loss: 0.4329 - accuracy: 0.7899 - val_loss: 0.5098 - val_accuracy: 0.7532\n",
      "Epoch 30/100\n",
      "20/20 [==============================] - 0s 6ms/step - loss: 0.4317 - accuracy: 0.7915 - val_loss: 0.5084 - val_accuracy: 0.7532\n",
      "Epoch 31/100\n",
      "20/20 [==============================] - 0s 6ms/step - loss: 0.4308 - accuracy: 0.7948 - val_loss: 0.5086 - val_accuracy: 0.7532\n",
      "Epoch 32/100\n",
      "20/20 [==============================] - 0s 7ms/step - loss: 0.4298 - accuracy: 0.7932 - val_loss: 0.5085 - val_accuracy: 0.7662\n",
      "Epoch 33/100\n",
      "20/20 [==============================] - 0s 6ms/step - loss: 0.4295 - accuracy: 0.7964 - val_loss: 0.5100 - val_accuracy: 0.7662\n",
      "Epoch 34/100\n",
      "20/20 [==============================] - 0s 7ms/step - loss: 0.4288 - accuracy: 0.7980 - val_loss: 0.5087 - val_accuracy: 0.7597\n",
      "Epoch 35/100\n",
      "20/20 [==============================] - 0s 6ms/step - loss: 0.4279 - accuracy: 0.8046 - val_loss: 0.5092 - val_accuracy: 0.7662\n",
      "Epoch 36/100\n",
      "20/20 [==============================] - 0s 6ms/step - loss: 0.4271 - accuracy: 0.7997 - val_loss: 0.5092 - val_accuracy: 0.7597\n",
      "Epoch 37/100\n",
      "20/20 [==============================] - 0s 6ms/step - loss: 0.4268 - accuracy: 0.7997 - val_loss: 0.5083 - val_accuracy: 0.7532\n",
      "Epoch 38/100\n",
      "20/20 [==============================] - 0s 7ms/step - loss: 0.4258 - accuracy: 0.8029 - val_loss: 0.5095 - val_accuracy: 0.7597\n",
      "Epoch 39/100\n",
      "20/20 [==============================] - 0s 6ms/step - loss: 0.4254 - accuracy: 0.8013 - val_loss: 0.5099 - val_accuracy: 0.7532\n",
      "Epoch 40/100\n",
      "20/20 [==============================] - 0s 6ms/step - loss: 0.4254 - accuracy: 0.8029 - val_loss: 0.5097 - val_accuracy: 0.7532\n",
      "Epoch 41/100\n",
      "20/20 [==============================] - 0s 6ms/step - loss: 0.4244 - accuracy: 0.8078 - val_loss: 0.5102 - val_accuracy: 0.7532\n",
      "Epoch 42/100\n",
      "20/20 [==============================] - 0s 6ms/step - loss: 0.4235 - accuracy: 0.8062 - val_loss: 0.5115 - val_accuracy: 0.7532\n",
      "Epoch 43/100\n",
      "20/20 [==============================] - 0s 6ms/step - loss: 0.4229 - accuracy: 0.8013 - val_loss: 0.5124 - val_accuracy: 0.7532\n",
      "Epoch 44/100\n",
      "20/20 [==============================] - 0s 6ms/step - loss: 0.4226 - accuracy: 0.8062 - val_loss: 0.5119 - val_accuracy: 0.7597\n",
      "Epoch 45/100\n",
      "20/20 [==============================] - 0s 5ms/step - loss: 0.4218 - accuracy: 0.8062 - val_loss: 0.5099 - val_accuracy: 0.7597\n",
      "Epoch 46/100\n",
      "20/20 [==============================] - 0s 6ms/step - loss: 0.4213 - accuracy: 0.8062 - val_loss: 0.5108 - val_accuracy: 0.7468\n",
      "Epoch 47/100\n",
      "20/20 [==============================] - 0s 6ms/step - loss: 0.4211 - accuracy: 0.8029 - val_loss: 0.5103 - val_accuracy: 0.7532\n",
      "Epoch 48/100\n",
      "20/20 [==============================] - 0s 6ms/step - loss: 0.4207 - accuracy: 0.8046 - val_loss: 0.5115 - val_accuracy: 0.7597\n",
      "Epoch 49/100\n",
      "20/20 [==============================] - 0s 6ms/step - loss: 0.4207 - accuracy: 0.8029 - val_loss: 0.5113 - val_accuracy: 0.7532\n",
      "Epoch 50/100\n",
      "20/20 [==============================] - 0s 6ms/step - loss: 0.4195 - accuracy: 0.8094 - val_loss: 0.5125 - val_accuracy: 0.7597\n",
      "Epoch 51/100\n",
      "20/20 [==============================] - 0s 6ms/step - loss: 0.4190 - accuracy: 0.8127 - val_loss: 0.5133 - val_accuracy: 0.7597\n",
      "Epoch 52/100\n",
      "20/20 [==============================] - 0s 7ms/step - loss: 0.4179 - accuracy: 0.8111 - val_loss: 0.5148 - val_accuracy: 0.7597\n",
      "Epoch 53/100\n",
      "20/20 [==============================] - 0s 8ms/step - loss: 0.4179 - accuracy: 0.8111 - val_loss: 0.5152 - val_accuracy: 0.7597\n",
      "Epoch 54/100\n",
      "20/20 [==============================] - 0s 7ms/step - loss: 0.4171 - accuracy: 0.8127 - val_loss: 0.5167 - val_accuracy: 0.7597\n",
      "Epoch 55/100\n",
      "20/20 [==============================] - 0s 7ms/step - loss: 0.4171 - accuracy: 0.8127 - val_loss: 0.5151 - val_accuracy: 0.7468\n",
      "Epoch 56/100\n",
      "20/20 [==============================] - 0s 6ms/step - loss: 0.4160 - accuracy: 0.8127 - val_loss: 0.5160 - val_accuracy: 0.7468\n",
      "Epoch 57/100\n",
      "20/20 [==============================] - 0s 6ms/step - loss: 0.4157 - accuracy: 0.8111 - val_loss: 0.5170 - val_accuracy: 0.7532\n",
      "Epoch 58/100\n",
      "20/20 [==============================] - 0s 7ms/step - loss: 0.4150 - accuracy: 0.8094 - val_loss: 0.5177 - val_accuracy: 0.7532\n",
      "Epoch 59/100\n",
      "20/20 [==============================] - 0s 5ms/step - loss: 0.4146 - accuracy: 0.8062 - val_loss: 0.5186 - val_accuracy: 0.7532\n",
      "Epoch 60/100\n",
      "20/20 [==============================] - 0s 6ms/step - loss: 0.4144 - accuracy: 0.8111 - val_loss: 0.5187 - val_accuracy: 0.7532\n",
      "Epoch 61/100\n",
      "20/20 [==============================] - 0s 7ms/step - loss: 0.4139 - accuracy: 0.8094 - val_loss: 0.5206 - val_accuracy: 0.7532\n",
      "Epoch 62/100\n",
      "20/20 [==============================] - 0s 6ms/step - loss: 0.4134 - accuracy: 0.8078 - val_loss: 0.5184 - val_accuracy: 0.7532\n",
      "Epoch 63/100\n",
      "20/20 [==============================] - 0s 6ms/step - loss: 0.4134 - accuracy: 0.8143 - val_loss: 0.5178 - val_accuracy: 0.7662\n",
      "Epoch 64/100\n",
      "20/20 [==============================] - 0s 6ms/step - loss: 0.4126 - accuracy: 0.8111 - val_loss: 0.5188 - val_accuracy: 0.7597\n",
      "Epoch 65/100\n",
      "20/20 [==============================] - 0s 5ms/step - loss: 0.4123 - accuracy: 0.8078 - val_loss: 0.5211 - val_accuracy: 0.7532\n",
      "Epoch 66/100\n",
      "20/20 [==============================] - 0s 6ms/step - loss: 0.4117 - accuracy: 0.8111 - val_loss: 0.5197 - val_accuracy: 0.7662\n",
      "Epoch 67/100\n",
      "20/20 [==============================] - 0s 6ms/step - loss: 0.4114 - accuracy: 0.8094 - val_loss: 0.5210 - val_accuracy: 0.7532\n",
      "Epoch 68/100\n",
      "20/20 [==============================] - 0s 6ms/step - loss: 0.4108 - accuracy: 0.8094 - val_loss: 0.5211 - val_accuracy: 0.7468\n",
      "Epoch 69/100\n",
      "20/20 [==============================] - 0s 6ms/step - loss: 0.4110 - accuracy: 0.8094 - val_loss: 0.5232 - val_accuracy: 0.7597\n",
      "Epoch 70/100\n",
      "20/20 [==============================] - 0s 7ms/step - loss: 0.4097 - accuracy: 0.8094 - val_loss: 0.5230 - val_accuracy: 0.7532\n",
      "Epoch 71/100\n",
      "20/20 [==============================] - 0s 7ms/step - loss: 0.4096 - accuracy: 0.8094 - val_loss: 0.5212 - val_accuracy: 0.7532\n",
      "Epoch 72/100\n",
      "20/20 [==============================] - 0s 6ms/step - loss: 0.4092 - accuracy: 0.8094 - val_loss: 0.5210 - val_accuracy: 0.7468\n",
      "Epoch 73/100\n",
      "20/20 [==============================] - 0s 6ms/step - loss: 0.4093 - accuracy: 0.8094 - val_loss: 0.5212 - val_accuracy: 0.7532\n",
      "Epoch 74/100\n",
      "20/20 [==============================] - 0s 6ms/step - loss: 0.4087 - accuracy: 0.8094 - val_loss: 0.5235 - val_accuracy: 0.7532\n",
      "Epoch 75/100\n",
      "20/20 [==============================] - 0s 6ms/step - loss: 0.4082 - accuracy: 0.8143 - val_loss: 0.5238 - val_accuracy: 0.7532\n",
      "Epoch 76/100\n",
      "20/20 [==============================] - 0s 6ms/step - loss: 0.4076 - accuracy: 0.8078 - val_loss: 0.5244 - val_accuracy: 0.7532\n",
      "Epoch 77/100\n",
      "20/20 [==============================] - 0s 6ms/step - loss: 0.4074 - accuracy: 0.8062 - val_loss: 0.5262 - val_accuracy: 0.7532\n",
      "Epoch 78/100\n",
      "20/20 [==============================] - 0s 6ms/step - loss: 0.4069 - accuracy: 0.8078 - val_loss: 0.5265 - val_accuracy: 0.7532\n",
      "Epoch 79/100\n",
      "20/20 [==============================] - 0s 7ms/step - loss: 0.4066 - accuracy: 0.8078 - val_loss: 0.5263 - val_accuracy: 0.7468\n",
      "Epoch 80/100\n",
      "20/20 [==============================] - 0s 6ms/step - loss: 0.4057 - accuracy: 0.8046 - val_loss: 0.5268 - val_accuracy: 0.7532\n",
      "Epoch 81/100\n",
      "20/20 [==============================] - 0s 5ms/step - loss: 0.4053 - accuracy: 0.8046 - val_loss: 0.5271 - val_accuracy: 0.7532\n",
      "Epoch 82/100\n",
      "20/20 [==============================] - 0s 6ms/step - loss: 0.4051 - accuracy: 0.8078 - val_loss: 0.5270 - val_accuracy: 0.7532\n",
      "Epoch 83/100\n",
      "20/20 [==============================] - 0s 6ms/step - loss: 0.4046 - accuracy: 0.8094 - val_loss: 0.5253 - val_accuracy: 0.7597\n",
      "Epoch 84/100\n",
      "20/20 [==============================] - 0s 7ms/step - loss: 0.4044 - accuracy: 0.8094 - val_loss: 0.5245 - val_accuracy: 0.7597\n",
      "Epoch 85/100\n",
      "20/20 [==============================] - 0s 5ms/step - loss: 0.4042 - accuracy: 0.8078 - val_loss: 0.5249 - val_accuracy: 0.7532\n",
      "Epoch 86/100\n",
      "20/20 [==============================] - 0s 6ms/step - loss: 0.4038 - accuracy: 0.8143 - val_loss: 0.5261 - val_accuracy: 0.7532\n",
      "Epoch 87/100\n",
      "20/20 [==============================] - 0s 7ms/step - loss: 0.4041 - accuracy: 0.8127 - val_loss: 0.5232 - val_accuracy: 0.7662\n",
      "Epoch 88/100\n",
      "20/20 [==============================] - 0s 6ms/step - loss: 0.4033 - accuracy: 0.8127 - val_loss: 0.5237 - val_accuracy: 0.7532\n",
      "Epoch 89/100\n",
      "20/20 [==============================] - 0s 5ms/step - loss: 0.4027 - accuracy: 0.8094 - val_loss: 0.5257 - val_accuracy: 0.7532\n",
      "Epoch 90/100\n",
      "20/20 [==============================] - 0s 7ms/step - loss: 0.4020 - accuracy: 0.8094 - val_loss: 0.5256 - val_accuracy: 0.7468\n",
      "Epoch 91/100\n",
      "20/20 [==============================] - 0s 6ms/step - loss: 0.4017 - accuracy: 0.8094 - val_loss: 0.5242 - val_accuracy: 0.7532\n",
      "Epoch 92/100\n",
      "20/20 [==============================] - 0s 6ms/step - loss: 0.4012 - accuracy: 0.8111 - val_loss: 0.5248 - val_accuracy: 0.7468\n",
      "Epoch 93/100\n",
      "20/20 [==============================] - 0s 6ms/step - loss: 0.4009 - accuracy: 0.8127 - val_loss: 0.5263 - val_accuracy: 0.7532\n",
      "Epoch 94/100\n",
      "20/20 [==============================] - 0s 6ms/step - loss: 0.4002 - accuracy: 0.8111 - val_loss: 0.5280 - val_accuracy: 0.7597\n",
      "Epoch 95/100\n",
      "20/20 [==============================] - 0s 7ms/step - loss: 0.4008 - accuracy: 0.8127 - val_loss: 0.5266 - val_accuracy: 0.7597\n",
      "Epoch 96/100\n",
      "20/20 [==============================] - 0s 6ms/step - loss: 0.4004 - accuracy: 0.8127 - val_loss: 0.5272 - val_accuracy: 0.7662\n",
      "Epoch 97/100\n",
      "20/20 [==============================] - 0s 6ms/step - loss: 0.3994 - accuracy: 0.8176 - val_loss: 0.5278 - val_accuracy: 0.7662\n",
      "Epoch 98/100\n",
      "20/20 [==============================] - 0s 9ms/step - loss: 0.3991 - accuracy: 0.8127 - val_loss: 0.5280 - val_accuracy: 0.7662\n",
      "Epoch 99/100\n",
      "20/20 [==============================] - 0s 6ms/step - loss: 0.3988 - accuracy: 0.8094 - val_loss: 0.5285 - val_accuracy: 0.7597\n",
      "Epoch 100/100\n",
      "20/20 [==============================] - 0s 8ms/step - loss: 0.3986 - accuracy: 0.8160 - val_loss: 0.5287 - val_accuracy: 0.7597\n"
     ]
    },
    {
     "data": {
      "text/plain": "<keras.src.callbacks.History at 0x11a3286abc0>"
     },
     "execution_count": 12,
     "metadata": {},
     "output_type": "execute_result"
    }
   ],
   "source": [
    "model.fit(X_train,y_train,batch_size=32,epochs=100,validation_data=[X_test,y_test])"
   ],
   "metadata": {
    "collapsed": false,
    "ExecuteTime": {
     "end_time": "2023-12-04T16:57:07.028359100Z",
     "start_time": "2023-12-04T16:56:46.836466Z"
    }
   },
   "id": "32ede7670ba01b52"
  },
  {
   "cell_type": "markdown",
   "source": [
    "# HyperParemeter Tuning\n",
    "### 1. How to select appropriate optimizer\n",
    "### 2. No, of nodes in  a layer\n",
    "### 3. How to select no. of layers\n",
    "### 4. All in all one model"
   ],
   "metadata": {
    "collapsed": false
   },
   "id": "37abe2e481e6d819"
  },
  {
   "cell_type": "code",
   "execution_count": 13,
   "outputs": [],
   "source": [
    "# pip install -U keras-tuner"
   ],
   "metadata": {
    "collapsed": false,
    "ExecuteTime": {
     "end_time": "2023-12-04T16:57:07.028359100Z",
     "start_time": "2023-12-04T16:57:06.987496600Z"
    }
   },
   "id": "e031f16d0b0ff264"
  },
  {
   "cell_type": "code",
   "execution_count": 14,
   "outputs": [],
   "source": [
    "import keras_tuner as kt"
   ],
   "metadata": {
    "collapsed": false,
    "ExecuteTime": {
     "end_time": "2023-12-04T16:57:08.030594100Z",
     "start_time": "2023-12-04T16:57:07.003422200Z"
    }
   },
   "id": "2e20d4f7957b817b"
  },
  {
   "cell_type": "markdown",
   "source": [
    "# 1"
   ],
   "metadata": {
    "collapsed": false
   },
   "id": "b1b8de0d1845bb76"
  },
  {
   "cell_type": "code",
   "execution_count": 15,
   "outputs": [],
   "source": [
    "def build_model(hp):\n",
    "    model = Sequential()\n",
    "    model.add(Dense(32,activation='relu',input_dim=8))\n",
    "    model.add(Dense(1,activation='sigmoid'))\n",
    "    \n",
    "    optimizer = hp.Choice('optimizer',values = ['adam','sgd','rmsprop','adadelta'])\n",
    "    model.compile(optimizer=optimizer,loss='binary_crossentropy',metrics=['accuracy'])\n",
    "    \n",
    "    return model\n",
    "    "
   ],
   "metadata": {
    "collapsed": false,
    "ExecuteTime": {
     "end_time": "2023-12-04T16:57:08.049543700Z",
     "start_time": "2023-12-04T16:57:08.031591500Z"
    }
   },
   "id": "c5e7e5da20dd06a4"
  },
  {
   "cell_type": "code",
   "execution_count": 16,
   "outputs": [
    {
     "name": "stdout",
     "output_type": "stream",
     "text": [
      "Reloading Tuner from .\\untitled_project\\tuner0.json\n"
     ]
    }
   ],
   "source": [
    "tuner = kt.RandomSearch(build_model,objective='val_accuracy',max_trials=5)"
   ],
   "metadata": {
    "collapsed": false,
    "ExecuteTime": {
     "end_time": "2023-12-04T16:57:08.198147Z",
     "start_time": "2023-12-04T16:57:08.048546600Z"
    }
   },
   "id": "4edf3c5a925181cb"
  },
  {
   "cell_type": "code",
   "execution_count": 17,
   "outputs": [],
   "source": [
    "tuner.search(X_train,y_train,epochs=5,validation_data=(X_test,y_test))"
   ],
   "metadata": {
    "collapsed": false,
    "ExecuteTime": {
     "end_time": "2023-12-04T16:57:08.259981200Z",
     "start_time": "2023-12-04T16:57:08.189170500Z"
    }
   },
   "id": "26234c0ca5e3c342"
  },
  {
   "cell_type": "code",
   "execution_count": 18,
   "outputs": [
    {
     "data": {
      "text/plain": "{'optimizer': 'rmsprop'}"
     },
     "execution_count": 18,
     "metadata": {},
     "output_type": "execute_result"
    }
   ],
   "source": [
    "tuner.get_best_hyperparameters()[0].values"
   ],
   "metadata": {
    "collapsed": false,
    "ExecuteTime": {
     "end_time": "2023-12-04T16:57:08.282920Z",
     "start_time": "2023-12-04T16:57:08.205128700Z"
    }
   },
   "id": "4205780affb179b9"
  },
  {
   "cell_type": "code",
   "execution_count": 19,
   "outputs": [],
   "source": [
    "model = tuner.get_best_models(num_models=1)[0]"
   ],
   "metadata": {
    "collapsed": false,
    "ExecuteTime": {
     "end_time": "2023-12-04T16:57:08.719753Z",
     "start_time": "2023-12-04T16:57:08.220092200Z"
    }
   },
   "id": "a78f27b8f848c486"
  },
  {
   "cell_type": "code",
   "execution_count": 20,
   "outputs": [
    {
     "name": "stdout",
     "output_type": "stream",
     "text": [
      "Model: \"sequential\"\n",
      "_________________________________________________________________\n",
      " Layer (type)                Output Shape              Param #   \n",
      "=================================================================\n",
      " dense (Dense)               (None, 32)                288       \n",
      "                                                                 \n",
      " dense_1 (Dense)             (None, 1)                 33        \n",
      "                                                                 \n",
      "=================================================================\n",
      "Total params: 321 (1.25 KB)\n",
      "Trainable params: 321 (1.25 KB)\n",
      "Non-trainable params: 0 (0.00 Byte)\n",
      "_________________________________________________________________\n"
     ]
    }
   ],
   "source": [
    "model.summary()"
   ],
   "metadata": {
    "collapsed": false,
    "ExecuteTime": {
     "end_time": "2023-12-04T16:57:08.749674800Z",
     "start_time": "2023-12-04T16:57:08.708782700Z"
    }
   },
   "id": "ebb2576452c52048"
  },
  {
   "cell_type": "code",
   "execution_count": 21,
   "outputs": [
    {
     "name": "stdout",
     "output_type": "stream",
     "text": [
      "Epoch 7/100\n",
      "20/20 [==============================] - 1s 18ms/step - loss: 0.4935 - accuracy: 0.7866 - val_loss: 0.5303 - val_accuracy: 0.7532\n",
      "Epoch 8/100\n",
      "20/20 [==============================] - 0s 5ms/step - loss: 0.4827 - accuracy: 0.7834 - val_loss: 0.5244 - val_accuracy: 0.7468\n",
      "Epoch 9/100\n",
      "20/20 [==============================] - 0s 6ms/step - loss: 0.4744 - accuracy: 0.7850 - val_loss: 0.5212 - val_accuracy: 0.7662\n",
      "Epoch 10/100\n",
      "20/20 [==============================] - 0s 6ms/step - loss: 0.4677 - accuracy: 0.7866 - val_loss: 0.5182 - val_accuracy: 0.7597\n",
      "Epoch 11/100\n",
      "20/20 [==============================] - 0s 6ms/step - loss: 0.4626 - accuracy: 0.7866 - val_loss: 0.5165 - val_accuracy: 0.7468\n",
      "Epoch 12/100\n",
      "20/20 [==============================] - 0s 6ms/step - loss: 0.4582 - accuracy: 0.7883 - val_loss: 0.5161 - val_accuracy: 0.7403\n",
      "Epoch 13/100\n",
      "20/20 [==============================] - 0s 7ms/step - loss: 0.4549 - accuracy: 0.7866 - val_loss: 0.5145 - val_accuracy: 0.7468\n",
      "Epoch 14/100\n",
      "20/20 [==============================] - 0s 5ms/step - loss: 0.4525 - accuracy: 0.7932 - val_loss: 0.5132 - val_accuracy: 0.7468\n",
      "Epoch 15/100\n",
      "20/20 [==============================] - 0s 6ms/step - loss: 0.4502 - accuracy: 0.7883 - val_loss: 0.5123 - val_accuracy: 0.7532\n",
      "Epoch 16/100\n",
      "20/20 [==============================] - 0s 6ms/step - loss: 0.4478 - accuracy: 0.7899 - val_loss: 0.5118 - val_accuracy: 0.7468\n",
      "Epoch 17/100\n",
      "20/20 [==============================] - 0s 6ms/step - loss: 0.4462 - accuracy: 0.7915 - val_loss: 0.5109 - val_accuracy: 0.7468\n",
      "Epoch 18/100\n",
      "20/20 [==============================] - 0s 8ms/step - loss: 0.4444 - accuracy: 0.7850 - val_loss: 0.5115 - val_accuracy: 0.7468\n",
      "Epoch 19/100\n",
      "20/20 [==============================] - 0s 7ms/step - loss: 0.4433 - accuracy: 0.7883 - val_loss: 0.5116 - val_accuracy: 0.7403\n",
      "Epoch 20/100\n",
      "20/20 [==============================] - 0s 6ms/step - loss: 0.4414 - accuracy: 0.7850 - val_loss: 0.5120 - val_accuracy: 0.7468\n",
      "Epoch 21/100\n",
      "20/20 [==============================] - 0s 6ms/step - loss: 0.4402 - accuracy: 0.7915 - val_loss: 0.5109 - val_accuracy: 0.7468\n",
      "Epoch 22/100\n",
      "20/20 [==============================] - 0s 6ms/step - loss: 0.4390 - accuracy: 0.7883 - val_loss: 0.5098 - val_accuracy: 0.7532\n",
      "Epoch 23/100\n",
      "20/20 [==============================] - 0s 6ms/step - loss: 0.4378 - accuracy: 0.7964 - val_loss: 0.5099 - val_accuracy: 0.7597\n",
      "Epoch 24/100\n",
      "20/20 [==============================] - 0s 7ms/step - loss: 0.4369 - accuracy: 0.7948 - val_loss: 0.5096 - val_accuracy: 0.7597\n",
      "Epoch 25/100\n",
      "20/20 [==============================] - 0s 6ms/step - loss: 0.4359 - accuracy: 0.7980 - val_loss: 0.5097 - val_accuracy: 0.7597\n",
      "Epoch 26/100\n",
      "20/20 [==============================] - 0s 7ms/step - loss: 0.4349 - accuracy: 0.8046 - val_loss: 0.5106 - val_accuracy: 0.7662\n",
      "Epoch 27/100\n",
      "20/20 [==============================] - 0s 7ms/step - loss: 0.4343 - accuracy: 0.8029 - val_loss: 0.5098 - val_accuracy: 0.7662\n",
      "Epoch 28/100\n",
      "20/20 [==============================] - 0s 6ms/step - loss: 0.4335 - accuracy: 0.8013 - val_loss: 0.5102 - val_accuracy: 0.7662\n",
      "Epoch 29/100\n",
      "20/20 [==============================] - 0s 5ms/step - loss: 0.4326 - accuracy: 0.7964 - val_loss: 0.5113 - val_accuracy: 0.7727\n",
      "Epoch 30/100\n",
      "20/20 [==============================] - 0s 6ms/step - loss: 0.4314 - accuracy: 0.8062 - val_loss: 0.5115 - val_accuracy: 0.7727\n",
      "Epoch 31/100\n",
      "20/20 [==============================] - 0s 6ms/step - loss: 0.4307 - accuracy: 0.8046 - val_loss: 0.5112 - val_accuracy: 0.7792\n",
      "Epoch 32/100\n",
      "20/20 [==============================] - 0s 6ms/step - loss: 0.4298 - accuracy: 0.8046 - val_loss: 0.5124 - val_accuracy: 0.7792\n",
      "Epoch 33/100\n",
      "20/20 [==============================] - 0s 7ms/step - loss: 0.4295 - accuracy: 0.8046 - val_loss: 0.5121 - val_accuracy: 0.7597\n",
      "Epoch 34/100\n",
      "20/20 [==============================] - 0s 9ms/step - loss: 0.4283 - accuracy: 0.8094 - val_loss: 0.5131 - val_accuracy: 0.7727\n",
      "Epoch 35/100\n",
      "20/20 [==============================] - 0s 10ms/step - loss: 0.4276 - accuracy: 0.8029 - val_loss: 0.5139 - val_accuracy: 0.7662\n",
      "Epoch 36/100\n",
      "20/20 [==============================] - 0s 6ms/step - loss: 0.4269 - accuracy: 0.8094 - val_loss: 0.5161 - val_accuracy: 0.7597\n",
      "Epoch 37/100\n",
      "20/20 [==============================] - 0s 9ms/step - loss: 0.4267 - accuracy: 0.8094 - val_loss: 0.5158 - val_accuracy: 0.7597\n",
      "Epoch 38/100\n",
      "20/20 [==============================] - 0s 7ms/step - loss: 0.4258 - accuracy: 0.8046 - val_loss: 0.5144 - val_accuracy: 0.7662\n",
      "Epoch 39/100\n",
      "20/20 [==============================] - 0s 7ms/step - loss: 0.4249 - accuracy: 0.8062 - val_loss: 0.5154 - val_accuracy: 0.7597\n",
      "Epoch 40/100\n",
      "20/20 [==============================] - 0s 6ms/step - loss: 0.4241 - accuracy: 0.8078 - val_loss: 0.5143 - val_accuracy: 0.7727\n",
      "Epoch 41/100\n",
      "20/20 [==============================] - 0s 7ms/step - loss: 0.4240 - accuracy: 0.8078 - val_loss: 0.5148 - val_accuracy: 0.7662\n",
      "Epoch 42/100\n",
      "20/20 [==============================] - 0s 9ms/step - loss: 0.4230 - accuracy: 0.8094 - val_loss: 0.5166 - val_accuracy: 0.7662\n",
      "Epoch 43/100\n",
      "20/20 [==============================] - 0s 8ms/step - loss: 0.4223 - accuracy: 0.8062 - val_loss: 0.5169 - val_accuracy: 0.7662\n",
      "Epoch 44/100\n",
      "20/20 [==============================] - 0s 5ms/step - loss: 0.4220 - accuracy: 0.8111 - val_loss: 0.5171 - val_accuracy: 0.7662\n",
      "Epoch 45/100\n",
      "20/20 [==============================] - 0s 5ms/step - loss: 0.4210 - accuracy: 0.8111 - val_loss: 0.5167 - val_accuracy: 0.7597\n",
      "Epoch 46/100\n",
      "20/20 [==============================] - 0s 6ms/step - loss: 0.4209 - accuracy: 0.8094 - val_loss: 0.5175 - val_accuracy: 0.7597\n",
      "Epoch 47/100\n",
      "20/20 [==============================] - 0s 8ms/step - loss: 0.4199 - accuracy: 0.8078 - val_loss: 0.5178 - val_accuracy: 0.7662\n",
      "Epoch 48/100\n",
      "20/20 [==============================] - 0s 9ms/step - loss: 0.4195 - accuracy: 0.8111 - val_loss: 0.5184 - val_accuracy: 0.7662\n",
      "Epoch 49/100\n",
      "20/20 [==============================] - 0s 8ms/step - loss: 0.4186 - accuracy: 0.8127 - val_loss: 0.5195 - val_accuracy: 0.7597\n",
      "Epoch 50/100\n",
      "20/20 [==============================] - 0s 7ms/step - loss: 0.4185 - accuracy: 0.8143 - val_loss: 0.5192 - val_accuracy: 0.7662\n",
      "Epoch 51/100\n",
      "20/20 [==============================] - 0s 5ms/step - loss: 0.4176 - accuracy: 0.8111 - val_loss: 0.5208 - val_accuracy: 0.7532\n",
      "Epoch 52/100\n",
      "20/20 [==============================] - 0s 6ms/step - loss: 0.4175 - accuracy: 0.8094 - val_loss: 0.5209 - val_accuracy: 0.7532\n",
      "Epoch 53/100\n",
      "20/20 [==============================] - 0s 6ms/step - loss: 0.4165 - accuracy: 0.8111 - val_loss: 0.5212 - val_accuracy: 0.7532\n",
      "Epoch 54/100\n",
      "20/20 [==============================] - 0s 6ms/step - loss: 0.4162 - accuracy: 0.8111 - val_loss: 0.5208 - val_accuracy: 0.7532\n",
      "Epoch 55/100\n",
      "20/20 [==============================] - 0s 6ms/step - loss: 0.4160 - accuracy: 0.8127 - val_loss: 0.5218 - val_accuracy: 0.7597\n",
      "Epoch 56/100\n",
      "20/20 [==============================] - 0s 7ms/step - loss: 0.4153 - accuracy: 0.8143 - val_loss: 0.5227 - val_accuracy: 0.7662\n",
      "Epoch 57/100\n",
      "20/20 [==============================] - 0s 5ms/step - loss: 0.4151 - accuracy: 0.8143 - val_loss: 0.5232 - val_accuracy: 0.7662\n",
      "Epoch 58/100\n",
      "20/20 [==============================] - 0s 5ms/step - loss: 0.4145 - accuracy: 0.8094 - val_loss: 0.5239 - val_accuracy: 0.7597\n",
      "Epoch 59/100\n",
      "20/20 [==============================] - 0s 5ms/step - loss: 0.4143 - accuracy: 0.8111 - val_loss: 0.5239 - val_accuracy: 0.7532\n",
      "Epoch 60/100\n",
      "20/20 [==============================] - 0s 6ms/step - loss: 0.4135 - accuracy: 0.8160 - val_loss: 0.5250 - val_accuracy: 0.7597\n",
      "Epoch 61/100\n",
      "20/20 [==============================] - 0s 7ms/step - loss: 0.4133 - accuracy: 0.8143 - val_loss: 0.5253 - val_accuracy: 0.7662\n",
      "Epoch 62/100\n",
      "20/20 [==============================] - 0s 6ms/step - loss: 0.4130 - accuracy: 0.8127 - val_loss: 0.5247 - val_accuracy: 0.7597\n",
      "Epoch 63/100\n",
      "20/20 [==============================] - 0s 5ms/step - loss: 0.4124 - accuracy: 0.8111 - val_loss: 0.5242 - val_accuracy: 0.7532\n",
      "Epoch 64/100\n",
      "20/20 [==============================] - 0s 6ms/step - loss: 0.4119 - accuracy: 0.8127 - val_loss: 0.5245 - val_accuracy: 0.7532\n",
      "Epoch 65/100\n",
      "20/20 [==============================] - 0s 5ms/step - loss: 0.4115 - accuracy: 0.8127 - val_loss: 0.5243 - val_accuracy: 0.7468\n",
      "Epoch 66/100\n",
      "20/20 [==============================] - 0s 6ms/step - loss: 0.4111 - accuracy: 0.8094 - val_loss: 0.5242 - val_accuracy: 0.7403\n",
      "Epoch 67/100\n",
      "20/20 [==============================] - 0s 7ms/step - loss: 0.4109 - accuracy: 0.8094 - val_loss: 0.5257 - val_accuracy: 0.7468\n",
      "Epoch 68/100\n",
      "20/20 [==============================] - 0s 9ms/step - loss: 0.4104 - accuracy: 0.8160 - val_loss: 0.5267 - val_accuracy: 0.7468\n",
      "Epoch 69/100\n",
      "20/20 [==============================] - 0s 10ms/step - loss: 0.4101 - accuracy: 0.8160 - val_loss: 0.5263 - val_accuracy: 0.7403\n",
      "Epoch 70/100\n",
      "20/20 [==============================] - 0s 7ms/step - loss: 0.4094 - accuracy: 0.8094 - val_loss: 0.5257 - val_accuracy: 0.7468\n",
      "Epoch 71/100\n",
      "20/20 [==============================] - 0s 5ms/step - loss: 0.4092 - accuracy: 0.8094 - val_loss: 0.5260 - val_accuracy: 0.7403\n",
      "Epoch 72/100\n",
      "20/20 [==============================] - 0s 7ms/step - loss: 0.4087 - accuracy: 0.8078 - val_loss: 0.5266 - val_accuracy: 0.7532\n",
      "Epoch 73/100\n",
      "20/20 [==============================] - 0s 9ms/step - loss: 0.4085 - accuracy: 0.8078 - val_loss: 0.5271 - val_accuracy: 0.7468\n",
      "Epoch 74/100\n",
      "20/20 [==============================] - 0s 8ms/step - loss: 0.4079 - accuracy: 0.8078 - val_loss: 0.5284 - val_accuracy: 0.7403\n",
      "Epoch 75/100\n",
      "20/20 [==============================] - 0s 8ms/step - loss: 0.4077 - accuracy: 0.8078 - val_loss: 0.5280 - val_accuracy: 0.7403\n",
      "Epoch 76/100\n",
      "20/20 [==============================] - 0s 11ms/step - loss: 0.4070 - accuracy: 0.8111 - val_loss: 0.5294 - val_accuracy: 0.7468\n",
      "Epoch 77/100\n",
      "20/20 [==============================] - 0s 11ms/step - loss: 0.4065 - accuracy: 0.8127 - val_loss: 0.5294 - val_accuracy: 0.7403\n",
      "Epoch 78/100\n",
      "20/20 [==============================] - 0s 6ms/step - loss: 0.4067 - accuracy: 0.8094 - val_loss: 0.5307 - val_accuracy: 0.7338\n",
      "Epoch 79/100\n",
      "20/20 [==============================] - 0s 4ms/step - loss: 0.4058 - accuracy: 0.8143 - val_loss: 0.5320 - val_accuracy: 0.7403\n",
      "Epoch 80/100\n",
      "20/20 [==============================] - 0s 7ms/step - loss: 0.4059 - accuracy: 0.8160 - val_loss: 0.5320 - val_accuracy: 0.7403\n",
      "Epoch 81/100\n",
      "20/20 [==============================] - 0s 9ms/step - loss: 0.4052 - accuracy: 0.8176 - val_loss: 0.5311 - val_accuracy: 0.7403\n",
      "Epoch 82/100\n",
      "20/20 [==============================] - 0s 10ms/step - loss: 0.4047 - accuracy: 0.8111 - val_loss: 0.5315 - val_accuracy: 0.7403\n",
      "Epoch 83/100\n",
      "20/20 [==============================] - 0s 10ms/step - loss: 0.4047 - accuracy: 0.8111 - val_loss: 0.5326 - val_accuracy: 0.7403\n",
      "Epoch 84/100\n",
      "20/20 [==============================] - 0s 6ms/step - loss: 0.4042 - accuracy: 0.8160 - val_loss: 0.5325 - val_accuracy: 0.7403\n",
      "Epoch 85/100\n",
      "20/20 [==============================] - 0s 8ms/step - loss: 0.4042 - accuracy: 0.8094 - val_loss: 0.5305 - val_accuracy: 0.7468\n",
      "Epoch 86/100\n",
      "20/20 [==============================] - 0s 7ms/step - loss: 0.4029 - accuracy: 0.8143 - val_loss: 0.5306 - val_accuracy: 0.7403\n",
      "Epoch 87/100\n",
      "20/20 [==============================] - 0s 9ms/step - loss: 0.4033 - accuracy: 0.8160 - val_loss: 0.5313 - val_accuracy: 0.7403\n",
      "Epoch 88/100\n",
      "20/20 [==============================] - 0s 5ms/step - loss: 0.4028 - accuracy: 0.8127 - val_loss: 0.5294 - val_accuracy: 0.7468\n",
      "Epoch 89/100\n",
      "20/20 [==============================] - 0s 5ms/step - loss: 0.4024 - accuracy: 0.8127 - val_loss: 0.5301 - val_accuracy: 0.7468\n",
      "Epoch 90/100\n",
      "20/20 [==============================] - 0s 7ms/step - loss: 0.4022 - accuracy: 0.8111 - val_loss: 0.5301 - val_accuracy: 0.7468\n",
      "Epoch 91/100\n",
      "20/20 [==============================] - 0s 9ms/step - loss: 0.4016 - accuracy: 0.8127 - val_loss: 0.5309 - val_accuracy: 0.7468\n",
      "Epoch 92/100\n",
      "20/20 [==============================] - 0s 9ms/step - loss: 0.4017 - accuracy: 0.8094 - val_loss: 0.5305 - val_accuracy: 0.7468\n",
      "Epoch 93/100\n",
      "20/20 [==============================] - 0s 6ms/step - loss: 0.4008 - accuracy: 0.8094 - val_loss: 0.5304 - val_accuracy: 0.7468\n",
      "Epoch 94/100\n",
      "20/20 [==============================] - 0s 5ms/step - loss: 0.4006 - accuracy: 0.8143 - val_loss: 0.5315 - val_accuracy: 0.7468\n",
      "Epoch 95/100\n",
      "20/20 [==============================] - 0s 6ms/step - loss: 0.4009 - accuracy: 0.8127 - val_loss: 0.5314 - val_accuracy: 0.7468\n",
      "Epoch 96/100\n",
      "20/20 [==============================] - 0s 6ms/step - loss: 0.3997 - accuracy: 0.8127 - val_loss: 0.5318 - val_accuracy: 0.7468\n",
      "Epoch 97/100\n",
      "20/20 [==============================] - 0s 7ms/step - loss: 0.3998 - accuracy: 0.8176 - val_loss: 0.5317 - val_accuracy: 0.7468\n",
      "Epoch 98/100\n",
      "20/20 [==============================] - 0s 6ms/step - loss: 0.3990 - accuracy: 0.8143 - val_loss: 0.5313 - val_accuracy: 0.7468\n",
      "Epoch 99/100\n",
      "20/20 [==============================] - 0s 5ms/step - loss: 0.3991 - accuracy: 0.8111 - val_loss: 0.5316 - val_accuracy: 0.7468\n",
      "Epoch 100/100\n",
      "20/20 [==============================] - 0s 6ms/step - loss: 0.3983 - accuracy: 0.8143 - val_loss: 0.5315 - val_accuracy: 0.7468\n"
     ]
    },
    {
     "data": {
      "text/plain": "<keras.src.callbacks.History at 0x11a33af7520>"
     },
     "execution_count": 21,
     "metadata": {},
     "output_type": "execute_result"
    }
   ],
   "source": [
    "model.fit(X_train,y_train,batch_size=32,initial_epoch=6,epochs=100,validation_data=[X_test,y_test])"
   ],
   "metadata": {
    "collapsed": false,
    "ExecuteTime": {
     "end_time": "2023-12-04T16:57:22.986994Z",
     "start_time": "2023-12-04T16:57:08.744690700Z"
    }
   },
   "id": "8f1a366e50c311c8"
  },
  {
   "cell_type": "markdown",
   "source": [
    "# 2"
   ],
   "metadata": {
    "collapsed": false
   },
   "id": "11e9d33b7ab7100f"
  },
  {
   "cell_type": "code",
   "execution_count": 22,
   "outputs": [],
   "source": [
    "def build_model(hp):\n",
    "    model = Sequential()\n",
    "    \n",
    "    units = hp.Int('units',min_value=8,max_value=128,step=4)\n",
    "    model.add(Dense(units=units,activation='relu',input_dim=8))\n",
    "    model.add(Dense(units=1,activation='relu'))\n",
    "    model.compile(optimizer='rmsprop',loss='binary_crossentropy',metrics=['accuracy'])\n",
    "    \n",
    "    return model"
   ],
   "metadata": {
    "collapsed": false,
    "ExecuteTime": {
     "end_time": "2023-12-04T16:57:23.027884700Z",
     "start_time": "2023-12-04T16:57:22.977022Z"
    }
   },
   "id": "d7f53ab6f7ce51eb"
  },
  {
   "cell_type": "code",
   "execution_count": 23,
   "outputs": [
    {
     "name": "stdout",
     "output_type": "stream",
     "text": [
      "Reloading Tuner from mydir\\untitled_project\\tuner0.json\n"
     ]
    }
   ],
   "source": [
    "tuner = kt.RandomSearch(build_model,objective='val_accuracy',max_trials=5,directory='mydir')"
   ],
   "metadata": {
    "collapsed": false,
    "ExecuteTime": {
     "end_time": "2023-12-04T16:57:23.169920900Z",
     "start_time": "2023-12-04T16:57:22.990984600Z"
    }
   },
   "id": "fe02427281e5246c"
  },
  {
   "cell_type": "code",
   "execution_count": 24,
   "outputs": [],
   "source": [
    "tuner.search(X_train,y_train,epochs=5,validation_data=[X_test,y_test])"
   ],
   "metadata": {
    "collapsed": false,
    "ExecuteTime": {
     "end_time": "2023-12-04T16:57:23.190865400Z",
     "start_time": "2023-12-04T16:57:23.115650300Z"
    }
   },
   "id": "646288ae518fd73f"
  },
  {
   "cell_type": "code",
   "execution_count": 25,
   "outputs": [
    {
     "data": {
      "text/plain": "{'units': 116}"
     },
     "execution_count": 25,
     "metadata": {},
     "output_type": "execute_result"
    }
   ],
   "source": [
    "tuner.get_best_hyperparameters()[0].values"
   ],
   "metadata": {
    "collapsed": false,
    "ExecuteTime": {
     "end_time": "2023-12-04T16:57:23.194853900Z",
     "start_time": "2023-12-04T16:57:23.129029800Z"
    }
   },
   "id": "894cbe5831a0c165"
  },
  {
   "cell_type": "code",
   "execution_count": 26,
   "outputs": [],
   "source": [
    "model = tuner.get_best_models(num_models=1)[0]"
   ],
   "metadata": {
    "collapsed": false,
    "ExecuteTime": {
     "end_time": "2023-12-04T16:57:23.476420300Z",
     "start_time": "2023-12-04T16:57:23.174907Z"
    }
   },
   "id": "5171d5dd27b9e1bc"
  },
  {
   "cell_type": "code",
   "execution_count": 27,
   "outputs": [
    {
     "name": "stdout",
     "output_type": "stream",
     "text": [
      "Epoch 7/100\n",
      "20/20 [==============================] - 1s 19ms/step - loss: 0.5045 - accuracy: 0.7834 - val_loss: 1.0359 - val_accuracy: 0.7532\n",
      "Epoch 8/100\n",
      "20/20 [==============================] - 0s 7ms/step - loss: 0.5010 - accuracy: 0.7932 - val_loss: 1.0370 - val_accuracy: 0.7532\n",
      "Epoch 9/100\n",
      "20/20 [==============================] - 0s 9ms/step - loss: 0.4869 - accuracy: 0.7883 - val_loss: 1.1131 - val_accuracy: 0.7468\n",
      "Epoch 10/100\n",
      "20/20 [==============================] - 0s 11ms/step - loss: 0.4996 - accuracy: 0.7980 - val_loss: 1.0282 - val_accuracy: 0.7338\n",
      "Epoch 11/100\n",
      "20/20 [==============================] - 0s 6ms/step - loss: 0.5030 - accuracy: 0.8013 - val_loss: 1.0505 - val_accuracy: 0.7597\n",
      "Epoch 12/100\n",
      "20/20 [==============================] - 0s 10ms/step - loss: 0.4890 - accuracy: 0.7948 - val_loss: 1.0216 - val_accuracy: 0.7078\n",
      "Epoch 13/100\n",
      "20/20 [==============================] - 0s 11ms/step - loss: 0.5152 - accuracy: 0.7980 - val_loss: 0.9727 - val_accuracy: 0.7597\n",
      "Epoch 14/100\n",
      "20/20 [==============================] - 0s 11ms/step - loss: 0.4630 - accuracy: 0.7964 - val_loss: 1.1418 - val_accuracy: 0.7468\n",
      "Epoch 15/100\n",
      "20/20 [==============================] - 0s 11ms/step - loss: 0.4684 - accuracy: 0.8046 - val_loss: 1.0223 - val_accuracy: 0.7597\n",
      "Epoch 16/100\n",
      "20/20 [==============================] - 0s 5ms/step - loss: 0.4577 - accuracy: 0.8062 - val_loss: 1.1001 - val_accuracy: 0.7597\n",
      "Epoch 17/100\n",
      "20/20 [==============================] - 0s 7ms/step - loss: 0.4781 - accuracy: 0.8062 - val_loss: 1.0362 - val_accuracy: 0.7403\n",
      "Epoch 18/100\n",
      "20/20 [==============================] - 0s 10ms/step - loss: 0.4532 - accuracy: 0.8046 - val_loss: 1.0273 - val_accuracy: 0.7208\n",
      "Epoch 19/100\n",
      "20/20 [==============================] - 0s 6ms/step - loss: 0.4746 - accuracy: 0.8127 - val_loss: 1.0995 - val_accuracy: 0.7338\n",
      "Epoch 20/100\n",
      "20/20 [==============================] - 0s 4ms/step - loss: 0.4743 - accuracy: 0.8111 - val_loss: 1.0187 - val_accuracy: 0.7208\n",
      "Epoch 21/100\n",
      "20/20 [==============================] - 0s 6ms/step - loss: 0.4455 - accuracy: 0.8111 - val_loss: 0.9627 - val_accuracy: 0.7338\n",
      "Epoch 22/100\n",
      "20/20 [==============================] - 0s 9ms/step - loss: 0.4436 - accuracy: 0.8046 - val_loss: 1.1207 - val_accuracy: 0.7532\n",
      "Epoch 23/100\n",
      "20/20 [==============================] - 0s 11ms/step - loss: 0.4478 - accuracy: 0.8192 - val_loss: 1.0400 - val_accuracy: 0.7532\n",
      "Epoch 24/100\n",
      "20/20 [==============================] - 0s 5ms/step - loss: 0.4449 - accuracy: 0.8094 - val_loss: 1.0434 - val_accuracy: 0.7468\n",
      "Epoch 25/100\n",
      "20/20 [==============================] - 0s 8ms/step - loss: 0.4405 - accuracy: 0.8143 - val_loss: 1.0999 - val_accuracy: 0.7403\n",
      "Epoch 26/100\n",
      "20/20 [==============================] - 0s 9ms/step - loss: 0.4383 - accuracy: 0.8143 - val_loss: 1.1108 - val_accuracy: 0.7338\n",
      "Epoch 27/100\n",
      "20/20 [==============================] - 0s 11ms/step - loss: 0.4369 - accuracy: 0.8094 - val_loss: 1.1121 - val_accuracy: 0.7403\n",
      "Epoch 28/100\n",
      "20/20 [==============================] - 0s 11ms/step - loss: 0.4338 - accuracy: 0.8094 - val_loss: 0.9531 - val_accuracy: 0.7338\n",
      "Epoch 29/100\n",
      "20/20 [==============================] - 0s 6ms/step - loss: 0.4334 - accuracy: 0.8127 - val_loss: 1.0341 - val_accuracy: 0.7273\n",
      "Epoch 30/100\n",
      "20/20 [==============================] - 0s 9ms/step - loss: 0.4297 - accuracy: 0.8290 - val_loss: 1.1875 - val_accuracy: 0.7338\n",
      "Epoch 31/100\n",
      "20/20 [==============================] - 0s 8ms/step - loss: 0.4316 - accuracy: 0.8160 - val_loss: 1.0996 - val_accuracy: 0.7208\n",
      "Epoch 32/100\n",
      "20/20 [==============================] - 0s 7ms/step - loss: 0.4266 - accuracy: 0.8111 - val_loss: 1.1149 - val_accuracy: 0.7273\n",
      "Epoch 33/100\n",
      "20/20 [==============================] - 0s 9ms/step - loss: 0.4335 - accuracy: 0.8192 - val_loss: 1.1812 - val_accuracy: 0.7273\n",
      "Epoch 34/100\n",
      "20/20 [==============================] - 0s 7ms/step - loss: 0.4210 - accuracy: 0.8160 - val_loss: 1.1101 - val_accuracy: 0.7403\n",
      "Epoch 35/100\n",
      "20/20 [==============================] - 0s 9ms/step - loss: 0.4441 - accuracy: 0.8143 - val_loss: 1.1135 - val_accuracy: 0.7338\n",
      "Epoch 36/100\n",
      "20/20 [==============================] - 0s 10ms/step - loss: 0.4226 - accuracy: 0.8160 - val_loss: 1.1230 - val_accuracy: 0.7273\n",
      "Epoch 37/100\n",
      "20/20 [==============================] - 0s 10ms/step - loss: 0.4425 - accuracy: 0.8192 - val_loss: 1.2038 - val_accuracy: 0.7208\n",
      "Epoch 38/100\n",
      "20/20 [==============================] - 0s 10ms/step - loss: 0.4206 - accuracy: 0.8274 - val_loss: 1.1441 - val_accuracy: 0.7273\n",
      "Epoch 39/100\n",
      "20/20 [==============================] - 0s 5ms/step - loss: 0.4230 - accuracy: 0.8208 - val_loss: 1.0445 - val_accuracy: 0.7208\n",
      "Epoch 40/100\n",
      "20/20 [==============================] - 0s 7ms/step - loss: 0.4145 - accuracy: 0.8208 - val_loss: 1.1946 - val_accuracy: 0.7273\n",
      "Epoch 41/100\n",
      "20/20 [==============================] - 0s 9ms/step - loss: 0.4208 - accuracy: 0.8143 - val_loss: 1.1148 - val_accuracy: 0.7143\n",
      "Epoch 42/100\n",
      "20/20 [==============================] - 0s 6ms/step - loss: 0.4138 - accuracy: 0.8274 - val_loss: 1.1008 - val_accuracy: 0.7143\n",
      "Epoch 43/100\n",
      "20/20 [==============================] - 0s 10ms/step - loss: 0.4135 - accuracy: 0.8241 - val_loss: 1.1016 - val_accuracy: 0.7403\n",
      "Epoch 44/100\n",
      "20/20 [==============================] - 0s 10ms/step - loss: 0.4128 - accuracy: 0.8225 - val_loss: 1.1902 - val_accuracy: 0.7208\n",
      "Epoch 45/100\n",
      "20/20 [==============================] - 0s 11ms/step - loss: 0.4104 - accuracy: 0.8143 - val_loss: 1.1262 - val_accuracy: 0.7273\n",
      "Epoch 46/100\n",
      "20/20 [==============================] - 0s 9ms/step - loss: 0.4110 - accuracy: 0.8208 - val_loss: 1.2817 - val_accuracy: 0.7403\n",
      "Epoch 47/100\n",
      "20/20 [==============================] - 0s 7ms/step - loss: 0.4092 - accuracy: 0.8225 - val_loss: 1.1895 - val_accuracy: 0.7143\n",
      "Epoch 48/100\n",
      "20/20 [==============================] - 0s 9ms/step - loss: 0.4060 - accuracy: 0.8241 - val_loss: 0.9371 - val_accuracy: 0.7143\n",
      "Epoch 49/100\n",
      "20/20 [==============================] - 0s 10ms/step - loss: 0.4087 - accuracy: 0.8322 - val_loss: 1.1104 - val_accuracy: 0.7208\n",
      "Epoch 50/100\n",
      "20/20 [==============================] - 0s 5ms/step - loss: 0.4039 - accuracy: 0.8225 - val_loss: 1.0349 - val_accuracy: 0.7143\n",
      "Epoch 51/100\n",
      "20/20 [==============================] - 0s 6ms/step - loss: 0.4020 - accuracy: 0.8355 - val_loss: 1.1109 - val_accuracy: 0.7078\n",
      "Epoch 52/100\n",
      "20/20 [==============================] - 0s 8ms/step - loss: 0.4016 - accuracy: 0.8290 - val_loss: 1.1139 - val_accuracy: 0.7143\n",
      "Epoch 53/100\n",
      "20/20 [==============================] - 0s 6ms/step - loss: 0.4020 - accuracy: 0.8257 - val_loss: 1.1316 - val_accuracy: 0.7143\n",
      "Epoch 54/100\n",
      "20/20 [==============================] - 0s 7ms/step - loss: 0.4031 - accuracy: 0.8225 - val_loss: 1.1873 - val_accuracy: 0.7338\n",
      "Epoch 55/100\n",
      "20/20 [==============================] - 0s 7ms/step - loss: 0.3986 - accuracy: 0.8274 - val_loss: 1.2864 - val_accuracy: 0.7273\n",
      "Epoch 56/100\n",
      "20/20 [==============================] - 0s 6ms/step - loss: 0.3975 - accuracy: 0.8208 - val_loss: 1.1445 - val_accuracy: 0.7208\n",
      "Epoch 57/100\n",
      "20/20 [==============================] - 0s 6ms/step - loss: 0.3927 - accuracy: 0.8257 - val_loss: 1.2922 - val_accuracy: 0.7143\n",
      "Epoch 58/100\n",
      "20/20 [==============================] - 0s 9ms/step - loss: 0.3994 - accuracy: 0.8257 - val_loss: 1.2018 - val_accuracy: 0.7208\n",
      "Epoch 59/100\n",
      "20/20 [==============================] - 0s 8ms/step - loss: 0.4152 - accuracy: 0.8306 - val_loss: 1.1233 - val_accuracy: 0.7273\n",
      "Epoch 60/100\n",
      "20/20 [==============================] - 0s 6ms/step - loss: 0.3923 - accuracy: 0.8371 - val_loss: 1.2832 - val_accuracy: 0.7273\n",
      "Epoch 61/100\n",
      "20/20 [==============================] - 0s 9ms/step - loss: 0.3888 - accuracy: 0.8322 - val_loss: 0.9592 - val_accuracy: 0.7273\n",
      "Epoch 62/100\n",
      "20/20 [==============================] - 0s 10ms/step - loss: 0.3926 - accuracy: 0.8371 - val_loss: 1.2031 - val_accuracy: 0.7208\n",
      "Epoch 63/100\n",
      "20/20 [==============================] - 0s 10ms/step - loss: 0.3912 - accuracy: 0.8274 - val_loss: 1.2098 - val_accuracy: 0.7273\n",
      "Epoch 64/100\n",
      "20/20 [==============================] - 0s 6ms/step - loss: 0.3897 - accuracy: 0.8290 - val_loss: 1.0597 - val_accuracy: 0.7273\n",
      "Epoch 65/100\n",
      "20/20 [==============================] - 0s 8ms/step - loss: 0.3893 - accuracy: 0.8339 - val_loss: 1.2674 - val_accuracy: 0.7338\n",
      "Epoch 66/100\n",
      "20/20 [==============================] - 0s 7ms/step - loss: 0.3862 - accuracy: 0.8290 - val_loss: 1.1905 - val_accuracy: 0.7208\n",
      "Epoch 67/100\n",
      "20/20 [==============================] - 0s 6ms/step - loss: 0.3870 - accuracy: 0.8274 - val_loss: 1.1341 - val_accuracy: 0.7338\n",
      "Epoch 68/100\n",
      "20/20 [==============================] - 0s 5ms/step - loss: 0.3826 - accuracy: 0.8322 - val_loss: 1.2690 - val_accuracy: 0.7338\n",
      "Epoch 69/100\n",
      "20/20 [==============================] - 0s 5ms/step - loss: 0.3833 - accuracy: 0.8290 - val_loss: 1.1284 - val_accuracy: 0.7338\n",
      "Epoch 70/100\n",
      "20/20 [==============================] - 0s 6ms/step - loss: 0.3797 - accuracy: 0.8485 - val_loss: 1.1228 - val_accuracy: 0.7338\n",
      "Epoch 71/100\n",
      "20/20 [==============================] - 0s 5ms/step - loss: 0.3823 - accuracy: 0.8274 - val_loss: 1.0645 - val_accuracy: 0.7078\n",
      "Epoch 72/100\n",
      "20/20 [==============================] - 0s 8ms/step - loss: 0.3790 - accuracy: 0.8355 - val_loss: 1.2028 - val_accuracy: 0.7143\n",
      "Epoch 73/100\n",
      "20/20 [==============================] - 0s 9ms/step - loss: 0.3798 - accuracy: 0.8290 - val_loss: 1.1355 - val_accuracy: 0.7143\n",
      "Epoch 74/100\n",
      "20/20 [==============================] - 0s 10ms/step - loss: 0.3760 - accuracy: 0.8339 - val_loss: 1.2018 - val_accuracy: 0.7078\n",
      "Epoch 75/100\n",
      "20/20 [==============================] - 0s 9ms/step - loss: 0.3770 - accuracy: 0.8355 - val_loss: 1.1969 - val_accuracy: 0.7273\n",
      "Epoch 76/100\n",
      "20/20 [==============================] - 0s 5ms/step - loss: 0.3772 - accuracy: 0.8339 - val_loss: 1.2789 - val_accuracy: 0.7273\n",
      "Epoch 77/100\n",
      "20/20 [==============================] - 0s 6ms/step - loss: 0.3815 - accuracy: 0.8371 - val_loss: 1.1968 - val_accuracy: 0.7078\n",
      "Epoch 78/100\n",
      "20/20 [==============================] - 0s 8ms/step - loss: 0.3695 - accuracy: 0.8388 - val_loss: 1.2827 - val_accuracy: 0.7338\n",
      "Epoch 79/100\n",
      "20/20 [==============================] - 0s 8ms/step - loss: 0.3757 - accuracy: 0.8306 - val_loss: 1.2813 - val_accuracy: 0.7273\n",
      "Epoch 80/100\n",
      "20/20 [==============================] - 0s 8ms/step - loss: 0.3719 - accuracy: 0.8388 - val_loss: 1.2036 - val_accuracy: 0.7273\n",
      "Epoch 81/100\n",
      "20/20 [==============================] - 0s 10ms/step - loss: 0.3735 - accuracy: 0.8290 - val_loss: 1.1952 - val_accuracy: 0.7208\n",
      "Epoch 82/100\n",
      "20/20 [==============================] - 0s 10ms/step - loss: 0.3681 - accuracy: 0.8469 - val_loss: 1.2062 - val_accuracy: 0.7273\n",
      "Epoch 83/100\n",
      "20/20 [==============================] - 0s 6ms/step - loss: 0.3739 - accuracy: 0.8420 - val_loss: 1.2016 - val_accuracy: 0.7143\n",
      "Epoch 84/100\n",
      "20/20 [==============================] - 0s 7ms/step - loss: 0.3697 - accuracy: 0.8388 - val_loss: 1.0641 - val_accuracy: 0.7338\n",
      "Epoch 85/100\n",
      "20/20 [==============================] - 0s 9ms/step - loss: 0.3655 - accuracy: 0.8420 - val_loss: 1.1408 - val_accuracy: 0.7273\n",
      "Epoch 86/100\n",
      "20/20 [==============================] - 0s 10ms/step - loss: 0.3680 - accuracy: 0.8404 - val_loss: 1.1568 - val_accuracy: 0.7208\n",
      "Epoch 87/100\n",
      "20/20 [==============================] - 0s 10ms/step - loss: 0.3663 - accuracy: 0.8420 - val_loss: 1.1409 - val_accuracy: 0.7273\n",
      "Epoch 88/100\n",
      "20/20 [==============================] - 0s 9ms/step - loss: 0.3629 - accuracy: 0.8436 - val_loss: 1.1944 - val_accuracy: 0.7468\n",
      "Epoch 89/100\n",
      "20/20 [==============================] - 0s 6ms/step - loss: 0.3650 - accuracy: 0.8436 - val_loss: 1.2785 - val_accuracy: 0.7208\n",
      "Epoch 90/100\n",
      "20/20 [==============================] - 0s 8ms/step - loss: 0.3645 - accuracy: 0.8436 - val_loss: 1.1868 - val_accuracy: 0.7338\n",
      "Epoch 91/100\n",
      "20/20 [==============================] - 0s 10ms/step - loss: 0.3647 - accuracy: 0.8436 - val_loss: 1.2174 - val_accuracy: 0.7403\n",
      "Epoch 92/100\n",
      "20/20 [==============================] - 0s 6ms/step - loss: 0.3575 - accuracy: 0.8502 - val_loss: 1.0997 - val_accuracy: 0.7078\n",
      "Epoch 93/100\n",
      "20/20 [==============================] - 0s 7ms/step - loss: 0.3626 - accuracy: 0.8388 - val_loss: 1.2120 - val_accuracy: 0.7208\n",
      "Epoch 94/100\n",
      "20/20 [==============================] - 0s 8ms/step - loss: 0.3591 - accuracy: 0.8453 - val_loss: 1.2189 - val_accuracy: 0.7273\n",
      "Epoch 95/100\n",
      "20/20 [==============================] - 0s 12ms/step - loss: 0.3575 - accuracy: 0.8518 - val_loss: 1.2866 - val_accuracy: 0.7208\n",
      "Epoch 96/100\n",
      "20/20 [==============================] - 0s 7ms/step - loss: 0.3600 - accuracy: 0.8453 - val_loss: 1.1439 - val_accuracy: 0.7273\n",
      "Epoch 97/100\n",
      "20/20 [==============================] - 0s 7ms/step - loss: 0.3615 - accuracy: 0.8420 - val_loss: 1.2020 - val_accuracy: 0.7273\n",
      "Epoch 98/100\n",
      "20/20 [==============================] - 0s 6ms/step - loss: 0.3562 - accuracy: 0.8518 - val_loss: 1.2915 - val_accuracy: 0.7273\n",
      "Epoch 99/100\n",
      "20/20 [==============================] - 0s 7ms/step - loss: 0.3573 - accuracy: 0.8404 - val_loss: 1.2760 - val_accuracy: 0.7273\n",
      "Epoch 100/100\n",
      "20/20 [==============================] - 0s 7ms/step - loss: 0.3560 - accuracy: 0.8550 - val_loss: 1.2725 - val_accuracy: 0.7273\n"
     ]
    },
    {
     "data": {
      "text/plain": "<keras.src.callbacks.History at 0x11a33ca7bb0>"
     },
     "execution_count": 27,
     "metadata": {},
     "output_type": "execute_result"
    }
   ],
   "source": [
    "model.fit(X_train,y_train,batch_size=32,epochs=100,initial_epoch=6,validation_data=[X_test,y_test])"
   ],
   "metadata": {
    "collapsed": false,
    "ExecuteTime": {
     "end_time": "2023-12-04T16:57:40.000523Z",
     "start_time": "2023-12-04T16:57:23.479413Z"
    }
   },
   "id": "82582d5682ad1c45"
  },
  {
   "cell_type": "markdown",
   "source": [
    "# 3"
   ],
   "metadata": {
    "collapsed": false
   },
   "id": "e524bbd6e653c4b1"
  },
  {
   "cell_type": "code",
   "execution_count": 28,
   "outputs": [],
   "source": [
    "def build_model(hp):\n",
    "    model = Sequential()\n",
    "    model.add(Dense(72,activation='relu',input_dim=8))\n",
    "    for i in range(hp.Int('num_layers',min_value=1,max_value=10)):\n",
    "        model.add(Dense(72,activation='relu'))\n",
    "        \n",
    "    model.add(Dense(1,activation='sigmoid'))\n",
    "    \n",
    "    model.compile(optimizer='rmsprop',loss='binary_crossentropy',metrics=['accuracy'])\n",
    "    \n",
    "    return model\n",
    "        "
   ],
   "metadata": {
    "collapsed": false,
    "ExecuteTime": {
     "end_time": "2023-12-04T16:57:40.047417100Z",
     "start_time": "2023-12-04T16:57:39.920288800Z"
    }
   },
   "id": "120180219d87d008"
  },
  {
   "cell_type": "code",
   "execution_count": 29,
   "outputs": [
    {
     "name": "stdout",
     "output_type": "stream",
     "text": [
      "Reloading Tuner from mydir1\\num_layers\\tuner0.json\n"
     ]
    }
   ],
   "source": [
    "tuner = kt.RandomSearch(build_model,objective='val_accuracy',max_trials=3,directory='mydir1',project_name='num_layers')"
   ],
   "metadata": {
    "collapsed": false,
    "ExecuteTime": {
     "end_time": "2023-12-04T16:57:40.189598400Z",
     "start_time": "2023-12-04T16:57:39.947687700Z"
    }
   },
   "id": "4abb8020c48b0703"
  },
  {
   "cell_type": "code",
   "execution_count": 30,
   "outputs": [],
   "source": [
    "tuner.search(X_train,y_train,epochs=5,validation_data=[X_test,y_test])"
   ],
   "metadata": {
    "collapsed": false,
    "ExecuteTime": {
     "end_time": "2023-12-04T16:57:40.190595600Z",
     "start_time": "2023-12-04T16:57:40.084878900Z"
    }
   },
   "id": "4ffa20ef7fe4463b"
  },
  {
   "cell_type": "code",
   "execution_count": 31,
   "outputs": [
    {
     "data": {
      "text/plain": "{'num_layers': 2}"
     },
     "execution_count": 31,
     "metadata": {},
     "output_type": "execute_result"
    }
   ],
   "source": [
    "tuner.get_best_hyperparameters()[0].values"
   ],
   "metadata": {
    "collapsed": false,
    "ExecuteTime": {
     "end_time": "2023-12-04T16:57:40.190595600Z",
     "start_time": "2023-12-04T16:57:40.100834900Z"
    }
   },
   "id": "a9af1df6633c3465"
  },
  {
   "cell_type": "code",
   "execution_count": 32,
   "outputs": [],
   "source": [
    "model = tuner.get_best_models(num_models=1)[0]"
   ],
   "metadata": {
    "collapsed": false,
    "ExecuteTime": {
     "end_time": "2023-12-04T16:57:40.426884800Z",
     "start_time": "2023-12-04T16:57:40.117791Z"
    }
   },
   "id": "9f583b5bac0892ae"
  },
  {
   "cell_type": "code",
   "execution_count": 33,
   "outputs": [
    {
     "name": "stdout",
     "output_type": "stream",
     "text": [
      "Epoch 6/100\n",
      "20/20 [==============================] - 1s 14ms/step - loss: 0.4345 - accuracy: 0.7932 - val_loss: 0.5201 - val_accuracy: 0.7532\n",
      "Epoch 7/100\n",
      "20/20 [==============================] - 0s 6ms/step - loss: 0.4224 - accuracy: 0.8094 - val_loss: 0.5225 - val_accuracy: 0.7403\n",
      "Epoch 8/100\n",
      "20/20 [==============================] - 0s 6ms/step - loss: 0.4213 - accuracy: 0.8013 - val_loss: 0.5310 - val_accuracy: 0.7468\n",
      "Epoch 9/100\n",
      "20/20 [==============================] - 0s 6ms/step - loss: 0.4157 - accuracy: 0.8029 - val_loss: 0.5327 - val_accuracy: 0.7597\n",
      "Epoch 10/100\n",
      "20/20 [==============================] - 0s 6ms/step - loss: 0.4118 - accuracy: 0.8062 - val_loss: 0.5282 - val_accuracy: 0.7403\n",
      "Epoch 11/100\n",
      "20/20 [==============================] - 0s 6ms/step - loss: 0.4068 - accuracy: 0.8192 - val_loss: 0.5668 - val_accuracy: 0.7208\n",
      "Epoch 12/100\n",
      "20/20 [==============================] - 0s 8ms/step - loss: 0.4038 - accuracy: 0.7997 - val_loss: 0.5320 - val_accuracy: 0.7597\n",
      "Epoch 13/100\n",
      "20/20 [==============================] - 0s 11ms/step - loss: 0.3994 - accuracy: 0.8094 - val_loss: 0.5288 - val_accuracy: 0.7532\n",
      "Epoch 14/100\n",
      "20/20 [==============================] - 0s 5ms/step - loss: 0.3933 - accuracy: 0.8013 - val_loss: 0.5390 - val_accuracy: 0.7338\n",
      "Epoch 15/100\n",
      "20/20 [==============================] - 0s 5ms/step - loss: 0.3866 - accuracy: 0.8257 - val_loss: 0.5649 - val_accuracy: 0.7468\n",
      "Epoch 16/100\n",
      "20/20 [==============================] - 0s 5ms/step - loss: 0.3841 - accuracy: 0.8208 - val_loss: 0.5431 - val_accuracy: 0.7468\n",
      "Epoch 17/100\n",
      "20/20 [==============================] - 0s 6ms/step - loss: 0.3776 - accuracy: 0.8290 - val_loss: 0.5638 - val_accuracy: 0.7532\n",
      "Epoch 18/100\n",
      "20/20 [==============================] - 0s 7ms/step - loss: 0.3748 - accuracy: 0.8257 - val_loss: 0.5522 - val_accuracy: 0.7338\n",
      "Epoch 19/100\n",
      "20/20 [==============================] - 0s 9ms/step - loss: 0.3726 - accuracy: 0.8290 - val_loss: 0.5703 - val_accuracy: 0.7338\n",
      "Epoch 20/100\n",
      "20/20 [==============================] - 0s 10ms/step - loss: 0.3611 - accuracy: 0.8257 - val_loss: 0.5850 - val_accuracy: 0.7338\n",
      "Epoch 21/100\n",
      "20/20 [==============================] - 0s 5ms/step - loss: 0.3658 - accuracy: 0.8290 - val_loss: 0.5546 - val_accuracy: 0.7338\n",
      "Epoch 22/100\n",
      "20/20 [==============================] - 0s 7ms/step - loss: 0.3573 - accuracy: 0.8339 - val_loss: 0.5468 - val_accuracy: 0.7468\n",
      "Epoch 23/100\n",
      "20/20 [==============================] - 0s 6ms/step - loss: 0.3535 - accuracy: 0.8339 - val_loss: 0.5711 - val_accuracy: 0.7403\n",
      "Epoch 24/100\n",
      "20/20 [==============================] - 0s 5ms/step - loss: 0.3479 - accuracy: 0.8257 - val_loss: 0.5672 - val_accuracy: 0.7403\n",
      "Epoch 25/100\n",
      "20/20 [==============================] - 0s 6ms/step - loss: 0.3490 - accuracy: 0.8355 - val_loss: 0.5637 - val_accuracy: 0.7532\n",
      "Epoch 26/100\n",
      "20/20 [==============================] - 0s 8ms/step - loss: 0.3423 - accuracy: 0.8371 - val_loss: 0.6009 - val_accuracy: 0.7208\n",
      "Epoch 27/100\n",
      "20/20 [==============================] - 0s 6ms/step - loss: 0.3385 - accuracy: 0.8388 - val_loss: 0.5766 - val_accuracy: 0.7662\n",
      "Epoch 28/100\n",
      "20/20 [==============================] - 0s 6ms/step - loss: 0.3341 - accuracy: 0.8599 - val_loss: 0.5851 - val_accuracy: 0.7532\n",
      "Epoch 29/100\n",
      "20/20 [==============================] - 0s 6ms/step - loss: 0.3380 - accuracy: 0.8469 - val_loss: 0.6192 - val_accuracy: 0.7143\n",
      "Epoch 30/100\n",
      "20/20 [==============================] - 0s 9ms/step - loss: 0.3294 - accuracy: 0.8567 - val_loss: 0.5830 - val_accuracy: 0.7597\n",
      "Epoch 31/100\n",
      "20/20 [==============================] - 0s 9ms/step - loss: 0.3215 - accuracy: 0.8583 - val_loss: 0.6043 - val_accuracy: 0.7468\n",
      "Epoch 32/100\n",
      "20/20 [==============================] - 0s 9ms/step - loss: 0.3180 - accuracy: 0.8469 - val_loss: 0.6138 - val_accuracy: 0.7208\n",
      "Epoch 33/100\n",
      "20/20 [==============================] - 0s 6ms/step - loss: 0.3148 - accuracy: 0.8599 - val_loss: 0.5909 - val_accuracy: 0.7273\n",
      "Epoch 34/100\n",
      "20/20 [==============================] - 0s 6ms/step - loss: 0.3085 - accuracy: 0.8583 - val_loss: 0.5845 - val_accuracy: 0.7468\n",
      "Epoch 35/100\n",
      "20/20 [==============================] - 0s 7ms/step - loss: 0.3054 - accuracy: 0.8681 - val_loss: 0.5958 - val_accuracy: 0.7532\n",
      "Epoch 36/100\n",
      "20/20 [==============================] - 0s 6ms/step - loss: 0.2988 - accuracy: 0.8583 - val_loss: 0.6212 - val_accuracy: 0.7468\n",
      "Epoch 37/100\n",
      "20/20 [==============================] - 0s 10ms/step - loss: 0.2939 - accuracy: 0.8762 - val_loss: 0.6040 - val_accuracy: 0.7273\n",
      "Epoch 38/100\n",
      "20/20 [==============================] - 0s 9ms/step - loss: 0.2882 - accuracy: 0.8827 - val_loss: 0.6260 - val_accuracy: 0.7662\n",
      "Epoch 39/100\n",
      "20/20 [==============================] - 0s 6ms/step - loss: 0.2836 - accuracy: 0.8811 - val_loss: 0.6471 - val_accuracy: 0.7208\n",
      "Epoch 40/100\n",
      "20/20 [==============================] - 0s 11ms/step - loss: 0.2784 - accuracy: 0.8893 - val_loss: 0.6500 - val_accuracy: 0.7403\n",
      "Epoch 41/100\n",
      "20/20 [==============================] - 0s 11ms/step - loss: 0.2740 - accuracy: 0.8811 - val_loss: 0.6366 - val_accuracy: 0.7338\n",
      "Epoch 42/100\n",
      "20/20 [==============================] - 0s 10ms/step - loss: 0.2689 - accuracy: 0.8876 - val_loss: 0.6205 - val_accuracy: 0.7468\n",
      "Epoch 43/100\n",
      "20/20 [==============================] - 0s 11ms/step - loss: 0.2625 - accuracy: 0.8925 - val_loss: 0.6984 - val_accuracy: 0.7532\n",
      "Epoch 44/100\n",
      "20/20 [==============================] - 0s 11ms/step - loss: 0.2686 - accuracy: 0.8779 - val_loss: 0.6636 - val_accuracy: 0.7468\n",
      "Epoch 45/100\n",
      "20/20 [==============================] - 0s 5ms/step - loss: 0.2543 - accuracy: 0.9055 - val_loss: 0.7011 - val_accuracy: 0.7078\n",
      "Epoch 46/100\n",
      "20/20 [==============================] - 0s 11ms/step - loss: 0.2472 - accuracy: 0.9023 - val_loss: 0.7051 - val_accuracy: 0.7273\n",
      "Epoch 47/100\n",
      "20/20 [==============================] - 0s 7ms/step - loss: 0.2453 - accuracy: 0.9007 - val_loss: 0.7029 - val_accuracy: 0.7273\n",
      "Epoch 48/100\n",
      "20/20 [==============================] - 0s 6ms/step - loss: 0.2376 - accuracy: 0.9072 - val_loss: 0.6826 - val_accuracy: 0.7273\n",
      "Epoch 49/100\n",
      "20/20 [==============================] - 0s 6ms/step - loss: 0.2372 - accuracy: 0.9104 - val_loss: 0.6833 - val_accuracy: 0.7403\n",
      "Epoch 50/100\n",
      "20/20 [==============================] - 0s 6ms/step - loss: 0.2306 - accuracy: 0.9169 - val_loss: 0.6962 - val_accuracy: 0.7403\n",
      "Epoch 51/100\n",
      "20/20 [==============================] - 0s 7ms/step - loss: 0.2295 - accuracy: 0.9186 - val_loss: 0.7299 - val_accuracy: 0.7273\n",
      "Epoch 52/100\n",
      "20/20 [==============================] - 0s 7ms/step - loss: 0.2260 - accuracy: 0.9121 - val_loss: 0.7539 - val_accuracy: 0.7403\n",
      "Epoch 53/100\n",
      "20/20 [==============================] - 0s 10ms/step - loss: 0.2163 - accuracy: 0.9186 - val_loss: 0.7099 - val_accuracy: 0.7273\n",
      "Epoch 54/100\n",
      "20/20 [==============================] - 0s 6ms/step - loss: 0.2083 - accuracy: 0.9218 - val_loss: 0.7411 - val_accuracy: 0.7403\n",
      "Epoch 55/100\n",
      "20/20 [==============================] - 0s 4ms/step - loss: 0.2113 - accuracy: 0.9218 - val_loss: 0.7386 - val_accuracy: 0.7468\n",
      "Epoch 56/100\n",
      "20/20 [==============================] - 0s 10ms/step - loss: 0.2023 - accuracy: 0.9267 - val_loss: 0.8003 - val_accuracy: 0.7273\n",
      "Epoch 57/100\n",
      "20/20 [==============================] - 0s 10ms/step - loss: 0.2019 - accuracy: 0.9332 - val_loss: 0.8135 - val_accuracy: 0.7468\n",
      "Epoch 58/100\n",
      "20/20 [==============================] - 0s 13ms/step - loss: 0.1871 - accuracy: 0.9349 - val_loss: 0.8039 - val_accuracy: 0.7143\n",
      "Epoch 59/100\n",
      "20/20 [==============================] - 0s 10ms/step - loss: 0.1951 - accuracy: 0.9235 - val_loss: 0.8905 - val_accuracy: 0.7208\n",
      "Epoch 60/100\n",
      "20/20 [==============================] - 0s 8ms/step - loss: 0.1848 - accuracy: 0.9365 - val_loss: 0.8383 - val_accuracy: 0.7273\n",
      "Epoch 61/100\n",
      "20/20 [==============================] - 0s 7ms/step - loss: 0.1800 - accuracy: 0.9414 - val_loss: 0.8484 - val_accuracy: 0.7273\n",
      "Epoch 62/100\n",
      "20/20 [==============================] - 0s 9ms/step - loss: 0.1796 - accuracy: 0.9381 - val_loss: 0.8697 - val_accuracy: 0.7338\n",
      "Epoch 63/100\n",
      "20/20 [==============================] - 0s 12ms/step - loss: 0.1720 - accuracy: 0.9381 - val_loss: 0.8917 - val_accuracy: 0.7143\n",
      "Epoch 64/100\n",
      "20/20 [==============================] - 0s 11ms/step - loss: 0.1676 - accuracy: 0.9349 - val_loss: 0.9609 - val_accuracy: 0.6883\n",
      "Epoch 65/100\n",
      "20/20 [==============================] - 0s 11ms/step - loss: 0.1587 - accuracy: 0.9528 - val_loss: 1.0012 - val_accuracy: 0.7273\n",
      "Epoch 66/100\n",
      "20/20 [==============================] - 0s 7ms/step - loss: 0.1628 - accuracy: 0.9430 - val_loss: 0.9042 - val_accuracy: 0.7403\n",
      "Epoch 67/100\n",
      "20/20 [==============================] - 0s 11ms/step - loss: 0.1559 - accuracy: 0.9463 - val_loss: 0.9929 - val_accuracy: 0.7143\n",
      "Epoch 68/100\n",
      "20/20 [==============================] - 0s 11ms/step - loss: 0.1470 - accuracy: 0.9528 - val_loss: 0.9739 - val_accuracy: 0.7338\n",
      "Epoch 69/100\n",
      "20/20 [==============================] - 0s 12ms/step - loss: 0.1442 - accuracy: 0.9511 - val_loss: 1.0083 - val_accuracy: 0.6818\n",
      "Epoch 70/100\n",
      "20/20 [==============================] - 0s 11ms/step - loss: 0.1411 - accuracy: 0.9528 - val_loss: 1.0085 - val_accuracy: 0.7078\n",
      "Epoch 71/100\n",
      "20/20 [==============================] - 0s 12ms/step - loss: 0.1378 - accuracy: 0.9528 - val_loss: 0.9900 - val_accuracy: 0.7078\n",
      "Epoch 72/100\n",
      "20/20 [==============================] - 0s 11ms/step - loss: 0.1306 - accuracy: 0.9625 - val_loss: 1.0625 - val_accuracy: 0.7273\n",
      "Epoch 73/100\n",
      "20/20 [==============================] - 0s 11ms/step - loss: 0.1276 - accuracy: 0.9593 - val_loss: 1.0182 - val_accuracy: 0.7143\n",
      "Epoch 74/100\n",
      "20/20 [==============================] - 0s 12ms/step - loss: 0.1221 - accuracy: 0.9577 - val_loss: 1.1096 - val_accuracy: 0.7208\n",
      "Epoch 75/100\n",
      "20/20 [==============================] - 0s 8ms/step - loss: 0.1178 - accuracy: 0.9642 - val_loss: 1.1259 - val_accuracy: 0.7208\n",
      "Epoch 76/100\n",
      "20/20 [==============================] - 0s 7ms/step - loss: 0.1143 - accuracy: 0.9609 - val_loss: 1.1192 - val_accuracy: 0.7143\n",
      "Epoch 77/100\n",
      "20/20 [==============================] - 0s 10ms/step - loss: 0.1103 - accuracy: 0.9691 - val_loss: 1.1576 - val_accuracy: 0.7338\n",
      "Epoch 78/100\n",
      "20/20 [==============================] - 0s 11ms/step - loss: 0.1060 - accuracy: 0.9674 - val_loss: 1.2233 - val_accuracy: 0.7078\n",
      "Epoch 79/100\n",
      "20/20 [==============================] - 0s 12ms/step - loss: 0.1122 - accuracy: 0.9577 - val_loss: 1.2127 - val_accuracy: 0.7143\n",
      "Epoch 80/100\n",
      "20/20 [==============================] - 0s 10ms/step - loss: 0.1011 - accuracy: 0.9723 - val_loss: 1.2714 - val_accuracy: 0.7078\n",
      "Epoch 81/100\n",
      "20/20 [==============================] - 0s 11ms/step - loss: 0.0945 - accuracy: 0.9658 - val_loss: 1.1886 - val_accuracy: 0.7013\n",
      "Epoch 82/100\n",
      "20/20 [==============================] - 0s 11ms/step - loss: 0.0901 - accuracy: 0.9691 - val_loss: 1.2435 - val_accuracy: 0.7013\n",
      "Epoch 83/100\n",
      "20/20 [==============================] - 0s 12ms/step - loss: 0.0905 - accuracy: 0.9739 - val_loss: 1.2885 - val_accuracy: 0.7143\n",
      "Epoch 84/100\n",
      "20/20 [==============================] - 0s 11ms/step - loss: 0.0820 - accuracy: 0.9805 - val_loss: 1.3448 - val_accuracy: 0.7013\n",
      "Epoch 85/100\n",
      "20/20 [==============================] - 0s 9ms/step - loss: 0.0847 - accuracy: 0.9805 - val_loss: 1.3448 - val_accuracy: 0.6948\n",
      "Epoch 86/100\n",
      "20/20 [==============================] - 0s 9ms/step - loss: 0.0766 - accuracy: 0.9821 - val_loss: 1.3923 - val_accuracy: 0.7143\n",
      "Epoch 87/100\n",
      "20/20 [==============================] - 0s 12ms/step - loss: 0.0743 - accuracy: 0.9756 - val_loss: 1.4100 - val_accuracy: 0.6948\n",
      "Epoch 88/100\n",
      "20/20 [==============================] - 0s 11ms/step - loss: 0.0751 - accuracy: 0.9788 - val_loss: 1.3589 - val_accuracy: 0.6948\n",
      "Epoch 89/100\n",
      "20/20 [==============================] - 0s 10ms/step - loss: 0.0628 - accuracy: 0.9870 - val_loss: 1.5069 - val_accuracy: 0.7208\n",
      "Epoch 90/100\n",
      "20/20 [==============================] - 0s 11ms/step - loss: 0.0676 - accuracy: 0.9886 - val_loss: 1.4710 - val_accuracy: 0.6883\n",
      "Epoch 91/100\n",
      "20/20 [==============================] - 0s 10ms/step - loss: 0.0658 - accuracy: 0.9853 - val_loss: 1.4869 - val_accuracy: 0.7013\n",
      "Epoch 92/100\n",
      "20/20 [==============================] - 0s 9ms/step - loss: 0.0641 - accuracy: 0.9870 - val_loss: 1.4880 - val_accuracy: 0.6883\n",
      "Epoch 93/100\n",
      "20/20 [==============================] - 0s 11ms/step - loss: 0.0627 - accuracy: 0.9805 - val_loss: 1.4780 - val_accuracy: 0.7013\n",
      "Epoch 94/100\n",
      "20/20 [==============================] - 0s 6ms/step - loss: 0.0572 - accuracy: 0.9886 - val_loss: 1.5608 - val_accuracy: 0.7208\n",
      "Epoch 95/100\n",
      "20/20 [==============================] - 0s 6ms/step - loss: 0.0542 - accuracy: 0.9837 - val_loss: 1.5898 - val_accuracy: 0.7013\n",
      "Epoch 96/100\n",
      "20/20 [==============================] - 0s 7ms/step - loss: 0.0618 - accuracy: 0.9788 - val_loss: 1.6959 - val_accuracy: 0.6948\n",
      "Epoch 97/100\n",
      "20/20 [==============================] - 0s 7ms/step - loss: 0.0589 - accuracy: 0.9837 - val_loss: 1.6752 - val_accuracy: 0.7078\n",
      "Epoch 98/100\n",
      "20/20 [==============================] - 0s 7ms/step - loss: 0.0471 - accuracy: 0.9951 - val_loss: 1.8082 - val_accuracy: 0.6883\n",
      "Epoch 99/100\n",
      "20/20 [==============================] - 0s 11ms/step - loss: 0.0439 - accuracy: 0.9935 - val_loss: 1.7278 - val_accuracy: 0.6818\n",
      "Epoch 100/100\n",
      "20/20 [==============================] - 0s 9ms/step - loss: 0.0447 - accuracy: 0.9919 - val_loss: 1.8174 - val_accuracy: 0.7078\n"
     ]
    },
    {
     "data": {
      "text/plain": "<keras.src.callbacks.History at 0x11a34f293f0>"
     },
     "execution_count": 33,
     "metadata": {},
     "output_type": "execute_result"
    }
   ],
   "source": [
    "model.fit(X_train,y_train,epochs=100,initial_epoch=5,validation_data=[X_test,y_test])"
   ],
   "metadata": {
    "collapsed": false,
    "ExecuteTime": {
     "end_time": "2023-12-04T16:57:57.784538800Z",
     "start_time": "2023-12-04T16:57:40.428878100Z"
    }
   },
   "id": "3ffe0aa5048f50d5"
  },
  {
   "cell_type": "markdown",
   "source": [
    "# 4"
   ],
   "metadata": {
    "collapsed": false
   },
   "id": "b7d8ff67a351ad65"
  },
  {
   "cell_type": "code",
   "execution_count": 49,
   "outputs": [],
   "source": [
    "def build_model(hp):\n",
    "    model = Sequential()\n",
    "    counter = 0\n",
    "    \n",
    "    for i in range(hp.Int('num_layers',min_value=1,max_value=10)):\n",
    "        if counter == 0:\n",
    "            model.add(Dense(hp.Int('units' +str(i),min_value=8,max_value=128,step=8),activation=hp.Choice('activation'+str(i),values=['relu','tanh','sigmoid']),input_dim=8))\n",
    "            model.add(Dropout(hp.Choice('dropout'+str(i),values=[0.1,0.2,0.3,0.4,0.5,0.6,0.7,0.8,0.9])))\n",
    "        else:\n",
    "            model.add(Dense(hp.Int('units' +str(i),min_value=8,max_value=128,step=8),activation=hp.Choice('activation'+str(i),values=['relu','tanh','sigmoid']),input_dim=8))\n",
    "            model.add(Dropout(hp.Choice('dropout'+str(i),values=[0.1,0.2,0.3,0.4,0.5,0.6,0.7,0.8,0.9])))\n",
    "        counter += 1\n",
    "        \n",
    "    model.add(Dense(1,activation='sigmoid'))\n",
    "    \n",
    "    model.compile(optimizer=hp.Choice('optimizer',values=['rmsprop','adam','sgd','nadam','adadelta']),loss='binary_crossentropy',metrics=['accuracy'])\n",
    "    \n",
    "    return model\n",
    "            "
   ],
   "metadata": {
    "collapsed": false,
    "ExecuteTime": {
     "end_time": "2023-12-04T17:20:11.654109100Z",
     "start_time": "2023-12-04T17:20:11.586289500Z"
    }
   },
   "id": "b7fc34e42ff4cc1a"
  },
  {
   "cell_type": "code",
   "execution_count": 50,
   "outputs": [],
   "source": [
    "tuner = kt.RandomSearch(build_model,objective='val_accuracy',max_trials=3,directory='mydir3',project_name='final')"
   ],
   "metadata": {
    "collapsed": false,
    "ExecuteTime": {
     "end_time": "2023-12-04T17:20:21.499949500Z",
     "start_time": "2023-12-04T17:20:21.346903300Z"
    }
   },
   "id": "b66f408d96ef63fe"
  },
  {
   "cell_type": "code",
   "execution_count": 51,
   "outputs": [
    {
     "name": "stdout",
     "output_type": "stream",
     "text": [
      "Trial 3 Complete [00h 00m 03s]\n",
      "val_accuracy: 0.5974025726318359\n",
      "\n",
      "Best val_accuracy So Far: 0.5974025726318359\n",
      "Total elapsed time: 00h 00m 12s\n"
     ]
    }
   ],
   "source": [
    "tuner.search(X_train,y_train,epochs=5,validation_data=[X_test,y_test])"
   ],
   "metadata": {
    "collapsed": false
   },
   "id": "eb762462fec2ad6f"
  },
  {
   "cell_type": "code",
   "execution_count": 52,
   "outputs": [
    {
     "data": {
      "text/plain": "{'num_layers': 7,\n 'units0': 8,\n 'activation0': 'relu',\n 'dropout0': 0.2,\n 'optimizer': 'adam',\n 'units1': 8,\n 'activation1': 'relu',\n 'dropout1': 0.1,\n 'units2': 8,\n 'activation2': 'relu',\n 'dropout2': 0.1,\n 'units3': 8,\n 'activation3': 'relu',\n 'dropout3': 0.1,\n 'units4': 8,\n 'activation4': 'relu',\n 'dropout4': 0.1,\n 'units5': 8,\n 'activation5': 'relu',\n 'dropout5': 0.1,\n 'units6': 8,\n 'activation6': 'relu',\n 'dropout6': 0.1}"
     },
     "execution_count": 52,
     "metadata": {},
     "output_type": "execute_result"
    }
   ],
   "source": [
    "tuner.get_best_hyperparameters()[0].values"
   ],
   "metadata": {
    "collapsed": false,
    "ExecuteTime": {
     "end_time": "2023-12-04T17:20:42.448828Z",
     "start_time": "2023-12-04T17:20:42.397595500Z"
    }
   },
   "id": "39dbf5f5a9c4ad78"
  },
  {
   "cell_type": "code",
   "execution_count": 53,
   "outputs": [],
   "source": [
    "model = tuner.get_best_models(num_models=1)[0]"
   ],
   "metadata": {
    "collapsed": false,
    "ExecuteTime": {
     "end_time": "2023-12-04T17:22:09.508320Z",
     "start_time": "2023-12-04T17:22:09.183271800Z"
    }
   },
   "id": "39bb14073ff2e108"
  },
  {
   "cell_type": "code",
   "execution_count": 54,
   "outputs": [
    {
     "name": "stdout",
     "output_type": "stream",
     "text": [
      "Epoch 6/200\n",
      "20/20 [==============================] - 2s 17ms/step - loss: 0.6863 - accuracy: 0.6450 - val_loss: 0.6875 - val_accuracy: 0.5974\n",
      "Epoch 7/200\n",
      "20/20 [==============================] - 0s 7ms/step - loss: 0.6819 - accuracy: 0.6629 - val_loss: 0.6852 - val_accuracy: 0.5974\n",
      "Epoch 8/200\n",
      "20/20 [==============================] - 0s 7ms/step - loss: 0.6772 - accuracy: 0.6645 - val_loss: 0.6825 - val_accuracy: 0.5974\n",
      "Epoch 9/200\n",
      "20/20 [==============================] - 0s 6ms/step - loss: 0.6731 - accuracy: 0.6612 - val_loss: 0.6799 - val_accuracy: 0.5974\n",
      "Epoch 10/200\n",
      "20/20 [==============================] - 0s 9ms/step - loss: 0.6671 - accuracy: 0.6661 - val_loss: 0.6769 - val_accuracy: 0.5974\n",
      "Epoch 11/200\n",
      "20/20 [==============================] - 0s 12ms/step - loss: 0.6610 - accuracy: 0.6645 - val_loss: 0.6727 - val_accuracy: 0.5974\n",
      "Epoch 12/200\n",
      "20/20 [==============================] - 0s 12ms/step - loss: 0.6537 - accuracy: 0.6645 - val_loss: 0.6668 - val_accuracy: 0.5974\n",
      "Epoch 13/200\n",
      "20/20 [==============================] - 0s 7ms/step - loss: 0.6396 - accuracy: 0.6645 - val_loss: 0.6583 - val_accuracy: 0.5974\n",
      "Epoch 14/200\n",
      "20/20 [==============================] - 0s 8ms/step - loss: 0.6327 - accuracy: 0.6645 - val_loss: 0.6493 - val_accuracy: 0.5974\n",
      "Epoch 15/200\n",
      "20/20 [==============================] - 0s 9ms/step - loss: 0.6050 - accuracy: 0.6645 - val_loss: 0.6397 - val_accuracy: 0.5974\n",
      "Epoch 16/200\n",
      "20/20 [==============================] - 0s 9ms/step - loss: 0.5941 - accuracy: 0.6645 - val_loss: 0.6306 - val_accuracy: 0.5974\n",
      "Epoch 17/200\n",
      "20/20 [==============================] - 0s 11ms/step - loss: 0.5897 - accuracy: 0.6629 - val_loss: 0.6234 - val_accuracy: 0.5974\n",
      "Epoch 18/200\n",
      "20/20 [==============================] - 0s 11ms/step - loss: 0.5700 - accuracy: 0.6645 - val_loss: 0.6154 - val_accuracy: 0.5974\n",
      "Epoch 19/200\n",
      "20/20 [==============================] - 0s 12ms/step - loss: 0.5874 - accuracy: 0.6645 - val_loss: 0.6064 - val_accuracy: 0.5974\n",
      "Epoch 20/200\n",
      "20/20 [==============================] - 0s 11ms/step - loss: 0.5746 - accuracy: 0.6645 - val_loss: 0.6010 - val_accuracy: 0.5974\n",
      "Epoch 21/200\n",
      "20/20 [==============================] - 0s 11ms/step - loss: 0.5693 - accuracy: 0.6645 - val_loss: 0.5972 - val_accuracy: 0.5974\n",
      "Epoch 22/200\n",
      "20/20 [==============================] - 0s 6ms/step - loss: 0.5647 - accuracy: 0.6645 - val_loss: 0.5947 - val_accuracy: 0.5974\n",
      "Epoch 23/200\n",
      "20/20 [==============================] - 0s 7ms/step - loss: 0.5603 - accuracy: 0.6661 - val_loss: 0.5898 - val_accuracy: 0.5974\n",
      "Epoch 24/200\n",
      "20/20 [==============================] - 0s 13ms/step - loss: 0.5595 - accuracy: 0.6645 - val_loss: 0.5887 - val_accuracy: 0.5974\n",
      "Epoch 25/200\n",
      "20/20 [==============================] - 0s 8ms/step - loss: 0.5498 - accuracy: 0.6629 - val_loss: 0.5854 - val_accuracy: 0.5974\n",
      "Epoch 26/200\n",
      "20/20 [==============================] - 0s 6ms/step - loss: 0.5639 - accuracy: 0.6629 - val_loss: 0.5830 - val_accuracy: 0.5974\n",
      "Epoch 27/200\n",
      "20/20 [==============================] - 0s 7ms/step - loss: 0.5386 - accuracy: 0.6629 - val_loss: 0.5806 - val_accuracy: 0.5974\n",
      "Epoch 28/200\n",
      "20/20 [==============================] - 0s 7ms/step - loss: 0.5472 - accuracy: 0.6645 - val_loss: 0.5804 - val_accuracy: 0.5974\n",
      "Epoch 29/200\n",
      "20/20 [==============================] - 0s 9ms/step - loss: 0.5367 - accuracy: 0.6645 - val_loss: 0.5806 - val_accuracy: 0.5974\n",
      "Epoch 30/200\n",
      "20/20 [==============================] - 0s 10ms/step - loss: 0.5446 - accuracy: 0.6645 - val_loss: 0.5803 - val_accuracy: 0.5974\n",
      "Epoch 31/200\n",
      "20/20 [==============================] - 0s 8ms/step - loss: 0.5257 - accuracy: 0.6645 - val_loss: 0.5808 - val_accuracy: 0.5974\n",
      "Epoch 32/200\n",
      "20/20 [==============================] - 0s 7ms/step - loss: 0.5463 - accuracy: 0.6629 - val_loss: 0.5790 - val_accuracy: 0.5974\n",
      "Epoch 33/200\n",
      "20/20 [==============================] - 0s 10ms/step - loss: 0.5385 - accuracy: 0.6645 - val_loss: 0.5775 - val_accuracy: 0.5974\n",
      "Epoch 34/200\n",
      "20/20 [==============================] - 0s 8ms/step - loss: 0.5460 - accuracy: 0.6645 - val_loss: 0.5736 - val_accuracy: 0.5974\n",
      "Epoch 35/200\n",
      "20/20 [==============================] - 0s 7ms/step - loss: 0.5276 - accuracy: 0.6645 - val_loss: 0.5744 - val_accuracy: 0.5974\n",
      "Epoch 36/200\n",
      "20/20 [==============================] - 0s 7ms/step - loss: 0.5279 - accuracy: 0.6645 - val_loss: 0.5759 - val_accuracy: 0.5974\n",
      "Epoch 37/200\n",
      "20/20 [==============================] - 0s 9ms/step - loss: 0.5364 - accuracy: 0.6645 - val_loss: 0.5731 - val_accuracy: 0.5974\n",
      "Epoch 38/200\n",
      "20/20 [==============================] - 0s 11ms/step - loss: 0.5306 - accuracy: 0.6645 - val_loss: 0.5715 - val_accuracy: 0.5974\n",
      "Epoch 39/200\n",
      "20/20 [==============================] - 0s 12ms/step - loss: 0.5278 - accuracy: 0.6645 - val_loss: 0.5719 - val_accuracy: 0.5974\n",
      "Epoch 40/200\n",
      "20/20 [==============================] - 0s 10ms/step - loss: 0.5050 - accuracy: 0.6645 - val_loss: 0.5735 - val_accuracy: 0.5974\n",
      "Epoch 41/200\n",
      "20/20 [==============================] - 0s 10ms/step - loss: 0.5076 - accuracy: 0.6645 - val_loss: 0.5752 - val_accuracy: 0.5974\n",
      "Epoch 42/200\n",
      "20/20 [==============================] - 0s 11ms/step - loss: 0.5295 - accuracy: 0.6645 - val_loss: 0.5744 - val_accuracy: 0.5974\n",
      "Epoch 43/200\n",
      "20/20 [==============================] - 0s 12ms/step - loss: 0.5253 - accuracy: 0.6629 - val_loss: 0.5686 - val_accuracy: 0.5974\n",
      "Epoch 44/200\n",
      "20/20 [==============================] - 0s 6ms/step - loss: 0.5414 - accuracy: 0.6645 - val_loss: 0.5646 - val_accuracy: 0.5974\n",
      "Epoch 45/200\n",
      "20/20 [==============================] - 0s 9ms/step - loss: 0.5269 - accuracy: 0.6645 - val_loss: 0.5640 - val_accuracy: 0.5974\n",
      "Epoch 46/200\n",
      "20/20 [==============================] - 0s 13ms/step - loss: 0.5292 - accuracy: 0.6645 - val_loss: 0.5647 - val_accuracy: 0.5974\n",
      "Epoch 47/200\n",
      "20/20 [==============================] - 0s 7ms/step - loss: 0.5358 - accuracy: 0.6645 - val_loss: 0.5658 - val_accuracy: 0.5974\n",
      "Epoch 48/200\n",
      "20/20 [==============================] - 0s 9ms/step - loss: 0.5269 - accuracy: 0.6645 - val_loss: 0.5644 - val_accuracy: 0.5974\n",
      "Epoch 49/200\n",
      "20/20 [==============================] - 0s 8ms/step - loss: 0.5427 - accuracy: 0.6612 - val_loss: 0.5642 - val_accuracy: 0.5974\n",
      "Epoch 50/200\n",
      "20/20 [==============================] - 0s 10ms/step - loss: 0.5199 - accuracy: 0.6645 - val_loss: 0.5650 - val_accuracy: 0.5974\n",
      "Epoch 51/200\n",
      "20/20 [==============================] - 0s 8ms/step - loss: 0.5278 - accuracy: 0.6645 - val_loss: 0.5642 - val_accuracy: 0.5974\n",
      "Epoch 52/200\n",
      "20/20 [==============================] - 0s 7ms/step - loss: 0.5205 - accuracy: 0.6645 - val_loss: 0.5618 - val_accuracy: 0.5974\n",
      "Epoch 53/200\n",
      "20/20 [==============================] - 0s 9ms/step - loss: 0.5423 - accuracy: 0.6775 - val_loss: 0.5622 - val_accuracy: 0.6818\n",
      "Epoch 54/200\n",
      "20/20 [==============================] - 0s 8ms/step - loss: 0.5164 - accuracy: 0.7150 - val_loss: 0.5622 - val_accuracy: 0.6883\n",
      "Epoch 55/200\n",
      "20/20 [==============================] - 0s 12ms/step - loss: 0.5138 - accuracy: 0.6938 - val_loss: 0.5656 - val_accuracy: 0.7013\n",
      "Epoch 56/200\n",
      "20/20 [==============================] - 0s 8ms/step - loss: 0.5154 - accuracy: 0.6954 - val_loss: 0.5664 - val_accuracy: 0.6883\n",
      "Epoch 57/200\n",
      "20/20 [==============================] - 0s 10ms/step - loss: 0.5140 - accuracy: 0.7313 - val_loss: 0.5630 - val_accuracy: 0.6818\n",
      "Epoch 58/200\n",
      "20/20 [==============================] - 0s 11ms/step - loss: 0.5124 - accuracy: 0.7443 - val_loss: 0.5628 - val_accuracy: 0.6753\n",
      "Epoch 59/200\n",
      "20/20 [==============================] - 0s 13ms/step - loss: 0.5169 - accuracy: 0.7329 - val_loss: 0.5621 - val_accuracy: 0.6753\n",
      "Epoch 60/200\n",
      "20/20 [==============================] - 0s 15ms/step - loss: 0.5022 - accuracy: 0.7394 - val_loss: 0.5636 - val_accuracy: 0.6753\n",
      "Epoch 61/200\n",
      "20/20 [==============================] - 0s 10ms/step - loss: 0.5217 - accuracy: 0.7427 - val_loss: 0.5667 - val_accuracy: 0.6688\n",
      "Epoch 62/200\n",
      "20/20 [==============================] - 0s 11ms/step - loss: 0.5053 - accuracy: 0.7362 - val_loss: 0.5636 - val_accuracy: 0.6883\n",
      "Epoch 63/200\n",
      "20/20 [==============================] - 0s 12ms/step - loss: 0.4993 - accuracy: 0.7459 - val_loss: 0.5664 - val_accuracy: 0.6753\n",
      "Epoch 64/200\n",
      "20/20 [==============================] - 0s 8ms/step - loss: 0.5051 - accuracy: 0.7394 - val_loss: 0.5666 - val_accuracy: 0.6883\n",
      "Epoch 65/200\n",
      "20/20 [==============================] - 0s 6ms/step - loss: 0.5082 - accuracy: 0.7443 - val_loss: 0.5661 - val_accuracy: 0.6883\n",
      "Epoch 66/200\n",
      "20/20 [==============================] - 0s 7ms/step - loss: 0.5134 - accuracy: 0.7345 - val_loss: 0.5589 - val_accuracy: 0.6818\n",
      "Epoch 67/200\n",
      "20/20 [==============================] - 0s 8ms/step - loss: 0.5049 - accuracy: 0.7590 - val_loss: 0.5612 - val_accuracy: 0.6883\n",
      "Epoch 68/200\n",
      "20/20 [==============================] - 0s 9ms/step - loss: 0.4916 - accuracy: 0.7541 - val_loss: 0.5673 - val_accuracy: 0.6948\n",
      "Epoch 69/200\n",
      "20/20 [==============================] - 0s 12ms/step - loss: 0.5068 - accuracy: 0.7492 - val_loss: 0.5646 - val_accuracy: 0.6948\n",
      "Epoch 70/200\n",
      "20/20 [==============================] - 0s 12ms/step - loss: 0.5031 - accuracy: 0.7524 - val_loss: 0.5647 - val_accuracy: 0.6948\n",
      "Epoch 71/200\n",
      "20/20 [==============================] - 0s 13ms/step - loss: 0.4958 - accuracy: 0.7476 - val_loss: 0.5674 - val_accuracy: 0.6948\n",
      "Epoch 72/200\n",
      "20/20 [==============================] - 0s 8ms/step - loss: 0.4994 - accuracy: 0.7427 - val_loss: 0.5707 - val_accuracy: 0.6948\n",
      "Epoch 73/200\n",
      "20/20 [==============================] - 0s 10ms/step - loss: 0.4928 - accuracy: 0.7427 - val_loss: 0.5766 - val_accuracy: 0.7013\n",
      "Epoch 74/200\n",
      "20/20 [==============================] - 0s 12ms/step - loss: 0.4977 - accuracy: 0.7345 - val_loss: 0.5811 - val_accuracy: 0.7013\n",
      "Epoch 75/200\n",
      "20/20 [==============================] - 0s 10ms/step - loss: 0.5110 - accuracy: 0.7508 - val_loss: 0.5755 - val_accuracy: 0.6883\n",
      "Epoch 76/200\n",
      "20/20 [==============================] - 0s 7ms/step - loss: 0.4997 - accuracy: 0.7590 - val_loss: 0.5765 - val_accuracy: 0.6818\n",
      "Epoch 77/200\n",
      "20/20 [==============================] - 0s 10ms/step - loss: 0.4879 - accuracy: 0.7671 - val_loss: 0.5784 - val_accuracy: 0.6948\n",
      "Epoch 78/200\n",
      "20/20 [==============================] - 0s 9ms/step - loss: 0.4974 - accuracy: 0.7752 - val_loss: 0.5727 - val_accuracy: 0.6948\n",
      "Epoch 79/200\n",
      "20/20 [==============================] - 0s 12ms/step - loss: 0.5182 - accuracy: 0.7590 - val_loss: 0.5760 - val_accuracy: 0.6883\n",
      "Epoch 80/200\n",
      "20/20 [==============================] - 0s 12ms/step - loss: 0.5102 - accuracy: 0.7541 - val_loss: 0.5708 - val_accuracy: 0.6948\n",
      "Epoch 81/200\n",
      "20/20 [==============================] - 0s 12ms/step - loss: 0.5007 - accuracy: 0.7443 - val_loss: 0.5736 - val_accuracy: 0.6948\n",
      "Epoch 82/200\n",
      "20/20 [==============================] - 0s 8ms/step - loss: 0.4867 - accuracy: 0.7492 - val_loss: 0.5826 - val_accuracy: 0.7013\n",
      "Epoch 83/200\n",
      "20/20 [==============================] - 0s 11ms/step - loss: 0.4968 - accuracy: 0.7541 - val_loss: 0.5804 - val_accuracy: 0.6948\n",
      "Epoch 84/200\n",
      "20/20 [==============================] - 0s 7ms/step - loss: 0.5024 - accuracy: 0.7655 - val_loss: 0.5816 - val_accuracy: 0.7143\n",
      "Epoch 85/200\n",
      "20/20 [==============================] - 0s 7ms/step - loss: 0.5217 - accuracy: 0.7524 - val_loss: 0.5721 - val_accuracy: 0.7013\n",
      "Epoch 86/200\n",
      "20/20 [==============================] - 0s 10ms/step - loss: 0.4936 - accuracy: 0.7492 - val_loss: 0.5731 - val_accuracy: 0.7078\n",
      "Epoch 87/200\n",
      "20/20 [==============================] - 0s 13ms/step - loss: 0.4966 - accuracy: 0.7638 - val_loss: 0.5763 - val_accuracy: 0.7013\n",
      "Epoch 88/200\n",
      "20/20 [==============================] - 0s 8ms/step - loss: 0.4771 - accuracy: 0.7687 - val_loss: 0.5839 - val_accuracy: 0.7078\n",
      "Epoch 89/200\n",
      "20/20 [==============================] - 0s 12ms/step - loss: 0.4921 - accuracy: 0.7427 - val_loss: 0.5851 - val_accuracy: 0.7143\n",
      "Epoch 90/200\n",
      "20/20 [==============================] - 0s 12ms/step - loss: 0.4831 - accuracy: 0.7573 - val_loss: 0.5865 - val_accuracy: 0.7143\n",
      "Epoch 91/200\n",
      "20/20 [==============================] - 0s 12ms/step - loss: 0.4987 - accuracy: 0.7573 - val_loss: 0.5880 - val_accuracy: 0.7078\n",
      "Epoch 92/200\n",
      "20/20 [==============================] - 0s 10ms/step - loss: 0.4915 - accuracy: 0.7443 - val_loss: 0.5811 - val_accuracy: 0.7143\n",
      "Epoch 93/200\n",
      "20/20 [==============================] - 0s 10ms/step - loss: 0.4874 - accuracy: 0.7622 - val_loss: 0.5860 - val_accuracy: 0.7143\n",
      "Epoch 94/200\n",
      "20/20 [==============================] - 0s 12ms/step - loss: 0.5030 - accuracy: 0.7606 - val_loss: 0.5824 - val_accuracy: 0.7078\n",
      "Epoch 95/200\n",
      "20/20 [==============================] - 0s 12ms/step - loss: 0.5097 - accuracy: 0.7573 - val_loss: 0.5757 - val_accuracy: 0.7078\n",
      "Epoch 96/200\n",
      "20/20 [==============================] - 0s 13ms/step - loss: 0.5005 - accuracy: 0.7394 - val_loss: 0.5729 - val_accuracy: 0.7338\n",
      "Epoch 97/200\n",
      "20/20 [==============================] - 0s 8ms/step - loss: 0.4928 - accuracy: 0.7606 - val_loss: 0.5800 - val_accuracy: 0.7403\n",
      "Epoch 98/200\n",
      "20/20 [==============================] - 0s 10ms/step - loss: 0.4801 - accuracy: 0.7590 - val_loss: 0.5694 - val_accuracy: 0.7338\n",
      "Epoch 99/200\n",
      "20/20 [==============================] - 0s 13ms/step - loss: 0.4898 - accuracy: 0.7687 - val_loss: 0.5737 - val_accuracy: 0.7338\n",
      "Epoch 100/200\n",
      "20/20 [==============================] - 0s 12ms/step - loss: 0.4902 - accuracy: 0.7557 - val_loss: 0.5744 - val_accuracy: 0.7208\n",
      "Epoch 101/200\n",
      "20/20 [==============================] - 0s 12ms/step - loss: 0.4918 - accuracy: 0.7427 - val_loss: 0.5705 - val_accuracy: 0.7273\n",
      "Epoch 102/200\n",
      "20/20 [==============================] - 0s 8ms/step - loss: 0.4946 - accuracy: 0.7671 - val_loss: 0.5686 - val_accuracy: 0.7338\n",
      "Epoch 103/200\n",
      "20/20 [==============================] - 0s 11ms/step - loss: 0.4913 - accuracy: 0.7557 - val_loss: 0.5741 - val_accuracy: 0.7273\n",
      "Epoch 104/200\n",
      "20/20 [==============================] - 0s 12ms/step - loss: 0.5090 - accuracy: 0.7573 - val_loss: 0.5739 - val_accuracy: 0.7338\n",
      "Epoch 105/200\n",
      "20/20 [==============================] - 0s 12ms/step - loss: 0.5023 - accuracy: 0.7606 - val_loss: 0.5683 - val_accuracy: 0.7403\n",
      "Epoch 106/200\n",
      "20/20 [==============================] - 0s 11ms/step - loss: 0.4925 - accuracy: 0.7459 - val_loss: 0.5671 - val_accuracy: 0.7403\n",
      "Epoch 107/200\n",
      "20/20 [==============================] - 0s 9ms/step - loss: 0.4794 - accuracy: 0.7638 - val_loss: 0.5741 - val_accuracy: 0.7403\n",
      "Epoch 108/200\n",
      "20/20 [==============================] - 0s 12ms/step - loss: 0.4980 - accuracy: 0.7736 - val_loss: 0.5723 - val_accuracy: 0.7403\n",
      "Epoch 109/200\n",
      "20/20 [==============================] - 0s 12ms/step - loss: 0.4887 - accuracy: 0.7687 - val_loss: 0.5713 - val_accuracy: 0.7403\n",
      "Epoch 110/200\n",
      "20/20 [==============================] - 0s 12ms/step - loss: 0.5055 - accuracy: 0.7606 - val_loss: 0.5668 - val_accuracy: 0.7468\n",
      "Epoch 111/200\n",
      "20/20 [==============================] - 0s 9ms/step - loss: 0.4775 - accuracy: 0.7638 - val_loss: 0.5726 - val_accuracy: 0.7273\n",
      "Epoch 112/200\n",
      "20/20 [==============================] - 0s 10ms/step - loss: 0.5001 - accuracy: 0.7671 - val_loss: 0.5746 - val_accuracy: 0.7338\n",
      "Epoch 113/200\n",
      "20/20 [==============================] - 0s 12ms/step - loss: 0.4795 - accuracy: 0.7866 - val_loss: 0.5736 - val_accuracy: 0.7403\n",
      "Epoch 114/200\n",
      "20/20 [==============================] - 0s 12ms/step - loss: 0.4783 - accuracy: 0.7769 - val_loss: 0.5750 - val_accuracy: 0.7338\n",
      "Epoch 115/200\n",
      "20/20 [==============================] - 0s 12ms/step - loss: 0.4999 - accuracy: 0.7818 - val_loss: 0.5720 - val_accuracy: 0.7403\n",
      "Epoch 116/200\n",
      "20/20 [==============================] - 0s 12ms/step - loss: 0.4872 - accuracy: 0.7590 - val_loss: 0.5753 - val_accuracy: 0.7403\n",
      "Epoch 117/200\n",
      "20/20 [==============================] - 0s 12ms/step - loss: 0.4874 - accuracy: 0.7606 - val_loss: 0.5764 - val_accuracy: 0.7338\n",
      "Epoch 118/200\n",
      "20/20 [==============================] - 0s 12ms/step - loss: 0.4837 - accuracy: 0.7622 - val_loss: 0.5821 - val_accuracy: 0.7273\n",
      "Epoch 119/200\n",
      "20/20 [==============================] - 0s 9ms/step - loss: 0.4743 - accuracy: 0.7801 - val_loss: 0.5810 - val_accuracy: 0.7338\n",
      "Epoch 120/200\n",
      "20/20 [==============================] - 0s 8ms/step - loss: 0.4787 - accuracy: 0.7427 - val_loss: 0.5827 - val_accuracy: 0.7338\n",
      "Epoch 121/200\n",
      "20/20 [==============================] - 0s 12ms/step - loss: 0.4734 - accuracy: 0.7655 - val_loss: 0.5891 - val_accuracy: 0.7338\n",
      "Epoch 122/200\n",
      "20/20 [==============================] - 0s 13ms/step - loss: 0.4616 - accuracy: 0.7915 - val_loss: 0.5901 - val_accuracy: 0.7273\n",
      "Epoch 123/200\n",
      "20/20 [==============================] - 0s 12ms/step - loss: 0.5001 - accuracy: 0.7866 - val_loss: 0.5794 - val_accuracy: 0.7338\n",
      "Epoch 124/200\n",
      "20/20 [==============================] - 0s 12ms/step - loss: 0.4862 - accuracy: 0.7752 - val_loss: 0.5758 - val_accuracy: 0.7338\n",
      "Epoch 125/200\n",
      "20/20 [==============================] - 0s 7ms/step - loss: 0.4841 - accuracy: 0.7720 - val_loss: 0.5778 - val_accuracy: 0.7338\n",
      "Epoch 126/200\n",
      "20/20 [==============================] - 0s 8ms/step - loss: 0.4791 - accuracy: 0.7704 - val_loss: 0.5829 - val_accuracy: 0.7338\n",
      "Epoch 127/200\n",
      "20/20 [==============================] - 0s 11ms/step - loss: 0.4924 - accuracy: 0.7655 - val_loss: 0.5824 - val_accuracy: 0.7338\n",
      "Epoch 128/200\n",
      "20/20 [==============================] - 0s 13ms/step - loss: 0.4781 - accuracy: 0.7834 - val_loss: 0.5765 - val_accuracy: 0.7338\n",
      "Epoch 129/200\n",
      "20/20 [==============================] - 0s 13ms/step - loss: 0.4890 - accuracy: 0.7769 - val_loss: 0.5844 - val_accuracy: 0.7338\n",
      "Epoch 130/200\n",
      "20/20 [==============================] - 0s 7ms/step - loss: 0.4726 - accuracy: 0.7769 - val_loss: 0.5888 - val_accuracy: 0.7403\n",
      "Epoch 131/200\n",
      "20/20 [==============================] - 0s 9ms/step - loss: 0.4778 - accuracy: 0.7704 - val_loss: 0.5870 - val_accuracy: 0.7338\n",
      "Epoch 132/200\n",
      "20/20 [==============================] - 0s 9ms/step - loss: 0.4898 - accuracy: 0.7524 - val_loss: 0.5931 - val_accuracy: 0.7338\n",
      "Epoch 133/200\n",
      "20/20 [==============================] - 0s 9ms/step - loss: 0.4752 - accuracy: 0.7671 - val_loss: 0.5929 - val_accuracy: 0.7338\n",
      "Epoch 134/200\n",
      "20/20 [==============================] - 0s 6ms/step - loss: 0.4829 - accuracy: 0.7850 - val_loss: 0.5955 - val_accuracy: 0.7338\n",
      "Epoch 135/200\n",
      "20/20 [==============================] - 0s 9ms/step - loss: 0.4950 - accuracy: 0.7655 - val_loss: 0.5814 - val_accuracy: 0.7273\n",
      "Epoch 136/200\n",
      "20/20 [==============================] - 0s 6ms/step - loss: 0.4699 - accuracy: 0.7720 - val_loss: 0.5884 - val_accuracy: 0.7273\n",
      "Epoch 137/200\n",
      "20/20 [==============================] - 0s 6ms/step - loss: 0.4757 - accuracy: 0.7606 - val_loss: 0.5880 - val_accuracy: 0.7273\n",
      "Epoch 138/200\n",
      "20/20 [==============================] - 0s 6ms/step - loss: 0.4826 - accuracy: 0.7720 - val_loss: 0.5880 - val_accuracy: 0.7338\n",
      "Epoch 139/200\n",
      "20/20 [==============================] - 0s 10ms/step - loss: 0.4734 - accuracy: 0.7818 - val_loss: 0.5816 - val_accuracy: 0.7273\n",
      "Epoch 140/200\n",
      "20/20 [==============================] - 0s 6ms/step - loss: 0.4736 - accuracy: 0.7720 - val_loss: 0.5866 - val_accuracy: 0.7338\n",
      "Epoch 141/200\n",
      "20/20 [==============================] - 0s 6ms/step - loss: 0.4911 - accuracy: 0.7606 - val_loss: 0.5817 - val_accuracy: 0.7273\n",
      "Epoch 142/200\n",
      "20/20 [==============================] - 0s 8ms/step - loss: 0.4637 - accuracy: 0.7671 - val_loss: 0.5970 - val_accuracy: 0.7403\n",
      "Epoch 143/200\n",
      "20/20 [==============================] - 0s 9ms/step - loss: 0.4802 - accuracy: 0.7752 - val_loss: 0.5994 - val_accuracy: 0.7338\n",
      "Epoch 144/200\n",
      "20/20 [==============================] - 0s 10ms/step - loss: 0.4764 - accuracy: 0.7818 - val_loss: 0.5936 - val_accuracy: 0.7273\n",
      "Epoch 145/200\n",
      "20/20 [==============================] - 0s 12ms/step - loss: 0.4861 - accuracy: 0.7622 - val_loss: 0.5904 - val_accuracy: 0.7143\n",
      "Epoch 146/200\n",
      "20/20 [==============================] - 0s 12ms/step - loss: 0.4980 - accuracy: 0.7671 - val_loss: 0.5879 - val_accuracy: 0.7403\n",
      "Epoch 147/200\n",
      "20/20 [==============================] - 0s 12ms/step - loss: 0.4912 - accuracy: 0.7638 - val_loss: 0.5842 - val_accuracy: 0.7273\n",
      "Epoch 148/200\n",
      "20/20 [==============================] - 0s 12ms/step - loss: 0.4599 - accuracy: 0.7769 - val_loss: 0.5916 - val_accuracy: 0.7273\n",
      "Epoch 149/200\n",
      "20/20 [==============================] - 0s 13ms/step - loss: 0.4849 - accuracy: 0.7606 - val_loss: 0.5917 - val_accuracy: 0.7273\n",
      "Epoch 150/200\n",
      "20/20 [==============================] - 0s 11ms/step - loss: 0.4955 - accuracy: 0.7573 - val_loss: 0.5828 - val_accuracy: 0.7208\n",
      "Epoch 151/200\n",
      "20/20 [==============================] - 0s 8ms/step - loss: 0.4625 - accuracy: 0.7655 - val_loss: 0.5851 - val_accuracy: 0.7208\n",
      "Epoch 152/200\n",
      "20/20 [==============================] - 0s 11ms/step - loss: 0.4870 - accuracy: 0.7590 - val_loss: 0.5892 - val_accuracy: 0.7208\n",
      "Epoch 153/200\n",
      "20/20 [==============================] - 0s 7ms/step - loss: 0.4879 - accuracy: 0.7850 - val_loss: 0.5872 - val_accuracy: 0.7143\n",
      "Epoch 154/200\n",
      "20/20 [==============================] - 0s 12ms/step - loss: 0.4716 - accuracy: 0.7606 - val_loss: 0.5955 - val_accuracy: 0.7208\n",
      "Epoch 155/200\n",
      "20/20 [==============================] - 0s 11ms/step - loss: 0.4565 - accuracy: 0.7769 - val_loss: 0.5997 - val_accuracy: 0.7208\n",
      "Epoch 156/200\n",
      "20/20 [==============================] - 0s 6ms/step - loss: 0.4703 - accuracy: 0.7801 - val_loss: 0.6009 - val_accuracy: 0.7208\n",
      "Epoch 157/200\n",
      "20/20 [==============================] - 0s 7ms/step - loss: 0.4672 - accuracy: 0.7720 - val_loss: 0.6088 - val_accuracy: 0.7273\n",
      "Epoch 158/200\n",
      "20/20 [==============================] - 0s 7ms/step - loss: 0.4765 - accuracy: 0.7606 - val_loss: 0.6081 - val_accuracy: 0.7208\n",
      "Epoch 159/200\n",
      "20/20 [==============================] - 0s 7ms/step - loss: 0.4608 - accuracy: 0.7801 - val_loss: 0.6044 - val_accuracy: 0.7208\n",
      "Epoch 160/200\n",
      "20/20 [==============================] - 0s 8ms/step - loss: 0.4655 - accuracy: 0.7785 - val_loss: 0.6126 - val_accuracy: 0.7208\n",
      "Epoch 161/200\n",
      "20/20 [==============================] - 0s 11ms/step - loss: 0.4714 - accuracy: 0.7801 - val_loss: 0.6075 - val_accuracy: 0.7273\n",
      "Epoch 162/200\n",
      "20/20 [==============================] - 0s 12ms/step - loss: 0.4646 - accuracy: 0.7866 - val_loss: 0.5949 - val_accuracy: 0.7273\n",
      "Epoch 163/200\n",
      "20/20 [==============================] - 0s 12ms/step - loss: 0.4710 - accuracy: 0.7801 - val_loss: 0.5906 - val_accuracy: 0.7208\n",
      "Epoch 164/200\n",
      "20/20 [==============================] - 0s 7ms/step - loss: 0.4799 - accuracy: 0.7752 - val_loss: 0.5905 - val_accuracy: 0.7143\n",
      "Epoch 165/200\n",
      "20/20 [==============================] - 0s 10ms/step - loss: 0.4884 - accuracy: 0.7638 - val_loss: 0.5777 - val_accuracy: 0.7208\n",
      "Epoch 166/200\n",
      "20/20 [==============================] - 0s 8ms/step - loss: 0.4639 - accuracy: 0.7801 - val_loss: 0.5809 - val_accuracy: 0.7143\n",
      "Epoch 167/200\n",
      "20/20 [==============================] - 0s 11ms/step - loss: 0.4743 - accuracy: 0.7915 - val_loss: 0.5827 - val_accuracy: 0.7143\n",
      "Epoch 168/200\n",
      "20/20 [==============================] - 0s 12ms/step - loss: 0.4763 - accuracy: 0.7638 - val_loss: 0.5813 - val_accuracy: 0.7208\n",
      "Epoch 169/200\n",
      "20/20 [==============================] - 0s 12ms/step - loss: 0.4846 - accuracy: 0.7671 - val_loss: 0.5806 - val_accuracy: 0.7273\n",
      "Epoch 170/200\n",
      "20/20 [==============================] - 0s 12ms/step - loss: 0.4667 - accuracy: 0.7769 - val_loss: 0.5862 - val_accuracy: 0.7208\n",
      "Epoch 171/200\n",
      "20/20 [==============================] - 0s 9ms/step - loss: 0.4681 - accuracy: 0.7687 - val_loss: 0.5952 - val_accuracy: 0.7208\n",
      "Epoch 172/200\n",
      "20/20 [==============================] - 0s 9ms/step - loss: 0.4791 - accuracy: 0.7736 - val_loss: 0.5934 - val_accuracy: 0.7208\n",
      "Epoch 173/200\n",
      "20/20 [==============================] - 0s 13ms/step - loss: 0.4625 - accuracy: 0.7834 - val_loss: 0.5999 - val_accuracy: 0.7208\n",
      "Epoch 174/200\n",
      "20/20 [==============================] - 0s 13ms/step - loss: 0.4572 - accuracy: 0.7801 - val_loss: 0.6073 - val_accuracy: 0.7208\n",
      "Epoch 175/200\n",
      "20/20 [==============================] - 0s 12ms/step - loss: 0.4735 - accuracy: 0.7687 - val_loss: 0.5967 - val_accuracy: 0.7143\n",
      "Epoch 176/200\n",
      "20/20 [==============================] - 0s 12ms/step - loss: 0.4569 - accuracy: 0.7752 - val_loss: 0.5962 - val_accuracy: 0.7143\n",
      "Epoch 177/200\n",
      "20/20 [==============================] - 0s 12ms/step - loss: 0.4614 - accuracy: 0.7752 - val_loss: 0.5954 - val_accuracy: 0.7208\n",
      "Epoch 178/200\n",
      "20/20 [==============================] - 0s 7ms/step - loss: 0.4710 - accuracy: 0.7655 - val_loss: 0.5939 - val_accuracy: 0.7208\n",
      "Epoch 179/200\n",
      "20/20 [==============================] - 0s 9ms/step - loss: 0.4731 - accuracy: 0.7818 - val_loss: 0.5924 - val_accuracy: 0.7208\n",
      "Epoch 180/200\n",
      "20/20 [==============================] - 0s 10ms/step - loss: 0.4645 - accuracy: 0.7687 - val_loss: 0.6024 - val_accuracy: 0.7143\n",
      "Epoch 181/200\n",
      "20/20 [==============================] - 0s 8ms/step - loss: 0.4661 - accuracy: 0.7785 - val_loss: 0.5894 - val_accuracy: 0.7208\n",
      "Epoch 182/200\n",
      "20/20 [==============================] - 0s 10ms/step - loss: 0.4702 - accuracy: 0.7671 - val_loss: 0.5836 - val_accuracy: 0.7208\n",
      "Epoch 183/200\n",
      "20/20 [==============================] - 0s 7ms/step - loss: 0.4758 - accuracy: 0.7704 - val_loss: 0.5826 - val_accuracy: 0.7208\n",
      "Epoch 184/200\n",
      "20/20 [==============================] - 0s 11ms/step - loss: 0.4726 - accuracy: 0.7801 - val_loss: 0.5855 - val_accuracy: 0.7208\n",
      "Epoch 185/200\n",
      "20/20 [==============================] - 0s 13ms/step - loss: 0.4779 - accuracy: 0.7687 - val_loss: 0.5887 - val_accuracy: 0.7208\n",
      "Epoch 186/200\n",
      "20/20 [==============================] - 0s 13ms/step - loss: 0.4495 - accuracy: 0.7883 - val_loss: 0.5971 - val_accuracy: 0.7208\n",
      "Epoch 187/200\n",
      "20/20 [==============================] - 0s 13ms/step - loss: 0.4550 - accuracy: 0.7883 - val_loss: 0.5930 - val_accuracy: 0.7143\n",
      "Epoch 188/200\n",
      "20/20 [==============================] - 0s 11ms/step - loss: 0.4679 - accuracy: 0.7671 - val_loss: 0.5910 - val_accuracy: 0.7078\n",
      "Epoch 189/200\n",
      "20/20 [==============================] - 0s 8ms/step - loss: 0.4572 - accuracy: 0.7818 - val_loss: 0.5956 - val_accuracy: 0.7143\n",
      "Epoch 190/200\n",
      "20/20 [==============================] - 0s 13ms/step - loss: 0.4837 - accuracy: 0.7736 - val_loss: 0.5933 - val_accuracy: 0.7143\n",
      "Epoch 191/200\n",
      "20/20 [==============================] - 0s 13ms/step - loss: 0.4589 - accuracy: 0.7801 - val_loss: 0.5992 - val_accuracy: 0.7143\n",
      "Epoch 192/200\n",
      "20/20 [==============================] - 0s 13ms/step - loss: 0.4422 - accuracy: 0.7769 - val_loss: 0.6170 - val_accuracy: 0.7143\n",
      "Epoch 193/200\n",
      "20/20 [==============================] - 0s 13ms/step - loss: 0.4534 - accuracy: 0.7834 - val_loss: 0.6146 - val_accuracy: 0.7078\n",
      "Epoch 194/200\n",
      "20/20 [==============================] - 0s 11ms/step - loss: 0.4785 - accuracy: 0.7769 - val_loss: 0.6133 - val_accuracy: 0.6948\n",
      "Epoch 195/200\n",
      "20/20 [==============================] - 0s 12ms/step - loss: 0.4668 - accuracy: 0.7785 - val_loss: 0.6101 - val_accuracy: 0.6948\n",
      "Epoch 196/200\n",
      "20/20 [==============================] - 0s 13ms/step - loss: 0.4548 - accuracy: 0.7785 - val_loss: 0.6202 - val_accuracy: 0.7013\n",
      "Epoch 197/200\n",
      "20/20 [==============================] - 0s 13ms/step - loss: 0.4600 - accuracy: 0.7687 - val_loss: 0.6145 - val_accuracy: 0.7013\n",
      "Epoch 198/200\n",
      "20/20 [==============================] - 0s 12ms/step - loss: 0.4641 - accuracy: 0.7915 - val_loss: 0.6122 - val_accuracy: 0.7078\n",
      "Epoch 199/200\n",
      "20/20 [==============================] - 0s 12ms/step - loss: 0.4384 - accuracy: 0.7866 - val_loss: 0.6208 - val_accuracy: 0.7208\n",
      "Epoch 200/200\n",
      "20/20 [==============================] - 0s 13ms/step - loss: 0.4730 - accuracy: 0.7606 - val_loss: 0.6139 - val_accuracy: 0.7078\n"
     ]
    },
    {
     "data": {
      "text/plain": "<keras.src.callbacks.History at 0x11a39b8d5a0>"
     },
     "execution_count": 54,
     "metadata": {},
     "output_type": "execute_result"
    }
   ],
   "source": [
    "model.fit(X_train,y_train,epochs=200,initial_epoch=5,validation_data=[X_test,y_test])"
   ],
   "metadata": {
    "collapsed": false,
    "ExecuteTime": {
     "end_time": "2023-12-04T17:22:53.814649600Z",
     "start_time": "2023-12-04T17:22:11.683134900Z"
    }
   },
   "id": "7f256b6c1c83b2ea"
  },
  {
   "cell_type": "code",
   "execution_count": null,
   "outputs": [],
   "source": [],
   "metadata": {
    "collapsed": false
   },
   "id": "a306f93f276f68e1"
  }
 ],
 "metadata": {
  "kernelspec": {
   "display_name": "Python 3",
   "language": "python",
   "name": "python3"
  },
  "language_info": {
   "codemirror_mode": {
    "name": "ipython",
    "version": 2
   },
   "file_extension": ".py",
   "mimetype": "text/x-python",
   "name": "python",
   "nbconvert_exporter": "python",
   "pygments_lexer": "ipython2",
   "version": "2.7.6"
  }
 },
 "nbformat": 4,
 "nbformat_minor": 5
}
