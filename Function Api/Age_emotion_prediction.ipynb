{
 "cells": [
  {
   "cell_type": "code",
   "execution_count": 1,
   "id": "initial_id",
   "metadata": {
    "ExecuteTime": {
     "end_time": "2023-12-24T17:35:36.574658900Z",
     "start_time": "2023-12-24T17:35:33.540087200Z"
    },
    "collapsed": true
   },
   "outputs": [],
   "source": [
    "import os\n",
    "import numpy as np\n",
    "import pandas as pd\n",
    "from keras.preprocessing.image import ImageDataGenerator"
   ]
  },
  {
   "cell_type": "code",
   "execution_count": 2,
   "id": "e55e1d1ed9f039b5",
   "metadata": {
    "ExecuteTime": {
     "end_time": "2023-12-24T17:36:10.629782300Z",
     "start_time": "2023-12-24T17:36:10.517498800Z"
    },
    "collapsed": false
   },
   "outputs": [],
   "source": [
    "folder_path = 'UTKFace'"
   ]
  },
  {
   "cell_type": "code",
   "execution_count": 3,
   "id": "cfbf2b091b8bd312",
   "metadata": {
    "ExecuteTime": {
     "end_time": "2023-12-24T17:37:12.810815500Z",
     "start_time": "2023-12-24T17:37:12.772918500Z"
    },
    "collapsed": false
   },
   "outputs": [],
   "source": [
    "age = []\n",
    "gender = []\n",
    "img_path = []\n",
    "for file in os.listdir(folder_path):\n",
    "    age.append(int(file.split('_')[0]))\n",
    "    gender.append(int(file.split('_')[1]))\n",
    "    img_path.append(file)"
   ]
  },
  {
   "cell_type": "code",
   "execution_count": 4,
   "id": "aa08141345e86c89",
   "metadata": {
    "ExecuteTime": {
     "end_time": "2023-12-24T17:37:16.312451Z",
     "start_time": "2023-12-24T17:37:16.191121400Z"
    },
    "collapsed": false
   },
   "outputs": [
    {
     "data": {
      "text/plain": [
       "23708"
      ]
     },
     "execution_count": 4,
     "metadata": {},
     "output_type": "execute_result"
    }
   ],
   "source": [
    "len(age)"
   ]
  },
  {
   "cell_type": "code",
   "execution_count": 5,
   "id": "b3695776da4204fd",
   "metadata": {
    "ExecuteTime": {
     "end_time": "2023-12-24T17:38:05.136843800Z",
     "start_time": "2023-12-24T17:38:04.914575700Z"
    },
    "collapsed": false
   },
   "outputs": [],
   "source": [
    "df = pd.DataFrame({'age': age, 'gender':gender,'img':img_path})"
   ]
  },
  {
   "cell_type": "code",
   "execution_count": 6,
   "id": "94aeff9f0d5d83f",
   "metadata": {
    "ExecuteTime": {
     "end_time": "2023-12-24T17:38:08.562271800Z",
     "start_time": "2023-12-24T17:38:08.460329900Z"
    },
    "collapsed": false
   },
   "outputs": [
    {
     "data": {
      "text/plain": [
       "(23708, 3)"
      ]
     },
     "execution_count": 6,
     "metadata": {},
     "output_type": "execute_result"
    }
   ],
   "source": [
    "df.shape"
   ]
  },
  {
   "cell_type": "code",
   "execution_count": 8,
   "id": "eda3d5c72f8939df",
   "metadata": {
    "ExecuteTime": {
     "end_time": "2023-12-24T17:38:29.563439200Z",
     "start_time": "2023-12-24T17:38:29.425771900Z"
    },
    "collapsed": false
   },
   "outputs": [
    {
     "data": {
      "text/html": [
       "<div>\n",
       "<style scoped>\n",
       "    .dataframe tbody tr th:only-of-type {\n",
       "        vertical-align: middle;\n",
       "    }\n",
       "\n",
       "    .dataframe tbody tr th {\n",
       "        vertical-align: top;\n",
       "    }\n",
       "\n",
       "    .dataframe thead th {\n",
       "        text-align: right;\n",
       "    }\n",
       "</style>\n",
       "<table border=\"1\" class=\"dataframe\">\n",
       "  <thead>\n",
       "    <tr style=\"text-align: right;\">\n",
       "      <th></th>\n",
       "      <th>age</th>\n",
       "      <th>gender</th>\n",
       "      <th>img</th>\n",
       "    </tr>\n",
       "  </thead>\n",
       "  <tbody>\n",
       "    <tr>\n",
       "      <th>6365</th>\n",
       "      <td>26</td>\n",
       "      <td>0</td>\n",
       "      <td>26_0_2_20170116183004847.jpg.chip.jpg</td>\n",
       "    </tr>\n",
       "    <tr>\n",
       "      <th>20513</th>\n",
       "      <td>60</td>\n",
       "      <td>0</td>\n",
       "      <td>60_0_3_20170119210242095.jpg.chip.jpg</td>\n",
       "    </tr>\n",
       "    <tr>\n",
       "      <th>17162</th>\n",
       "      <td>47</td>\n",
       "      <td>0</td>\n",
       "      <td>47_0_0_20170117160014951.jpg.chip.jpg</td>\n",
       "    </tr>\n",
       "    <tr>\n",
       "      <th>16821</th>\n",
       "      <td>45</td>\n",
       "      <td>0</td>\n",
       "      <td>45_0_3_20170119203905073.jpg.chip.jpg</td>\n",
       "    </tr>\n",
       "    <tr>\n",
       "      <th>6283</th>\n",
       "      <td>26</td>\n",
       "      <td>0</td>\n",
       "      <td>26_0_2_20170104022540590.jpg.chip.jpg</td>\n",
       "    </tr>\n",
       "    <tr>\n",
       "      <th>8338</th>\n",
       "      <td>27</td>\n",
       "      <td>1</td>\n",
       "      <td>27_1_1_20170116000504802.jpg.chip.jpg</td>\n",
       "    </tr>\n",
       "    <tr>\n",
       "      <th>22916</th>\n",
       "      <td>85</td>\n",
       "      <td>1</td>\n",
       "      <td>85_1_0_20170110141027202.jpg.chip.jpg</td>\n",
       "    </tr>\n",
       "    <tr>\n",
       "      <th>1896</th>\n",
       "      <td>1</td>\n",
       "      <td>0</td>\n",
       "      <td>1_0_2_20161219203335428.jpg.chip.jpg</td>\n",
       "    </tr>\n",
       "    <tr>\n",
       "      <th>3538</th>\n",
       "      <td>22</td>\n",
       "      <td>1</td>\n",
       "      <td>22_1_1_20170114031355312.jpg.chip.jpg</td>\n",
       "    </tr>\n",
       "    <tr>\n",
       "      <th>18179</th>\n",
       "      <td>50</td>\n",
       "      <td>1</td>\n",
       "      <td>50_1_0_20170117121926916.jpg.chip.jpg</td>\n",
       "    </tr>\n",
       "  </tbody>\n",
       "</table>\n",
       "</div>"
      ],
      "text/plain": [
       "       age  gender                                    img\n",
       "6365    26       0  26_0_2_20170116183004847.jpg.chip.jpg\n",
       "20513   60       0  60_0_3_20170119210242095.jpg.chip.jpg\n",
       "17162   47       0  47_0_0_20170117160014951.jpg.chip.jpg\n",
       "16821   45       0  45_0_3_20170119203905073.jpg.chip.jpg\n",
       "6283    26       0  26_0_2_20170104022540590.jpg.chip.jpg\n",
       "8338    27       1  27_1_1_20170116000504802.jpg.chip.jpg\n",
       "22916   85       1  85_1_0_20170110141027202.jpg.chip.jpg\n",
       "1896     1       0   1_0_2_20161219203335428.jpg.chip.jpg\n",
       "3538    22       1  22_1_1_20170114031355312.jpg.chip.jpg\n",
       "18179   50       1  50_1_0_20170117121926916.jpg.chip.jpg"
      ]
     },
     "execution_count": 8,
     "metadata": {},
     "output_type": "execute_result"
    }
   ],
   "source": [
    "df.sample(10)"
   ]
  },
  {
   "cell_type": "code",
   "execution_count": 10,
   "id": "c523eef2c682710f",
   "metadata": {
    "ExecuteTime": {
     "end_time": "2023-12-24T17:40:20.296680500Z",
     "start_time": "2023-12-24T17:40:20.198699700Z"
    },
    "collapsed": false
   },
   "outputs": [],
   "source": [
    "train_df = df.sample(frac=1,random_state=0).iloc[:20000]\n",
    "test_df = df.sample(frac=1,random_state=0).iloc[20000:]"
   ]
  },
  {
   "cell_type": "code",
   "execution_count": 12,
   "id": "e5c853b807a2004b",
   "metadata": {
    "ExecuteTime": {
     "end_time": "2023-12-24T17:40:32.109527800Z",
     "start_time": "2023-12-24T17:40:32.011659900Z"
    },
    "collapsed": false
   },
   "outputs": [
    {
     "data": {
      "text/plain": [
       "(20000, 3)"
      ]
     },
     "execution_count": 12,
     "metadata": {},
     "output_type": "execute_result"
    }
   ],
   "source": [
    "train_df.shape"
   ]
  },
  {
   "cell_type": "code",
   "execution_count": 13,
   "id": "2b2c467569d6bd4e",
   "metadata": {
    "ExecuteTime": {
     "end_time": "2023-12-24T17:40:38.030030600Z",
     "start_time": "2023-12-24T17:40:37.995124200Z"
    },
    "collapsed": false
   },
   "outputs": [
    {
     "data": {
      "text/plain": [
       "(3708, 3)"
      ]
     },
     "execution_count": 13,
     "metadata": {},
     "output_type": "execute_result"
    }
   ],
   "source": [
    "test_df.shape"
   ]
  },
  {
   "cell_type": "code",
   "execution_count": 15,
   "id": "5d043c89f92ad7a4",
   "metadata": {
    "ExecuteTime": {
     "end_time": "2023-12-24T17:42:26.403960800Z",
     "start_time": "2023-12-24T17:42:26.388355700Z"
    },
    "collapsed": false
   },
   "outputs": [],
   "source": [
    "train_datagen = ImageDataGenerator(rescale=1./255,\n",
    "                                   rotation_range=30,\n",
    "                                   width_shift_range=0.2,\n",
    "                                   height_shift_range=0.2,\n",
    "                                   shear_range=0.2,\n",
    "                                   zoom_range=0.2,\n",
    "                                   horizontal_flip=True\n",
    "                                   )\n",
    "\n",
    "test_datagen = ImageDataGenerator(rescale=1./255)"
   ]
  },
  {
   "cell_type": "code",
   "execution_count": 16,
   "id": "1857747e6b246bd1",
   "metadata": {
    "ExecuteTime": {
     "end_time": "2023-12-24T17:45:07.968324Z",
     "start_time": "2023-12-24T17:45:07.047767200Z"
    },
    "collapsed": false
   },
   "outputs": [
    {
     "name": "stdout",
     "output_type": "stream",
     "text": [
      "Found 20000 validated image filenames.\n",
      "Found 3708 validated image filenames.\n"
     ]
    }
   ],
   "source": [
    "train_generator = train_datagen.flow_from_dataframe(train_df,directory=folder_path,x_col='img',y_col=['age','gender'],target_size=(200,200),class_mode='multi_output')\n",
    "\n",
    "test_generator = test_datagen.flow_from_dataframe(test_df,directory=folder_path,x_col='img',y_col=['age','gender'],target_size=(200,200),class_mode='multi_output')"
   ]
  },
  {
   "cell_type": "code",
   "execution_count": 18,
   "id": "a9fd98bf7f74a803",
   "metadata": {
    "ExecuteTime": {
     "end_time": "2023-12-24T17:45:45.168004100Z",
     "start_time": "2023-12-24T17:45:45.159027900Z"
    },
    "collapsed": false
   },
   "outputs": [],
   "source": [
    "from keras.applications import VGG16\n",
    "from keras.layers import *\n",
    "from keras.models import Model"
   ]
  },
  {
   "cell_type": "code",
   "execution_count": 20,
   "id": "821a7d01fb08e480",
   "metadata": {
    "ExecuteTime": {
     "end_time": "2023-12-24T17:46:37.563404900Z",
     "start_time": "2023-12-24T17:46:37.190251400Z"
    },
    "collapsed": false
   },
   "outputs": [],
   "source": [
    "vggnet = VGG16(include_top=False,input_shape=(200,200,3))"
   ]
  },
  {
   "cell_type": "code",
   "execution_count": 27,
   "id": "75594af74f9be00d",
   "metadata": {
    "ExecuteTime": {
     "end_time": "2023-12-24T18:00:45.700322900Z",
     "start_time": "2023-12-24T18:00:45.534443300Z"
    },
    "collapsed": false
   },
   "outputs": [],
   "source": [
    "vggnet.trainable=False\n",
    "output = vggnet.layers[-1].output\n",
    "flatten = Flatten()(output)\n",
    "\n",
    "\n",
    "dense1 = Dense(512,activation='relu')(flatten)\n",
    "dense2 = Dense(512,activation='relu')(flatten)\n",
    "\n",
    "dense3 = Dense(512,activation='relu')(dense1)\n",
    "dense4 = Dense(512,activation='relu')(dense2)\n",
    "\n",
    "output1 = Dense(1,activation='linear',name='age')(dense3)\n",
    "output2 = Dense(1,activation='sigmoid',name='gender')(dense4)"
   ]
  },
  {
   "cell_type": "code",
   "execution_count": 28,
   "id": "99527666e4f86d76",
   "metadata": {
    "ExecuteTime": {
     "end_time": "2023-12-24T18:00:46.966604100Z",
     "start_time": "2023-12-24T18:00:46.945658800Z"
    },
    "collapsed": false
   },
   "outputs": [],
   "source": [
    "model = Model(inputs=vggnet.input, outputs=[output1,output2])"
   ]
  },
  {
   "cell_type": "code",
   "execution_count": 29,
   "id": "d6cffff9482dc0ac",
   "metadata": {
    "ExecuteTime": {
     "end_time": "2023-12-24T18:00:47.776589Z",
     "start_time": "2023-12-24T18:00:47.728717200Z"
    },
    "collapsed": false
   },
   "outputs": [
    {
     "name": "stdout",
     "output_type": "stream",
     "text": [
      "Model: \"model_1\"\n",
      "__________________________________________________________________________________________________\n",
      " Layer (type)                Output Shape                 Param #   Connected to                  \n",
      "==================================================================================================\n",
      " input_2 (InputLayer)        [(None, 200, 200, 3)]        0         []                            \n",
      "                                                                                                  \n",
      " block1_conv1 (Conv2D)       (None, 200, 200, 64)         1792      ['input_2[0][0]']             \n",
      "                                                                                                  \n",
      " block1_conv2 (Conv2D)       (None, 200, 200, 64)         36928     ['block1_conv1[0][0]']        \n",
      "                                                                                                  \n",
      " block1_pool (MaxPooling2D)  (None, 100, 100, 64)         0         ['block1_conv2[0][0]']        \n",
      "                                                                                                  \n",
      " block2_conv1 (Conv2D)       (None, 100, 100, 128)        73856     ['block1_pool[0][0]']         \n",
      "                                                                                                  \n",
      " block2_conv2 (Conv2D)       (None, 100, 100, 128)        147584    ['block2_conv1[0][0]']        \n",
      "                                                                                                  \n",
      " block2_pool (MaxPooling2D)  (None, 50, 50, 128)          0         ['block2_conv2[0][0]']        \n",
      "                                                                                                  \n",
      " block3_conv1 (Conv2D)       (None, 50, 50, 256)          295168    ['block2_pool[0][0]']         \n",
      "                                                                                                  \n",
      " block3_conv2 (Conv2D)       (None, 50, 50, 256)          590080    ['block3_conv1[0][0]']        \n",
      "                                                                                                  \n",
      " block3_conv3 (Conv2D)       (None, 50, 50, 256)          590080    ['block3_conv2[0][0]']        \n",
      "                                                                                                  \n",
      " block3_pool (MaxPooling2D)  (None, 25, 25, 256)          0         ['block3_conv3[0][0]']        \n",
      "                                                                                                  \n",
      " block4_conv1 (Conv2D)       (None, 25, 25, 512)          1180160   ['block3_pool[0][0]']         \n",
      "                                                                                                  \n",
      " block4_conv2 (Conv2D)       (None, 25, 25, 512)          2359808   ['block4_conv1[0][0]']        \n",
      "                                                                                                  \n",
      " block4_conv3 (Conv2D)       (None, 25, 25, 512)          2359808   ['block4_conv2[0][0]']        \n",
      "                                                                                                  \n",
      " block4_pool (MaxPooling2D)  (None, 12, 12, 512)          0         ['block4_conv3[0][0]']        \n",
      "                                                                                                  \n",
      " block5_conv1 (Conv2D)       (None, 12, 12, 512)          2359808   ['block4_pool[0][0]']         \n",
      "                                                                                                  \n",
      " block5_conv2 (Conv2D)       (None, 12, 12, 512)          2359808   ['block5_conv1[0][0]']        \n",
      "                                                                                                  \n",
      " block5_conv3 (Conv2D)       (None, 12, 12, 512)          2359808   ['block5_conv2[0][0]']        \n",
      "                                                                                                  \n",
      " block5_pool (MaxPooling2D)  (None, 6, 6, 512)            0         ['block5_conv3[0][0]']        \n",
      "                                                                                                  \n",
      " flatten_1 (Flatten)         (None, 18432)                0         ['block5_pool[0][0]']         \n",
      "                                                                                                  \n",
      " dense_6 (Dense)             (None, 512)                  9437696   ['flatten_1[0][0]']           \n",
      "                                                                                                  \n",
      " dense_7 (Dense)             (None, 512)                  9437696   ['flatten_1[0][0]']           \n",
      "                                                                                                  \n",
      " dense_8 (Dense)             (None, 512)                  262656    ['dense_6[0][0]']             \n",
      "                                                                                                  \n",
      " dense_9 (Dense)             (None, 512)                  262656    ['dense_7[0][0]']             \n",
      "                                                                                                  \n",
      " age (Dense)                 (None, 1)                    513       ['dense_8[0][0]']             \n",
      "                                                                                                  \n",
      " gender (Dense)              (None, 1)                    513       ['dense_9[0][0]']             \n",
      "                                                                                                  \n",
      "==================================================================================================\n",
      "Total params: 34116418 (130.14 MB)\n",
      "Trainable params: 19401730 (74.01 MB)\n",
      "Non-trainable params: 14714688 (56.13 MB)\n",
      "__________________________________________________________________________________________________\n"
     ]
    }
   ],
   "source": [
    "model.summary()"
   ]
  },
  {
   "cell_type": "code",
   "execution_count": 30,
   "id": "f7fb041e7bcc5074",
   "metadata": {
    "ExecuteTime": {
     "end_time": "2023-12-24T18:00:48.313112800Z",
     "start_time": "2023-12-24T18:00:48.286039100Z"
    },
    "collapsed": false
   },
   "outputs": [],
   "source": [
    "model.compile(optimizer='adam',loss={'age':'mae','gender':'binary_crossentropy'},metrics={'age':'mae','gender':'accuracy'},loss_weights={'age':1,'gender':99})"
   ]
  },
  {
   "cell_type": "code",
   "execution_count": null,
   "id": "5963611bc4ed940a",
   "metadata": {
    "ExecuteTime": {
     "start_time": "2023-12-24T18:01:22.445194800Z"
    },
    "collapsed": false,
    "is_executing": true
   },
   "outputs": [
    {
     "name": "stdout",
     "output_type": "stream",
     "text": [
      "356/625 [================>.............] - ETA: 12:20 - loss: 65.3781 - age_loss: 11.3253 - gender_loss: 0.5460 - age_mae: 11.3253 - gender_accuracy: 0.7190"
     ]
    }
   ],
   "source": [
    "model.fit(train_generator,batch_size=128,epochs=1,validation_data=test_generator)"
   ]
  },
  {
   "cell_type": "code",
   "execution_count": null,
   "id": "3e31b3d8a5a0f7e",
   "metadata": {
    "collapsed": false
   },
   "outputs": [],
   "source": []
  }
 ],
 "metadata": {
  "kernelspec": {
   "display_name": "Python 3",
   "language": "python",
   "name": "python3"
  },
  "language_info": {
   "codemirror_mode": {
    "name": "ipython",
    "version": 2
   },
   "file_extension": ".py",
   "mimetype": "text/x-python",
   "name": "python",
   "nbconvert_exporter": "python",
   "pygments_lexer": "ipython2",
   "version": "2.7.6"
  }
 },
 "nbformat": 4,
 "nbformat_minor": 5
}
