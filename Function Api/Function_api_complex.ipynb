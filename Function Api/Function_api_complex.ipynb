{
 "cells": [
  {
   "cell_type": "code",
   "execution_count": 1,
   "id": "initial_id",
   "metadata": {
    "collapsed": true,
    "ExecuteTime": {
     "end_time": "2023-12-24T17:21:05.983458800Z",
     "start_time": "2023-12-24T17:21:02.943943300Z"
    }
   },
   "outputs": [],
   "source": [
    "from keras.layers import *\n",
    "from keras.models import Model"
   ]
  },
  {
   "cell_type": "code",
   "execution_count": 4,
   "outputs": [],
   "source": [
    "inputA = Input(shape=(32,))\n",
    "inputB = Input(shape=(128,))"
   ],
   "metadata": {
    "collapsed": false,
    "ExecuteTime": {
     "end_time": "2023-12-24T17:22:37.588946700Z",
     "start_time": "2023-12-24T17:22:37.570692500Z"
    }
   },
   "id": "e7ab4473f3966a67"
  },
  {
   "cell_type": "code",
   "execution_count": 5,
   "outputs": [],
   "source": [
    "x = Dense(8,activation='relu')(inputA)\n",
    "x1 = Dense(4,activation='relu')(x)"
   ],
   "metadata": {
    "collapsed": false,
    "ExecuteTime": {
     "end_time": "2023-12-24T17:22:38.088670Z",
     "start_time": "2023-12-24T17:22:38.057471900Z"
    }
   },
   "id": "2e0ee9c8ea0d21c6"
  },
  {
   "cell_type": "code",
   "execution_count": 6,
   "outputs": [],
   "source": [
    "y = Dense(64,activation='relu')(inputB)\n",
    "y1 = Dense(32,activation='relu')(y)\n",
    "y2 = Dense(4,activation='relu')(y1)"
   ],
   "metadata": {
    "collapsed": false,
    "ExecuteTime": {
     "end_time": "2023-12-24T17:23:06.749848100Z",
     "start_time": "2023-12-24T17:23:06.697984800Z"
    }
   },
   "id": "5ab65166f929e676"
  },
  {
   "cell_type": "code",
   "execution_count": 7,
   "outputs": [],
   "source": [
    "combined = concatenate([x1,y2])"
   ],
   "metadata": {
    "collapsed": false,
    "ExecuteTime": {
     "end_time": "2023-12-24T17:24:26.697691100Z",
     "start_time": "2023-12-24T17:24:26.558466400Z"
    }
   },
   "id": "b5455870129f2180"
  },
  {
   "cell_type": "code",
   "execution_count": 8,
   "outputs": [],
   "source": [
    "z = Dense(2,activation='relu')(combined)\n",
    "z1 = Dense(1,activation='relu')(z)"
   ],
   "metadata": {
    "collapsed": false,
    "ExecuteTime": {
     "end_time": "2023-12-24T17:25:00.904406400Z",
     "start_time": "2023-12-24T17:25:00.844230200Z"
    }
   },
   "id": "ad41d5a83fb3d5dc"
  },
  {
   "cell_type": "code",
   "execution_count": 9,
   "outputs": [],
   "source": [
    "model = Model(inputs=[inputA,inputB],outputs=z1)"
   ],
   "metadata": {
    "collapsed": false,
    "ExecuteTime": {
     "end_time": "2023-12-24T17:25:40.149689100Z",
     "start_time": "2023-12-24T17:25:40.092071200Z"
    }
   },
   "id": "2531e96c0abab26f"
  },
  {
   "cell_type": "code",
   "execution_count": 10,
   "outputs": [
    {
     "name": "stdout",
     "output_type": "stream",
     "text": [
      "You must install pydot (`pip install pydot`) and install graphviz (see instructions at https://graphviz.gitlab.io/download/) for plot_model to work.\n"
     ]
    }
   ],
   "source": [
    "from keras.utils import plot_model\n",
    "plot_model(model)"
   ],
   "metadata": {
    "collapsed": false,
    "ExecuteTime": {
     "end_time": "2023-12-24T17:26:04.102898800Z",
     "start_time": "2023-12-24T17:26:04.070983800Z"
    }
   },
   "id": "7bb1177af547c951"
  },
  {
   "cell_type": "code",
   "execution_count": null,
   "outputs": [],
   "source": [],
   "metadata": {
    "collapsed": false
   },
   "id": "29b4b2c1548c2624"
  }
 ],
 "metadata": {
  "kernelspec": {
   "display_name": "Python 3",
   "language": "python",
   "name": "python3"
  },
  "language_info": {
   "codemirror_mode": {
    "name": "ipython",
    "version": 2
   },
   "file_extension": ".py",
   "mimetype": "text/x-python",
   "name": "python",
   "nbconvert_exporter": "python",
   "pygments_lexer": "ipython2",
   "version": "2.7.6"
  }
 },
 "nbformat": 4,
 "nbformat_minor": 5
}
